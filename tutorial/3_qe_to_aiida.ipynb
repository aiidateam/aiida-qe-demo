{
 "cells": [
  {
   "cell_type": "markdown",
   "metadata": {},
   "source": [
    "# Migrating to AiiDA\n",
    "\n",
    ":::{admonition} Learning Objectives\n",
    ":class: learning-objectives\n",
    "\n",
    "In this section, we will look at how to migrate from running a quantum code from text-based input files, to running it within AiiDA, and understand how AiiDA automates the computation execution and output parsing.\n",
    "\n",
    "We shall take the example of Quantum ESPRESSO, but the same principles apply to any other code.\n",
    "This would be a typical command line script to run a Quantum ESPRESSO relaxation:\n",
    "\n",
    "```console\n",
    "$ mpirun -np 2 pw.x -in pwx.in > pwx.out\n",
    "```\n",
    "\n",
    ":::\n"
   ]
  },
  {
   "cell_type": "markdown",
   "metadata": {},
   "source": [
    "## Modularising the inputs\n",
    "\n",
    "The first step is to modularise the inputs within the `input.in` file, and any pseudo-potential files.\n",
    "\n",
    "By splitting them into separate components, we can create **re-usable** building blocks for multiple calculations.\n",
    "We shall also see later how these components can be generated from external data sources, such as databases or web APIs.\n",
    "\n",
    "![pw-to-aiida](_static/pw-to-aiida.svg){height=500px}\n"
   ]
  },
  {
   "cell_type": "markdown",
   "metadata": {},
   "source": [
    "In the diagram above, we have split the input generation into separate entities, handling the different aspects of the calculation and allowing for component re-use.\n",
    "For a `pw.x` calculation, we need to create the following nodes:\n",
    "\n",
    "- {term}`Computer`, which describes how we interface with a compute resource\n",
    "- {term}`Code`, which contains the information on how to execute a single calculation\n",
    "- `StructureData`, which contains the crystal structure\n",
    "- `UpfData`, which contains the pseudo-potentials per atomic\n",
    "- `KpointsData`, which contains the k-point mesh\n",
    "- `Dict` node, which contains the parameters for the calculation\n"
   ]
  },
  {
   "cell_type": "markdown",
   "metadata": {},
   "source": [
    "## The AiiDA Profile\n",
    "\n",
    "First we need to create a new AiiDA profile.\n",
    "This is where we store all the nodes generated for a project, and the links between them.\n"
   ]
  },
  {
   "cell_type": "markdown",
   "metadata": {},
   "source": [
    ":::{note}\n",
    "\n",
    "Here we generate a profile with temporary, in-memory storage, which will be destroyed when the Python is restarted.\n",
    "This is useful for testing, but for a real project, you would create a persistent profile connected to a PostgreSQL database,\n",
    "using the `verdi quicksetup` command.\n",
    "\n",
    ":::\n"
   ]
  },
  {
   "cell_type": "code",
   "execution_count": 1,
   "metadata": {
    "tags": [
     "hide-cell"
    ]
   },
   "outputs": [
    {
     "data": {
      "text/plain": [
       "AiiDALoaded(profile=Profile<uuid='5dd18d647c2a43f488d2af795315388e' name='qe-to-aiida'>, computer=None, code=None, pseudos=None, structure=None, cpu_count=2, workdir=PosixPath('/Users/chrisjsewell/Documents/GitHub/aiida-qe-demo/tutorial/local_module/_aiida_workdir/qe-to-aiida'), pwx_path=PosixPath('/Users/chrisjsewell/opt/miniconda3/envs/aiida-qe-demo/bin/pw.x'))"
      ]
     },
     "execution_count": 1,
     "metadata": {},
     "output_type": "execute_result"
    }
   ],
   "source": [
    "from local_module import load_temp_profile\n",
    "\n",
    "data = load_temp_profile(name=\"qe-to-aiida\")\n",
    "data"
   ]
  },
  {
   "cell_type": "code",
   "execution_count": 2,
   "metadata": {},
   "outputs": [
    {
     "data": {
      "text/plain": [
       "Profile<uuid='5dd18d647c2a43f488d2af795315388e' name='qe-to-aiida'>"
      ]
     },
     "execution_count": 2,
     "metadata": {},
     "output_type": "execute_result"
    }
   ],
   "source": [
    "import aiida\n",
    "\n",
    "profile = aiida.load_profile(\"qe-to-aiida\")\n",
    "profile"
   ]
  },
  {
   "cell_type": "code",
   "execution_count": 3,
   "metadata": {},
   "outputs": [
    {
     "name": "stdout",
     "output_type": "stream",
     "text": [
      "\u001b[34m\u001b[1mReport\u001b[0m: \u001b[22mProfile: qe-to-aiida\u001b[0m\n",
      "\u001b[22mPROFILE_UUID: 5dd18d647c2a43f488d2af795315388e\n",
      "default_user_email: user@email.com\n",
      "options:\n",
      "  runner.poll.interval: 1\n",
      "process_control:\n",
      "  backend: 'null'\n",
      "  config: {}\n",
      "storage:\n",
      "  backend: sqlite_temp\n",
      "  config:\n",
      "    debug: false\n",
      "    repository_uri: file:///Users/chrisjsewell/Documents/GitHub/aiida-qe-demo/tutorial/local_module/_aiida_path/.aiida/repository/qe-to-aiida\n",
      "\u001b[0m\n"
     ]
    }
   ],
   "source": [
    "%verdi profile show qe-to-aiida"
   ]
  },
  {
   "cell_type": "markdown",
   "metadata": {},
   "source": [
    "We can check on the status of the profile using the `verdi status` command.\n"
   ]
  },
  {
   "cell_type": "code",
   "execution_count": 4,
   "metadata": {},
   "outputs": [
    {
     "name": "stdout",
     "output_type": "stream",
     "text": [
      "\u001b[32m\u001b[22m ✔ \u001b[0m\u001b[22mversion:     AiiDA v2.0.4\u001b[0m\n",
      "\u001b[32m\u001b[22m ✔ \u001b[0m\u001b[22mconfig:      /Users/chrisjsewell/Documents/GitHub/aiida-qe-demo/tutorial/local_module/_aiida_path/.aiida\u001b[0m\n",
      "\u001b[32m\u001b[22m ✔ \u001b[0m\u001b[22mprofile:     qe-to-aiida\u001b[0m\n",
      "\u001b[32m\u001b[22m ✔ \u001b[0m\u001b[22mstorage:     SqliteTemp storage [open], sandbox: /Users/chrisjsewell/Documents/GitHub/aiida-qe-demo/tutorial/local_module/_aiida_path/.aiida/repository/qe-to-aiida\u001b[0m\n",
      "\u001b[33m\u001b[22m ⏺ \u001b[0m\u001b[22mdaemon:      The daemon is not running\u001b[0m\n"
     ]
    }
   ],
   "source": [
    "%verdi -p qe-to-aiida status --no-rmq"
   ]
  },
  {
   "cell_type": "markdown",
   "metadata": {},
   "source": [
    "We can also check the statistics of the profile's storage.\n",
    "Before running any simulations, we see that only a single {term}`User` node has been created, which is the default creator of data for the profile.\n"
   ]
  },
  {
   "cell_type": "code",
   "execution_count": 5,
   "metadata": {},
   "outputs": [
    {
     "name": "stdout",
     "output_type": "stream",
     "text": [
      "\u001b[22mentities:\n",
      "  Users:\n",
      "    count: 1\n",
      "  Computers:\n",
      "    count: 0\n",
      "  Nodes:\n",
      "    count: 0\n",
      "  Groups:\n",
      "    count: 0\n",
      "  Comments:\n",
      "    count: 0\n",
      "  Logs:\n",
      "    count: 0\n",
      "  Links:\n",
      "    count: 0\n",
      "\u001b[0m\n"
     ]
    }
   ],
   "source": [
    "%verdi storage info"
   ]
  },
  {
   "cell_type": "markdown",
   "metadata": {},
   "source": [
    "## Connecting to a compute resource\n"
   ]
  },
  {
   "cell_type": "markdown",
   "metadata": {},
   "source": [
    "An AiiDA {term}`Computer` represents a compute resource, such as a local or remote machine.\n",
    "It contains information on how to connect to the machine, how to **transport** data to/from the compute resource, and how to **schedule** jobs on it.\n",
    "\n",
    "In the following we will use a simple `local_direct` computer, which connects to the local machine, and runs the calculations directly, without any scheduler.\n",
    "\n",
    "AiiDA also has built-in support for a number of {term}`Scheduler`s, including:\n",
    "\n",
    "- `pbspro`\n",
    "- `slurm`\n",
    "- `sge`\n",
    "- `torque`\n",
    "- `lsf`\n",
    "\n",
    "Connections to remote machines can be made using the `SSH` {term}`Transport`, and [aiida-code-registry](https://github.com/aiidateam/aiida-code-registry) provides a collection of example configurations for Swiss based HPC clusters.\n",
    "\n",
    "We can create the computer using the `verdi computer setup` CLI.\n"
   ]
  },
  {
   "cell_type": "code",
   "execution_count": 6,
   "metadata": {},
   "outputs": [
    {
     "name": "stdout",
     "output_type": "stream",
     "text": [
      "\u001b[32m\u001b[1mSuccess: \u001b[0m\u001b[22mComputer<1> local_direct created\u001b[0m\n",
      "\u001b[34m\u001b[1mReport\u001b[0m: \u001b[22mNote: before the computer can be used, it has to be configured with the command:\u001b[0m\n",
      "\u001b[34m\u001b[1mReport\u001b[0m: \u001b[22m  verdi -p qe-to-aiida computer configure core.local local_direct\u001b[0m\n"
     ]
    }
   ],
   "source": [
    "%verdi computer setup \\\n",
    "    --non-interactive \\\n",
    "    --label local_direct \\\n",
    "    --hostname localhost \\\n",
    "    --description \"Local computer with direct scheduler\" \\\n",
    "    --transport core.local \\\n",
    "    --scheduler core.direct \\\n",
    "    --work-dir {data.workdir} \\\n",
    "    --mpiprocs-per-machine {data.cpu_count}"
   ]
  },
  {
   "cell_type": "code",
   "execution_count": 7,
   "metadata": {},
   "outputs": [
    {
     "name": "stdout",
     "output_type": "stream",
     "text": [
      "\u001b[34m\u001b[1mReport\u001b[0m: \u001b[22mConfiguring computer local_direct for user user@email.com.\u001b[0m\n",
      "\u001b[32m\u001b[1mSuccess: \u001b[0m\u001b[22mlocal_direct successfully configured for user@email.com\u001b[0m\n"
     ]
    }
   ],
   "source": [
    "%verdi computer configure core.local local_direct \\\n",
    "    --non-interactive \\\n",
    "    --safe-interval 0"
   ]
  },
  {
   "cell_type": "markdown",
   "metadata": {},
   "source": [
    "Or we can use the `Computer` class from the `aiida.orm` API module.\n"
   ]
  },
  {
   "cell_type": "code",
   "execution_count": 8,
   "metadata": {},
   "outputs": [
    {
     "data": {
      "text/plain": [
       "<Computer: local_direct (localhost), pk: 1>"
      ]
     },
     "execution_count": 8,
     "metadata": {},
     "output_type": "execute_result"
    }
   ],
   "source": [
    "created, computer = aiida.orm.Computer.collection.get_or_create(\n",
    "    label=\"local_direct\",\n",
    "    description=\"local computer with direct scheduler\",\n",
    "    hostname=\"localhost\",\n",
    "    workdir=str(data.workdir),\n",
    "    transport_type=\"core.local\",\n",
    "    scheduler_type=\"core.direct\",\n",
    ")\n",
    "if created:\n",
    "    computer.store()\n",
    "    computer.set_minimum_job_poll_interval(0.0)\n",
    "    computer.set_default_mpiprocs_per_machine(data.cpu_count)\n",
    "    computer.configure()\n",
    "computer"
   ]
  },
  {
   "cell_type": "markdown",
   "metadata": {},
   "source": [
    "Now we have a computer, ready to run calculations on.\n"
   ]
  },
  {
   "cell_type": "code",
   "execution_count": 9,
   "metadata": {},
   "outputs": [
    {
     "name": "stdout",
     "output_type": "stream",
     "text": [
      "\u001b[22m---------------------------  ---------------------------------------------------------------------------------------------------\n",
      "Label                        local_direct\n",
      "PK                           1\n",
      "UUID                         3d034da3-1647-4787-a688-3f559c733c21\n",
      "Description                  Local computer with direct scheduler\n",
      "Hostname                     localhost\n",
      "Transport type               core.local\n",
      "Scheduler type               core.direct\n",
      "Work directory               /Users/chrisjsewell/Documents/GitHub/aiida-qe-demo/tutorial/local_module/_aiida_workdir/qe-to-aiida\n",
      "Shebang                      #!/bin/bash\n",
      "Mpirun command               mpirun -np {tot_num_mpiprocs}\n",
      "Default #procs/machine       2\n",
      "Default memory (kB)/machine\n",
      "Prepend text\n",
      "Append text\n",
      "---------------------------  ---------------------------------------------------------------------------------------------------\u001b[0m\n"
     ]
    }
   ],
   "source": [
    "%verdi computer show local_direct"
   ]
  },
  {
   "cell_type": "markdown",
   "metadata": {},
   "source": [
    "## Setting up a code plugin\n"
   ]
  },
  {
   "cell_type": "markdown",
   "metadata": {},
   "source": [
    "An AiiDA {term}`Code` represent a single executable, and contain information on how to execute it.\n",
    "The `Code` node is associated with a specific `Computer`, contains the path to the executable, and is associated with a specific {term}`CalcJob` plugin we shall discuss later.\n"
   ]
  },
  {
   "cell_type": "markdown",
   "metadata": {},
   "source": [
    "Again, we can use either the CLI or the API to create a new `Code` node.\n"
   ]
  },
  {
   "cell_type": "code",
   "execution_count": 10,
   "metadata": {},
   "outputs": [
    {
     "name": "stdout",
     "output_type": "stream",
     "text": [
      "\u001b[32m\u001b[1mSuccess: \u001b[0m\u001b[22mCode<1> pw.x@local_direct created\u001b[0m\n"
     ]
    }
   ],
   "source": [
    "%verdi code setup \\\n",
    "    --non-interactive \\\n",
    "    --label pw.x \\\n",
    "    --description \"Quantum ESPRESSO pw.x code\" \\\n",
    "    --computer local_direct \\\n",
    "    --remote-abs-path {data.pwx_path} \\\n",
    "    --input-plugin quantumespresso.pw \\\n",
    "    --prepend-text \"export OMP_NUM_THREADS=1\""
   ]
  },
  {
   "cell_type": "code",
   "execution_count": 11,
   "metadata": {},
   "outputs": [
    {
     "data": {
      "text/plain": [
       "<Code: Remote code 'pw.x' on local_direct, pk: 1, uuid: 615f6cbc-1c45-47ec-b3a3-4fda3846d948>"
      ]
     },
     "execution_count": 11,
     "metadata": {},
     "output_type": "execute_result"
    }
   ],
   "source": [
    "try:\n",
    "    code = aiida.orm.load_code(\"pw.x@local_direct\")\n",
    "except aiida.common.NotExistent:\n",
    "    code = aiida.orm.Code(\n",
    "        input_plugin_name=\"quantumespresso.pw\",\n",
    "        remote_computer_exec=[computer, data.pwx_path],\n",
    "    )\n",
    "    code.label = \"pw.x\"\n",
    "    code.description = \"Quantum ESPRESSO pw.x code\"\n",
    "    code.set_prepend_text(\"export OMP_NUM_THREADS=1\")\n",
    "    code.store()\n",
    "code"
   ]
  },
  {
   "cell_type": "markdown",
   "metadata": {},
   "source": [
    "Now we have a code ready to run our computations.\n"
   ]
  },
  {
   "cell_type": "code",
   "execution_count": 12,
   "metadata": {},
   "outputs": [
    {
     "name": "stdout",
     "output_type": "stream",
     "text": [
      "\u001b[22m--------------------  --------------------------------------------------------------\n",
      "PK                    1\n",
      "UUID                  615f6cbc-1c45-47ec-b3a3-4fda3846d948\n",
      "Label                 pw.x\n",
      "Description           Quantum ESPRESSO pw.x code\n",
      "Default plugin        quantumespresso.pw\n",
      "Type                  remote\n",
      "Remote machine        local_direct\n",
      "Remote absolute path  /Users/chrisjsewell/opt/miniconda3/envs/aiida-qe-demo/bin/pw.x\n",
      "Prepend text          export OMP_NUM_THREADS=1\n",
      "Append text\n",
      "--------------------  --------------------------------------------------------------\u001b[0m\n"
     ]
    }
   ],
   "source": [
    "%verdi code show pw.x"
   ]
  },
  {
   "cell_type": "markdown",
   "metadata": {},
   "source": [
    "## Deconstructing the input file\n"
   ]
  },
  {
   "cell_type": "markdown",
   "metadata": {},
   "source": [
    "Let's now take a look at a typical `pw.x` input file, and how we can convert it to the requisite AiiDA nodes.\n",
    "\n",
    ":::{note}\n",
    "\n",
    "Here we are simply generating the inputs from a pre-written input file.\n",
    "But in practice, you would want to generate the inputs from a Python script, or from a database or web API, as we shall see in the next section.\n",
    "\n",
    ":::\n"
   ]
  },
  {
   "cell_type": "code",
   "execution_count": 13,
   "metadata": {
    "tags": [
     "hide-output"
    ]
   },
   "outputs": [
    {
     "name": "stdout",
     "output_type": "stream",
     "text": [
      "&CONTROL\n",
      "  calculation = 'relax'\n",
      "  etot_conv_thr =   2.0000000000d-04\n",
      "  forc_conv_thr =   1.0000000000d-03\n",
      "  max_seconds =   86400\n",
      "  outdir = './out/'\n",
      "  prefix = 'aiida'\n",
      "  pseudo_dir = './pseudo/'\n",
      "  restart_mode = 'from_scratch'\n",
      "  tprnfor = .true.\n",
      "  tstress = .true.\n",
      "  verbosity = 'high'\n",
      "/\n",
      "&SYSTEM\n",
      "  degauss =   1.0000000000d-02\n",
      "  ecutrho =   2.4000000000d+02\n",
      "  ecutwfc =   3.0000000000d+01\n",
      "  ibrav = 0\n",
      "  nat = 2\n",
      "  nosym = .false.\n",
      "  ntyp = 1\n",
      "  occupations = 'smearing'\n",
      "  smearing = 'cold'\n",
      "/\n",
      "&ELECTRONS\n",
      "  conv_thr =   8.0000000000d-10\n",
      "  electron_maxstep = 80\n",
      "  mixing_beta =   4.0000000000d-01\n",
      "/\n",
      "&IONS\n",
      "/\n",
      "ATOMIC_SPECIES\n",
      "Si     28.085 Si.pbe-n-rrkjus_psl.1.0.0.UPF\n",
      "ATOMIC_POSITIONS angstrom\n",
      "Si           0.0000000000       0.0000000000       0.0000000000\n",
      "Si           1.8940738226       1.0935440313       0.7732524001\n",
      "K_POINTS automatic\n",
      "5 5 5 0 0 0\n",
      "CELL_PARAMETERS angstrom\n",
      "      3.7881476452       0.0000000000       0.0000000000\n",
      "      1.8940738226       3.2806320940       0.0000000000\n",
      "      1.8940738226       1.0935440313       3.0930096003\n"
     ]
    }
   ],
   "source": [
    "%cat direct_run/pwx.in"
   ]
  },
  {
   "cell_type": "markdown",
   "metadata": {},
   "source": [
    "To decompose this file into the components we need, we can use the [qe_tools](https://pypi.org/project/qe-tools/) package, which provides a Python API to parse Quantum ESPRESSO input files.\n"
   ]
  },
  {
   "cell_type": "code",
   "execution_count": 14,
   "metadata": {
    "tags": [
     "hide-output"
    ]
   },
   "outputs": [
    {
     "data": {
      "text/plain": [
       "<qe_tools.parsers._pw_input.PwInputFile at 0x15a526370>"
      ]
     },
     "execution_count": 14,
     "metadata": {},
     "output_type": "execute_result"
    }
   ],
   "source": [
    "import qe_tools\n",
    "\n",
    "pw_input = qe_tools.parsers.PwInputFile(open(\"direct_run/pwx.in\").read())\n",
    "pw_input"
   ]
  },
  {
   "cell_type": "markdown",
   "metadata": {},
   "source": [
    "We can then generate our AiiDA input {term}`Data` nodes.\n"
   ]
  },
  {
   "cell_type": "code",
   "execution_count": 15,
   "metadata": {},
   "outputs": [
    {
     "data": {
      "text/plain": [
       "<StructureData: uuid: 1980a2ad-f9b1-48d1-bf2b-b97922c95c7c (unstored)>"
      ]
     },
     "execution_count": 15,
     "metadata": {},
     "output_type": "execute_result"
    }
   ],
   "source": [
    "structure = aiida.orm.StructureData(cell=pw_input.structure[\"cell\"])\n",
    "for p, s in zip(pw_input.structure[\"positions\"], pw_input.structure[\"atom_names\"]):\n",
    "    structure.append_atom(position=p, symbols=s)\n",
    "structure"
   ]
  },
  {
   "cell_type": "code",
   "execution_count": 16,
   "metadata": {},
   "outputs": [
    {
     "data": {
      "text/plain": [
       "<KpointsData: uuid: 45681b3b-cd43-4166-86c8-fb90a1b732ba (unstored)>"
      ]
     },
     "execution_count": 16,
     "metadata": {},
     "output_type": "execute_result"
    }
   ],
   "source": [
    "kpoints = aiida.orm.KpointsData()\n",
    "kpoints.set_cell_from_structure(structure)\n",
    "kpoints.set_kpoints_mesh(\n",
    "    pw_input.k_points[\"points\"],\n",
    "    offset=pw_input.k_points[\"offset\"],\n",
    ")\n",
    "kpoints"
   ]
  },
  {
   "cell_type": "code",
   "execution_count": 17,
   "metadata": {},
   "outputs": [
    {
     "data": {
      "text/plain": [
       "<Dict: uuid: c0cb45aa-8b1c-4cc8-a3d6-bf8120050741 (unstored)>"
      ]
     },
     "execution_count": 17,
     "metadata": {},
     "output_type": "execute_result"
    }
   ],
   "source": [
    "# AiiDA will handle assigning file names to generated input files,\n",
    "# and computing te system type from the structure.\n",
    "_parameters = pw_input.namelists\n",
    "for disallowed in [\"pseudo_dir\", \"outdir\", \"prefix\"]:\n",
    "    _parameters[\"CONTROL\"].pop(disallowed, None)\n",
    "for disallowed in [\"nat\", \"ntyp\"]:\n",
    "    _parameters[\"SYSTEM\"].pop(disallowed, None)\n",
    "parameters = aiida.orm.Dict(dict=_parameters)\n",
    "parameters"
   ]
  },
  {
   "cell_type": "code",
   "execution_count": 18,
   "metadata": {},
   "outputs": [
    {
     "data": {
      "text/plain": [
       "<UpfData: uuid: 78a976f5-1555-424c-bc0d-012fad7e6d88 (pk: 2)>"
      ]
     },
     "execution_count": 18,
     "metadata": {},
     "output_type": "execute_result"
    }
   ],
   "source": [
    "from os.path import abspath\n",
    "\n",
    "pseudo_si, _ = aiida.orm.UpfData.get_or_create(\n",
    "    abspath(\"direct_run/pseudo/Si.pbe-n-rrkjus_psl.1.0.0.UPF\")\n",
    ")\n",
    "pseudo_si"
   ]
  },
  {
   "cell_type": "markdown",
   "metadata": {},
   "source": [
    "## Setting up the inputs for a calculation\n"
   ]
  },
  {
   "cell_type": "markdown",
   "metadata": {},
   "source": [
    "Using `verdi plugin list aiida.calculations` we can inspect the full specification for the inputs of the calculation plugin we wish to use.\n"
   ]
  },
  {
   "cell_type": "code",
   "execution_count": 19,
   "metadata": {
    "tags": [
     "hide-output"
    ]
   },
   "outputs": [
    {
     "name": "stdout",
     "output_type": "stream",
     "text": [
      "\u001b[31m\u001b[1mDescription:\n",
      "\u001b[0m\n",
      "\u001b[22m    `CalcJob` implementation for the pw.x code of Quantum ESPRESSO.\u001b[0m\n",
      "\u001b[22m\u001b[0m\n",
      "\u001b[31m\u001b[1mInputs:\u001b[0m\n",
      "\u001b[1m                    kpoints:  required  KpointsData       kpoint mesh or kpoint path\u001b[0m\n",
      "\u001b[1m                 parameters:  required  Dict              The input parameters that are to be used to construct the input file.\u001b[0m\n",
      "\u001b[1m                    pseudos:  required  UpfData, UpfData  A mapping of `UpfData` nodes onto the kind name to which they should apply.\u001b[0m\n",
      "\u001b[1m                  structure:  required  StructureData     The input structure.\u001b[0m\n",
      "\u001b[22m                       code:  optional  Code              The `Code` to use for this job. This input is required, unless the `remote_ ...\u001b[0m\n",
      "\u001b[22m               hubbard_file:  optional  SinglefileData    SinglefileData node containing the output Hubbard parameters from a HpCalcu ...\u001b[0m\n",
      "\u001b[22m                   metadata:  optional                    \u001b[0m\n",
      "\u001b[22m            parallelization:  optional  Dict              Parallelization options. The following flags are allowed:\n",
      "npool  : The numb ...\u001b[0m\n",
      "\u001b[22m              parent_folder:  optional  RemoteData        An optional working directory of a previously completed calculation to rest ...\u001b[0m\n",
      "\u001b[22m              remote_folder:  optional  RemoteData        Remote directory containing the results of an already completed calculation ...\u001b[0m\n",
      "\u001b[22m                   settings:  optional  Dict              Optional parameters to affect the way the calculation job and the parsing a ...\u001b[0m\n",
      "\u001b[22m                  vdw_table:  optional  SinglefileData    Optional van der Waals table contained in a `SinglefileData`.\u001b[0m\n",
      "\u001b[31m\u001b[1mOutputs:\u001b[0m\n",
      "\u001b[1m          output_parameters:  required  Dict              The `output_parameters` output node of the successful calculation.\u001b[0m\n",
      "\u001b[1m              remote_folder:  required  RemoteData        Input files necessary to run the process will be stored in this folder node ...\u001b[0m\n",
      "\u001b[1m                  retrieved:  required  FolderData        Files that are retrieved by the daemon will be stored in this node. By defa ...\u001b[0m\n",
      "\u001b[22m  output_atomic_occupations:  optional  Dict              \u001b[0m\n",
      "\u001b[22m                output_band:  optional  BandsData         The `output_band` output node of the successful calculation if present.\u001b[0m\n",
      "\u001b[22m             output_kpoints:  optional  KpointsData       \u001b[0m\n",
      "\u001b[22m           output_structure:  optional  StructureData     The `output_structure` output node of the successful calculation if present ...\u001b[0m\n",
      "\u001b[22m          output_trajectory:  optional  TrajectoryData    \u001b[0m\n",
      "\u001b[22m               remote_stash:  optional  RemoteStashData   Contents of the `stash.source_list` option are stored in this remote folder ...\u001b[0m\n",
      "\u001b[31m\u001b[1mExit codes:\u001b[0m\n",
      "\u001b[22m                          1:  The process has failed with an unspecified error.\u001b[0m\n",
      "\u001b[22m                          2:  The process failed with legacy failure mode.\u001b[0m\n",
      "\u001b[22m                         10:  The process returned an invalid output.\u001b[0m\n",
      "\u001b[22m                         11:  The process did not register a required output.\u001b[0m\n",
      "\u001b[22m                        100:  The process did not have the required `retrieved` output.\u001b[0m\n",
      "\u001b[22m                        110:  The job ran out of memory.\u001b[0m\n",
      "\u001b[22m                        120:  The job ran out of walltime.\u001b[0m\n",
      "\u001b[22m                        301:  The retrieved temporary folder could not be accessed.\u001b[0m\n",
      "\u001b[22m                        302:  The retrieved folder did not contain the required stdout output file.\u001b[0m\n",
      "\u001b[22m                        303:  The retrieved folder did not contain the required XML file.\u001b[0m\n",
      "\u001b[22m                        304:  The retrieved folder contained multiple XML files.\u001b[0m\n",
      "\u001b[22m                        305:  Both the stdout and XML output files could not be read or parsed.\u001b[0m\n",
      "\u001b[22m                        310:  The stdout output file could not be read.\u001b[0m\n",
      "\u001b[22m                        311:  The stdout output file could not be parsed.\u001b[0m\n",
      "\u001b[22m                        312:  The stdout output file was incomplete probably because the calculation got interrupted.\u001b[0m\n",
      "\u001b[22m                        320:  The XML output file could not be read.\u001b[0m\n",
      "\u001b[22m                        321:  The XML output file could not be parsed.\u001b[0m\n",
      "\u001b[22m                        322:  The XML output file has an unsupported format.\u001b[0m\n",
      "\u001b[22m                        340:  The calculation stopped prematurely because it ran out of walltime but the job was killed by the scheduler before the files were safely written to disk for a potential restart.\u001b[0m\n",
      "\u001b[22m                        350:  The parser raised an unexpected exception: {exception}\u001b[0m\n",
      "\u001b[22m                        400:  The calculation stopped prematurely because it ran out of walltime.\u001b[0m\n",
      "\u001b[22m                        410:  The electronic minimization cycle did not reach self-consistency.\u001b[0m\n",
      "\u001b[22m                        461:  The code failed with negative dexx in the exchange calculation.\u001b[0m\n",
      "\u001b[22m                        462:  The code failed during the cholesky factorization.\u001b[0m\n",
      "\u001b[22m                        463:  Too many bands failed to converge during the diagonalization.\u001b[0m\n",
      "\u001b[22m                        481:  The k-point parallelization \"npools\" is too high, some nodes have no k-points.\u001b[0m\n",
      "\u001b[22m                        500:  The ionic minimization cycle did not converge for the given thresholds.\u001b[0m\n",
      "\u001b[22m                        501:  Then ionic minimization cycle converged but the thresholds are exceeded in the final SCF.\u001b[0m\n",
      "\u001b[22m                        502:  The ionic minimization cycle did not converge after the maximum number of steps.\u001b[0m\n",
      "\u001b[22m                        510:  The electronic minimization cycle failed during an ionic minimization cycle.\u001b[0m\n",
      "\u001b[22m                        511:  The ionic minimization cycle converged, but electronic convergence was not reached in the final SCF.\u001b[0m\n",
      "\u001b[22m                        520:  The ionic minimization cycle terminated prematurely because of two consecutive failures in the BFGS algorithm.\u001b[0m\n",
      "\u001b[22m                        521:  The ionic minimization cycle terminated prematurely because of two consecutive failures in the BFGS algorithm and electronic convergence failed in the final SCF.\u001b[0m\n",
      "\u001b[22m                        531:  The electronic minimization cycle did not reach self-consistency.\u001b[0m\n",
      "\u001b[22m                        541:  The variable cell optimization broke the symmetry of the k-points.\u001b[0m\n",
      "\u001b[22m                        710:  The electronic minimization cycle did not reach self-consistency, but `scf_must_converge` is `False` and/or `electron_maxstep` is 0.\u001b[0m\n"
     ]
    }
   ],
   "source": [
    "%verdi plugin list aiida.calculations quantumespresso.pw"
   ]
  },
  {
   "cell_type": "markdown",
   "metadata": {},
   "source": [
    "Since we already assigned the `quantumespresso.pw` plugin to our `Code` node, we can load it and use the `get_builder` to generate a template for the inputs, known as the `Builder`.\n",
    "\n",
    "The `Builder` provides us a structured way to add (and validate) the inputs for the calculation.\n",
    "Below we add the input nodes that we have created for our calculation.\n"
   ]
  },
  {
   "cell_type": "code",
   "execution_count": 20,
   "metadata": {
    "tags": [
     "hide-output"
    ]
   },
   "outputs": [
    {
     "data": {
      "text/plain": [
       "Process class: PwCalculation\n",
       "Inputs:\n",
       "code: Quantum ESPRESSO pw.x code\n",
       "kpoints: 'Kpoints mesh: 5x5x5 (+0.0,0.0,0.0)'\n",
       "metadata:\n",
       "  options:\n",
       "    stash: {}\n",
       "parameters:\n",
       "  CONTROL:\n",
       "    calculation: relax\n",
       "    etot_conv_thr: 0.0002\n",
       "    forc_conv_thr: 0.001\n",
       "    max_seconds: 86400\n",
       "    restart_mode: from_scratch\n",
       "    tprnfor: true\n",
       "    tstress: true\n",
       "    verbosity: high\n",
       "  ELECTRONS:\n",
       "    conv_thr: 8.0e-10\n",
       "    electron_maxstep: 80\n",
       "    mixing_beta: 0.4\n",
       "  SYSTEM:\n",
       "    degauss: 0.01\n",
       "    ecutrho: 240.0\n",
       "    ecutwfc: 30.0\n",
       "    ibrav: 0\n",
       "    nosym: false\n",
       "    occupations: smearing\n",
       "    smearing: cold\n",
       "pseudos:\n",
       "  Si: ''\n",
       "structure: Si\n"
      ]
     },
     "execution_count": 20,
     "metadata": {},
     "output_type": "execute_result"
    }
   ],
   "source": [
    "code = aiida.orm.load_code(\"pw.x@local_direct\")\n",
    "builder = code.get_builder()\n",
    "builder.structure = structure\n",
    "builder.parameters = parameters\n",
    "builder.kpoints = kpoints\n",
    "builder.pseudos = {\"Si\": pseudo_si}\n",
    "builder"
   ]
  },
  {
   "cell_type": "markdown",
   "metadata": {},
   "source": [
    "## Running the calculation\n"
   ]
  },
  {
   "cell_type": "markdown",
   "metadata": {},
   "source": [
    "AiiDA provides two main ways to run a calculation:\n",
    "\n",
    "1. Using the `engine.run` functions, which runs the computation directly and waits for it to complete.\n",
    "2. Using the `engine.submit` function, which submits the calculation to the AiiDA daemon, which can be started in the background and manages the execution of the calculations.\n"
   ]
  },
  {
   "cell_type": "code",
   "execution_count": 21,
   "metadata": {},
   "outputs": [
    {
     "data": {
      "text/plain": [
       "<CalcJobNode: uuid: 4f8c9765-c87d-4de9-a78e-42062c034b79 (pk: 6) (aiida.calculations:quantumespresso.pw)>"
      ]
     },
     "execution_count": 21,
     "metadata": {},
     "output_type": "execute_result"
    }
   ],
   "source": [
    "output = aiida.engine.run_get_node(builder)\n",
    "output.node"
   ]
  },
  {
   "cell_type": "markdown",
   "metadata": {},
   "source": [
    "## How the calculation is run\n"
   ]
  },
  {
   "cell_type": "markdown",
   "metadata": {},
   "source": [
    "On executing the calculation, AiiDA will:\n",
    "\n",
    "1. Generate the input files necessary for the calculation, and the submission script specific to the computer's scheduler.\n",
    "2. Write the input files to the desired location on the local/remote computer.\n",
    "3. Submit the job to the scheduler.\n",
    "4. Monitor the job until it completes.\n",
    "5. Retrieve the output files from the computer.\n",
    "6. Parse the output files and store the results.\n"
   ]
  },
  {
   "cell_type": "markdown",
   "metadata": {},
   "source": [
    "The generated input files are stored on the `CalcJobNode`."
   ]
  },
  {
   "cell_type": "code",
   "execution_count": 49,
   "metadata": {
    "tags": [
     "hide-output"
    ]
   },
   "outputs": [
    {
     "name": "stdout",
     "output_type": "stream",
     "text": [
      "input files:  ['.aiida', '_aiidasubmit.sh', 'aiida.in']\n",
      "----------\n",
      "aiida.in\n",
      "----------\n",
      "&CONTROL\n",
      "  calculation = 'relax'\n",
      "  etot_conv_thr =   2.0000000000d-04\n",
      "  forc_conv_thr =   1.0000000000d-03\n",
      "  max_seconds = 86400\n",
      "  outdir = './out/'\n",
      "  prefix = 'aiida'\n",
      "  pseudo_dir = './pseudo/'\n",
      "  restart_mode = 'from_scratch'\n",
      "  tprnfor = .true.\n",
      "  tstress = .true.\n",
      "  verbosity = 'high'\n",
      "/\n",
      "&SYSTEM\n",
      "  degauss =   1.0000000000d-02\n",
      "  ecutrho =   2.4000000000d+02\n",
      "  ecutwfc =   3.0000000000d+01\n",
      "  ibrav = 0\n",
      "  nat = 2\n",
      "  nosym = .false.\n",
      "  ntyp = 1\n",
      "  occupations = 'smearing'\n",
      "  smearing = 'cold'\n",
      "/\n",
      "&ELECTRONS\n",
      "  conv_thr =   8.0000000000d-10\n",
      "  electron_maxstep = 80\n",
      "  mixing_beta =   4.0000000000d-01\n",
      "/\n",
      "&IONS\n",
      "/\n",
      "ATOMIC_SPECIES\n",
      "Si     28.0855 Si.pbe-n-rrkjus_psl.1.0.0.UPF\n",
      "ATOMIC_POSITIONS angstrom\n",
      "Si           0.0000000000       0.0000000000       0.0000000000 \n",
      "Si           1.8940738226       1.0935440313       0.7732524001 \n",
      "K_POINTS automatic\n",
      "5 5 5 0 0 0\n",
      "CELL_PARAMETERS angstrom\n",
      "      3.7881476452       0.0000000000       0.0000000000\n",
      "      1.8940738226       3.2806320940       0.0000000000\n",
      "      1.8940738226       1.0935440313       3.0930096003\n",
      "\n",
      "----------------\n",
      "_aiidasubmit.sh\n",
      "----------------\n",
      "#!/bin/bash\n",
      "exec > _scheduler-stdout.txt\n",
      "exec 2> _scheduler-stderr.txt\n",
      "\n",
      "\n",
      "export OMP_NUM_THREADS=1\n",
      "\n",
      "'mpirun' '-np' '2' '/Users/chrisjsewell/opt/miniconda3/envs/aiida-qe-demo/bin/pw.x' '-in' 'aiida.in'  > 'aiida.out' \n",
      "\n"
     ]
    }
   ],
   "source": [
    "calcnode_repo = output.node.base.repository\n",
    "print(\"input files: \", calcnode_repo.list_object_names())\n",
    "print(\"-\" * 10 + \"\\naiida.in\\n\" + \"-\" * 10)\n",
    "print(calcnode_repo.get_object_content(\"aiida.in\"))\n",
    "print(\"-\" * 16 + \"\\n_aiidasubmit.sh\\n\" + \"-\" * 16)\n",
    "print(calcnode_repo.get_object_content(\"_aiidasubmit.sh\"))"
   ]
  },
  {
   "cell_type": "markdown",
   "metadata": {},
   "source": [
    "These are then \"transported\" to the remote computer, into a unique sub-folder of the the working directory.\n",
    "\n",
    ":::{tip}\n",
    "\n",
    "These folders and their contents are not deleted by default after the calculation is completed, and can be inspected at any time with `verdi calcjob gotocomputer <IDENTIFIER>`.\n",
    "\n",
    "Many workflows though can be configured to clean up these folders after the calculation is (successfully) completed, to save disk space.\n",
    "\n",
    ":::"
   ]
  },
  {
   "cell_type": "code",
   "execution_count": 53,
   "metadata": {},
   "outputs": [
    {
     "data": {
      "text/plain": [
       "'/Users/chrisjsewell/Documents/GitHub/aiida-qe-demo/tutorial/local_module/_aiida_workdir/qe-to-aiida/4f/8c/9765-c87d-4de9-a78e-42062c034b79'"
      ]
     },
     "execution_count": 53,
     "metadata": {},
     "output_type": "execute_result"
    }
   ],
   "source": [
    "output.node.get_remote_workdir()"
   ]
  },
  {
   "cell_type": "markdown",
   "metadata": {},
   "source": [
    "The retrieved output files are stored in the `retrieved` output node from the `CalcJobNode`."
   ]
  },
  {
   "cell_type": "code",
   "execution_count": 46,
   "metadata": {
    "tags": [
     "hide-output"
    ]
   },
   "outputs": [
    {
     "name": "stdout",
     "output_type": "stream",
     "text": [
      "output files: ['_scheduler-stderr.txt', '_scheduler-stdout.txt', 'aiida.out', 'data-file-schema.xml']\n",
      "----------\n",
      "aiida.out\n",
      "----------\n",
      "\n",
      "     Program PWSCF v.7.0 starts on  3Oct2022 at 14:22:15 \n",
      "\n",
      "     This program is part of the open-source Quantum ESPRESSO suite\n",
      "     for quantum simulation of materials; please cite\n",
      "         \"P. Giannozzi et al., J. Phys.:Condens. Matter 21 395502 (2009);\n",
      "         \"P. Giannozzi et al., J. Phys.:Condens. Matter 29 465901 (2017);\n",
      "         \"P. Giannozzi et al., J. Chem. Phys. 152 154105 (2020);\n",
      "          URL http://www.quantum-espresso.org\", \n",
      "     in publications or presentations arising from this work. More details at\n",
      "     http://www.quantum-espresso.org/quote\n",
      "\n",
      "     Parallel version (MPI & OpenMP), running on       2 processor cores\n",
      "     Number of MPI processes:                 2\n",
      "     Threads/MPI process:                     1\n",
      "\n",
      "     MPI processes distributed on     1 nodes\n",
      "     R & G space division:  proc/nbgrp/npool/nimage =       2\n",
      "     0 MiB available memory on the printing compute node when the environment starts\n",
      "\n",
      "     Reading input from aiida.in\n",
      "\n",
      "     Current dimensions of program PWSCF are:\n",
      "     Max number of different atomic species (ntypx) = 10\n",
      "     Max number of k-points (npk) =  40000\n",
      "     Max angular momentum in pseudopotentials (lmaxx) =  4\n",
      "     Message from routine setup:\n",
      "     using ibrav=0 with symmetry is DISCOURAGED, use correct ibrav instead\n",
      "\n",
      "     Subspace diagonalization in iterative solution of the eigenvalue problem:\n",
      "     a serial algorithm will be used\n",
      "\n",
      "\n",
      "     Parallelization info\n",
      "     --------------------\n",
      "     sticks:   dense  smooth     PW     G-vecs:    dense   smooth      PW\n",
      "     Min         423     210     69                 8179     2883     533\n",
      "     Max         424     211     70                 8182     2886     534\n",
      "     Sum         847     421    139                16361     5769    1067\n",
      "\n",
      "     Using Slab Decomposition\n",
      "\n",
      "\n",
      "\n",
      "     bravais-lattice index     =            0\n",
      "     lattice parameter (alat)  =       7.1586  a.u.\n",
      "     unit-cell volume          =     259.3954 (a.u.)^3\n",
      "     number of atoms/cell      =            2\n",
      "     number of atomic types    =            1\n",
      "     number of electrons       =         8.00\n",
      "     number of Kohn-Sham states=            8\n",
      "     kinetic-energy cutoff     =      30.0000  Ry\n",
      "     charge density cutoff     =     240.0000  Ry\n",
      "     scf convergence threshold =      8.0E-10\n",
      "     mixing beta               =       0.4000\n",
      "     number of iterations used =            8  plain     mixing\n",
      "     energy convergence thresh.=      2.0E-04\n",
      "     force convergence thresh. =      1.0E-03\n",
      "     Exchange-correlation= PBE\n",
      "                           (   1   4   3   4   0   0   0)\n",
      "     nstep                     =           50\n",
      "\n",
      "\n",
      "     celldm(1)=   7.158562  celldm(2)=   0.000000  celldm(3)=   0.000000\n",
      "     celldm(4)=   0.000000  celldm(5)=   0.000000  celldm(6)=   0.000000\n",
      "\n",
      "     crystal axes: (cart. coord. in units of alat)\n",
      "               a(1) = (   1.000000   0.000000   0.000000 )  \n",
      "               a(2) = (   0.500000   0.866025   0.000000 )  \n",
      "               a(3) = (   0.500000   0.288675   0.816497 )  \n",
      "\n",
      "     reciprocal axes: (cart. coord. in units 2 pi/alat)\n",
      "               b(1) = (  1.000000 -0.577350 -0.408248 )  \n",
      "               b(2) = (  0.000000  1.154701 -0.408248 )  \n",
      "               b(3) = (  0.000000  0.000000  1.224745 )  \n",
      "\n",
      "\n",
      "     PseudoPot. # 1 for Si read from file:\n",
      "     ./pseudo/Si.pbe-n-rrkjus_psl.1.0.0.UPF\n",
      "     MD5 check sum: 0b0bb1205258b0d07b9f9672cf965d36\n",
      "     Pseudo is Ultrasoft + core correction, Zval =  4.0\n",
      "     Generated using \"atomic\" code by A. Dal Corso  v.5.1\n",
      "     Using radial grid of 1141 points,  6 beta functions with: \n",
      "                l(1) =   0\n",
      "                l(2) =   0\n",
      "                l(3) =   1\n",
      "                l(4) =   1\n",
      "                l(5) =   2\n",
      "                l(6) =   2\n",
      "     Q(r) pseudized with 0 coefficients \n",
      "\n",
      "\n",
      "     atomic species   valence    mass     pseudopotential\n",
      "        Si             4.00    28.08550     Si( 1.00)\n",
      "\n",
      "     12 Sym. Ops., with inversion, found ( 6 have fractional translation)\n",
      "\n",
      "\n",
      "                                    s                        frac. trans.\n",
      "\n",
      "      isym =  1     identity                                     \n",
      "\n",
      " cryst.   s( 1) = (     1          0          0      )\n",
      "                  (     0          1          0      )\n",
      "                  (     0          0          1      )\n",
      "\n",
      " cart.    s( 1) = (  1.0000000  0.0000000  0.0000000 )\n",
      "                  (  0.0000000  1.0000000  0.0000000 )\n",
      "                  (  0.0000000  0.0000000  1.0000000 )\n",
      "\n",
      "\n",
      "      isym =  2     180 deg rotation - cart. axis [1,0,0]        \n",
      "\n",
      " cryst.   s( 2) = (     1          0          0      )    f =( -0.2500000 )\n",
      "                  (     1         -1          0      )       ( -0.2500000 )\n",
      "                  (     1          0         -1      )       ( -0.2500000 )\n",
      "\n",
      " cart.    s( 2) = (  1.0000000  0.0000000  0.0000000 )    f =( -0.5000000 )\n",
      "                  (  0.0000000 -1.0000000  0.0000000 )       ( -0.2886751 )\n",
      "                  (  0.0000000  0.0000000 -1.0000000 )       ( -0.2041241 )\n",
      "\n",
      "\n",
      "      isym =  3     120 deg rotation - cryst. axis [0,0,1]       \n",
      "\n",
      " cryst.   s( 3) = (    -1          1          0      )\n",
      "                  (    -1          0          0      )\n",
      "                  (    -1          0          1      )\n",
      "\n",
      " cart.    s( 3) = ( -0.5000000 -0.8660254 -0.0000000 )\n",
      "                  (  0.8660254 -0.5000000 -0.0000000 )\n",
      "                  (  0.0000000  0.0000000  1.0000000 )\n",
      "\n",
      "\n",
      "      isym =  4     120 deg rotation - cryst. axis [0,0,-1]      \n",
      "\n",
      " cryst.   s( 4) = (     0         -1          0      )\n",
      "                  (     1         -1          0      )\n",
      "                  (     0         -1          1      )\n",
      "\n",
      " cart.    s( 4) = ( -0.5000000  0.8660254  0.0000000 )\n",
      "                  ( -0.8660254 -0.5000000 -0.0000000 )\n",
      "                  (  0.0000000  0.0000000  1.0000000 )\n",
      "\n",
      "\n",
      "      isym =  5     180 deg rotation - cryst. axis [0,1,0]       \n",
      "\n",
      " cryst.   s( 5) = (     0         -1          0      )    f =( -0.2500000 )\n",
      "                  (    -1          0          0      )       ( -0.2500000 )\n",
      "                  (     0          0         -1      )       ( -0.2500000 )\n",
      "\n",
      " cart.    s( 5) = ( -0.5000000 -0.8660254 -0.0000000 )    f =( -0.5000000 )\n",
      "                  ( -0.8660254  0.5000000  0.0000000 )       ( -0.2886751 )\n",
      "                  (  0.0000000  0.0000000 -1.0000000 )       ( -0.2041241 )\n",
      "\n",
      "\n",
      "      isym =  6     180 deg rotation - cryst. axis [1,1,0]       \n",
      "\n",
      " cryst.   s( 6) = (    -1          1          0      )    f =( -0.2500000 )\n",
      "                  (     0          1          0      )       ( -0.2500000 )\n",
      "                  (     0          1         -1      )       ( -0.2500000 )\n",
      "\n",
      " cart.    s( 6) = ( -0.5000000  0.8660254  0.0000000 )    f =( -0.5000000 )\n",
      "                  (  0.8660254  0.5000000  0.0000000 )       ( -0.2886751 )\n",
      "                  (  0.0000000  0.0000000 -1.0000000 )       ( -0.2041241 )\n",
      "\n",
      "\n",
      "      isym =  7     inversion                                    \n",
      "\n",
      " cryst.   s( 7) = (    -1          0          0      )    f =( -0.2500000 )\n",
      "                  (     0         -1          0      )       ( -0.2500000 )\n",
      "                  (     0          0         -1      )       ( -0.2500000 )\n",
      "\n",
      " cart.    s( 7) = ( -1.0000000  0.0000000  0.0000000 )    f =( -0.5000000 )\n",
      "                  (  0.0000000 -1.0000000  0.0000000 )       ( -0.2886751 )\n",
      "                  (  0.0000000  0.0000000 -1.0000000 )       ( -0.2041241 )\n",
      "\n",
      "\n",
      "      isym =  8     inv. 180 deg rotation - cart. axis [1,0,0]   \n",
      "\n",
      " cryst.   s( 8) = (    -1          0          0      )\n",
      "                  (    -1          1          0      )\n",
      "                  (    -1          0          1      )\n",
      "\n",
      " cart.    s( 8) = ( -1.0000000  0.0000000  0.0000000 )\n",
      "                  (  0.0000000  1.0000000  0.0000000 )\n",
      "                  (  0.0000000  0.0000000  1.0000000 )\n",
      "\n",
      "\n",
      "      isym =  9     inv. 120 deg rotation - cryst. axis [0,0,1]  \n",
      "\n",
      " cryst.   s( 9) = (     1         -1          0      )    f =( -0.2500000 )\n",
      "                  (     1          0          0      )       ( -0.2500000 )\n",
      "                  (     1          0         -1      )       ( -0.2500000 )\n",
      "\n",
      " cart.    s( 9) = (  0.5000000  0.8660254  0.0000000 )    f =( -0.5000000 )\n",
      "                  ( -0.8660254  0.5000000  0.0000000 )       ( -0.2886751 )\n",
      "                  (  0.0000000  0.0000000 -1.0000000 )       ( -0.2041241 )\n",
      "\n",
      "\n",
      "      isym = 10     inv. 120 deg rotation - cryst. axis [0,0,-1] \n",
      "\n",
      " cryst.   s(10) = (     0          1          0      )    f =( -0.2500000 )\n",
      "                  (    -1          1          0      )       ( -0.2500000 )\n",
      "                  (     0          1         -1      )       ( -0.2500000 )\n",
      "\n",
      " cart.    s(10) = (  0.5000000 -0.8660254 -0.0000000 )    f =( -0.5000000 )\n",
      "                  (  0.8660254  0.5000000  0.0000000 )       ( -0.2886751 )\n",
      "                  (  0.0000000  0.0000000 -1.0000000 )       ( -0.2041241 )\n",
      "\n",
      "\n",
      "      isym = 11     inv. 180 deg rotation - cryst. axis [0,1,0]  \n",
      "\n",
      " cryst.   s(11) = (     0          1          0      )\n",
      "                  (     1          0          0      )\n",
      "                  (     0          0          1      )\n",
      "\n",
      " cart.    s(11) = (  0.5000000  0.8660254  0.0000000 )\n",
      "                  (  0.8660254 -0.5000000 -0.0000000 )\n",
      "                  (  0.0000000  0.0000000  1.0000000 )\n",
      "\n",
      "\n",
      "      isym = 12     inv. 180 deg rotation - cryst. axis [1,1,0]  \n",
      "\n",
      " cryst.   s(12) = (     1         -1          0      )\n",
      "                  (     0         -1          0      )\n",
      "                  (     0         -1          1      )\n",
      "\n",
      " cart.    s(12) = (  0.5000000 -0.8660254 -0.0000000 )\n",
      "                  ( -0.8660254 -0.5000000 -0.0000000 )\n",
      "                  (  0.0000000  0.0000000  1.0000000 )\n",
      "\n",
      "\n",
      "   Cartesian axes\n",
      "\n",
      "     site n.     atom                  positions (alat units)\n",
      "         1           Si  tau(   1) = (   0.0000000   0.0000000   0.0000000  )\n",
      "         2           Si  tau(   2) = (   0.5000000   0.2886751   0.2041241  )\n",
      "\n",
      "   Crystallographic axes\n",
      "\n",
      "     site n.     atom                  positions (cryst. coord.)\n",
      "         1           Si  tau(   1) = (  0.0000000  0.0000000  0.0000000  )\n",
      "         2           Si  tau(   2) = (  0.2500000  0.2500000  0.2500000  )\n",
      "\n",
      "     number of k points=    19  Marzari-Vanderbilt smearing, width (Ry)=  0.0100\n",
      "                       cart. coord. in units 2pi/alat\n",
      "        k(    1) = (   0.0000000   0.0000000   0.0000000), wk =   0.0160000\n",
      "        k(    2) = (   0.0000000   0.0000000   0.2449490), wk =   0.0320000\n",
      "        k(    3) = (   0.0000000   0.0000000   0.4898979), wk =   0.0320000\n",
      "        k(    4) = (   0.0000000   0.2309401  -0.0816497), wk =   0.0960000\n",
      "        k(    5) = (   0.0000000   0.2309401   0.1632993), wk =   0.0960000\n",
      "        k(    6) = (   0.0000000   0.2309401   0.4082483), wk =   0.0960000\n",
      "        k(    7) = (   0.0000000   0.2309401  -0.5715476), wk =   0.0960000\n",
      "        k(    8) = (   0.0000000   0.2309401  -0.3265986), wk =   0.0960000\n",
      "        k(    9) = (   0.0000000   0.4618802  -0.1632993), wk =   0.0960000\n",
      "        k(   10) = (   0.0000000   0.4618802   0.0816497), wk =   0.0960000\n",
      "        k(   11) = (   0.0000000   0.4618802   0.3265986), wk =   0.0960000\n",
      "        k(   12) = (   0.0000000   0.4618802  -0.6531973), wk =   0.0960000\n",
      "        k(   13) = (   0.0000000   0.4618802  -0.4082483), wk =   0.0960000\n",
      "        k(   14) = (   0.2000000   0.3464102  -0.2449490), wk =   0.1920000\n",
      "        k(   15) = (   0.2000000   0.3464102   0.0000000), wk =   0.0960000\n",
      "        k(   16) = (   0.2000000   0.3464102  -0.7348469), wk =   0.1920000\n",
      "        k(   17) = (   0.2000000  -0.5773503   0.0816497), wk =   0.1920000\n",
      "        k(   18) = (   0.2000000  -0.5773503   0.5715476), wk =   0.1920000\n",
      "        k(   19) = (   0.2000000  -0.5773503  -0.4082483), wk =   0.0960000\n",
      "\n",
      "                       cryst. coord.\n",
      "        k(    1) = (   0.0000000   0.0000000   0.0000000), wk =   0.0160000\n",
      "        k(    2) = (   0.0000000   0.0000000   0.2000000), wk =   0.0320000\n",
      "        k(    3) = (   0.0000000   0.0000000   0.4000000), wk =   0.0320000\n",
      "        k(    4) = (   0.0000000   0.2000000   0.0000000), wk =   0.0960000\n",
      "        k(    5) = (   0.0000000   0.2000000   0.2000000), wk =   0.0960000\n",
      "        k(    6) = (   0.0000000   0.2000000   0.4000000), wk =   0.0960000\n",
      "        k(    7) = (   0.0000000   0.2000000  -0.4000000), wk =   0.0960000\n",
      "        k(    8) = (   0.0000000   0.2000000  -0.2000000), wk =   0.0960000\n",
      "        k(    9) = (   0.0000000   0.4000000   0.0000000), wk =   0.0960000\n",
      "        k(   10) = (   0.0000000   0.4000000   0.2000000), wk =   0.0960000\n",
      "        k(   11) = (   0.0000000   0.4000000   0.4000000), wk =   0.0960000\n",
      "        k(   12) = (   0.0000000   0.4000000  -0.4000000), wk =   0.0960000\n",
      "        k(   13) = (   0.0000000   0.4000000  -0.2000000), wk =   0.0960000\n",
      "        k(   14) = (   0.2000000   0.4000000   0.0000000), wk =   0.1920000\n",
      "        k(   15) = (   0.2000000   0.4000000   0.2000000), wk =   0.0960000\n",
      "        k(   16) = (   0.2000000   0.4000000  -0.4000000), wk =   0.1920000\n",
      "        k(   17) = (   0.2000000  -0.4000000   0.0000000), wk =   0.1920000\n",
      "        k(   18) = (   0.2000000  -0.4000000   0.4000000), wk =   0.1920000\n",
      "        k(   19) = (   0.2000000  -0.4000000  -0.4000000), wk =   0.0960000\n",
      "\n",
      "     Dense  grid:    16361 G-vectors     FFT dimensions: (  36,  36,  36)\n",
      "\n",
      "     Smooth grid:     5769 G-vectors     FFT dimensions: (  32,  32,  32)\n",
      "\n",
      "     Dynamical RAM for                 wfc:       0.04 MB\n",
      "\n",
      "     Dynamical RAM for     wfc (w. buffer):       0.88 MB\n",
      "\n",
      "     Dynamical RAM for           str. fact:       0.12 MB\n",
      "\n",
      "     Dynamical RAM for           local pot:       0.00 MB\n",
      "\n",
      "     Dynamical RAM for          nlocal pot:       0.20 MB\n",
      "\n",
      "     Dynamical RAM for                qrad:       1.24 MB\n",
      "\n",
      "     Dynamical RAM for          rho,v,vnew:       0.91 MB\n",
      "\n",
      "     Dynamical RAM for               rhoin:       0.30 MB\n",
      "\n",
      "     Dynamical RAM for            rho*nmix:       2.00 MB\n",
      "\n",
      "     Dynamical RAM for           G-vectors:       0.49 MB\n",
      "\n",
      "     Dynamical RAM for          h,s,v(r/c):       0.01 MB\n",
      "\n",
      "     Dynamical RAM for          <psi|beta>:       0.00 MB\n",
      "\n",
      "     Dynamical RAM for                 psi:       0.09 MB\n",
      "\n",
      "     Dynamical RAM for                hpsi:       0.09 MB\n",
      "\n",
      "     Dynamical RAM for                spsi:       0.09 MB\n",
      "\n",
      "     Dynamical RAM for      wfcinit/wfcrot:       0.09 MB\n",
      "\n",
      "     Dynamical RAM for           addusdens:      23.46 MB\n",
      "\n",
      "     Dynamical RAM for          addusforce:      23.78 MB\n",
      "\n",
      "     Dynamical RAM for         addusstress:      25.09 MB\n",
      "\n",
      "     Estimated static dynamical RAM per process >       5.29 MB\n",
      "\n",
      "     Estimated max dynamical RAM per process >      32.37 MB\n",
      "\n",
      "     Estimated total dynamical RAM >      64.74 MB\n",
      "\n",
      "     Initial potential from superposition of free atoms\n",
      "\n",
      "     starting charge       7.9989, renormalised to       8.0000\n",
      "     Starting wfcs are    8 randomized atomic wfcs\n",
      "\n",
      "     total cpu time spent up to now is        2.4 secs\n",
      "\n",
      "     Self-consistent Calculation\n",
      "\n",
      "     iteration #  1     ecut=    30.00 Ry     beta= 0.40\n",
      "     Davidson diagonalization with overlap\n",
      "\n",
      "---- Real-time Memory Report at c_bands before calling an iterative solver\n",
      "             0 MiB given to the printing process from OS\n",
      "             0 MiB allocation reported by mallinfo(arena+hblkhd)\n",
      "             0 MiB available memory on the node where the printing process lives\n",
      "------------------\n",
      "     ethr =  1.00E-02,  avg # of iterations =  3.7\n",
      "\n",
      "     Threshold (ethr) on eigenvalues was too large:\n",
      "     Diagonalizing with lowered threshold\n",
      "\n",
      "     Davidson diagonalization with overlap\n",
      "\n",
      "---- Real-time Memory Report at c_bands before calling an iterative solver\n",
      "             0 MiB given to the printing process from OS\n",
      "             0 MiB allocation reported by mallinfo(arena+hblkhd)\n",
      "             0 MiB available memory on the node where the printing process lives\n",
      "------------------\n",
      "     ethr =  7.19E-04,  avg # of iterations =  1.7\n",
      "\n",
      "     total cpu time spent up to now is        4.3 secs\n",
      "\n",
      "     WARNING: integrated charge=     8.00000211, expected=     8.00000000\n",
      "\n",
      "     total energy              =     -22.83353032 Ry\n",
      "     estimated scf accuracy    <       0.06191776 Ry\n",
      "\n",
      "     iteration #  2     ecut=    30.00 Ry     beta= 0.40\n",
      "     Davidson diagonalization with overlap\n",
      "\n",
      "---- Real-time Memory Report at c_bands before calling an iterative solver\n",
      "             0 MiB given to the printing process from OS\n",
      "             0 MiB allocation reported by mallinfo(arena+hblkhd)\n",
      "             0 MiB available memory on the node where the printing process lives\n",
      "------------------\n",
      "     ethr =  7.74E-04,  avg # of iterations =  1.1\n",
      "\n",
      "     total cpu time spent up to now is        4.9 secs\n",
      "\n",
      "     WARNING: integrated charge=     8.00016073, expected=     8.00000000\n",
      "\n",
      "     total energy              =     -22.83052705 Ry\n",
      "     estimated scf accuracy    <       0.01746513 Ry\n",
      "\n",
      "     iteration #  3     ecut=    30.00 Ry     beta= 0.40\n",
      "     Davidson diagonalization with overlap\n",
      "\n",
      "---- Real-time Memory Report at c_bands before calling an iterative solver\n",
      "             0 MiB given to the printing process from OS\n",
      "             0 MiB allocation reported by mallinfo(arena+hblkhd)\n",
      "             0 MiB available memory on the node where the printing process lives\n",
      "------------------\n",
      "     ethr =  2.18E-04,  avg # of iterations =  2.4\n",
      "\n",
      "     total cpu time spent up to now is        5.5 secs\n",
      "\n",
      "     WARNING: integrated charge=     8.00189641, expected=     8.00000000\n",
      "\n",
      "     total energy              =     -22.83053204 Ry\n",
      "     estimated scf accuracy    <       0.00025079 Ry\n",
      "\n",
      "     iteration #  4     ecut=    30.00 Ry     beta= 0.40\n",
      "     Davidson diagonalization with overlap\n",
      "\n",
      "---- Real-time Memory Report at c_bands before calling an iterative solver\n",
      "             0 MiB given to the printing process from OS\n",
      "             0 MiB allocation reported by mallinfo(arena+hblkhd)\n",
      "             0 MiB available memory on the node where the printing process lives\n",
      "------------------\n",
      "     ethr =  3.13E-06,  avg # of iterations =  5.6\n",
      "\n",
      "     total cpu time spent up to now is        6.2 secs\n",
      "\n",
      "     WARNING: integrated charge=     8.00179859, expected=     8.00000000\n",
      "\n",
      "     total energy              =     -22.83088019 Ry\n",
      "     estimated scf accuracy    <       0.00000591 Ry\n",
      "\n",
      "     iteration #  5     ecut=    30.00 Ry     beta= 0.40\n",
      "     Davidson diagonalization with overlap\n",
      "\n",
      "---- Real-time Memory Report at c_bands before calling an iterative solver\n",
      "             0 MiB given to the printing process from OS\n",
      "             0 MiB allocation reported by mallinfo(arena+hblkhd)\n",
      "             0 MiB available memory on the node where the printing process lives\n",
      "------------------\n",
      "     ethr =  7.39E-08,  avg # of iterations =  2.0\n",
      "\n",
      "     total cpu time spent up to now is        6.7 secs\n",
      "\n",
      "     WARNING: integrated charge=     8.00158632, expected=     8.00000000\n",
      "\n",
      "     total energy              =     -22.83086865 Ry\n",
      "     estimated scf accuracy    <       0.00000018 Ry\n",
      "\n",
      "     iteration #  6     ecut=    30.00 Ry     beta= 0.40\n",
      "     Davidson diagonalization with overlap\n",
      "\n",
      "---- Real-time Memory Report at c_bands before calling an iterative solver\n",
      "             0 MiB given to the printing process from OS\n",
      "             0 MiB allocation reported by mallinfo(arena+hblkhd)\n",
      "             0 MiB available memory on the node where the printing process lives\n",
      "------------------\n",
      "     ethr =  2.26E-09,  avg # of iterations =  2.8\n",
      "\n",
      "     total cpu time spent up to now is        7.2 secs\n",
      "\n",
      "     WARNING: integrated charge=     8.00157671, expected=     8.00000000\n",
      "\n",
      "     total energy              =     -22.83086964 Ry\n",
      "     estimated scf accuracy    <       0.00000006 Ry\n",
      "\n",
      "     iteration #  7     ecut=    30.00 Ry     beta= 0.40\n",
      "     Davidson diagonalization with overlap\n",
      "\n",
      "---- Real-time Memory Report at c_bands before calling an iterative solver\n",
      "             0 MiB given to the printing process from OS\n",
      "             0 MiB allocation reported by mallinfo(arena+hblkhd)\n",
      "             0 MiB available memory on the node where the printing process lives\n",
      "------------------\n",
      "     ethr =  8.05E-10,  avg # of iterations =  1.1\n",
      "\n",
      "     total cpu time spent up to now is        7.6 secs\n",
      "\n",
      "     WARNING: integrated charge=     8.00157597, expected=     8.00000000\n",
      "\n",
      "     total energy              =     -22.83087354 Ry\n",
      "     estimated scf accuracy    <          7.8E-09 Ry\n",
      "\n",
      "     iteration #  8     ecut=    30.00 Ry     beta= 0.40\n",
      "     Davidson diagonalization with overlap\n",
      "\n",
      "---- Real-time Memory Report at c_bands before calling an iterative solver\n",
      "             0 MiB given to the printing process from OS\n",
      "             0 MiB allocation reported by mallinfo(arena+hblkhd)\n",
      "             0 MiB available memory on the node where the printing process lives\n",
      "------------------\n",
      "     ethr =  9.74E-11,  avg # of iterations =  2.1\n",
      "\n",
      "     total cpu time spent up to now is        8.0 secs\n",
      "\n",
      "     End of self-consistent calculation\n",
      "\n",
      "          k = 0.0000 0.0000 0.0000 (   725 PWs)   bands (ev):\n",
      "\n",
      "    -5.5961   6.6569   6.6570   6.6570   9.2268   9.2268   9.2269  10.4933\n",
      "\n",
      "     occupation numbers \n",
      "     1.0000   1.0196   1.0196   1.0196   0.0000   0.0000   0.0000   0.0000\n",
      "\n",
      "          k = 0.0000 0.0000 0.2449 (   718 PWs)   bands (ev):\n",
      "\n",
      "    -5.0599   3.5914   6.0537   6.0537   9.0049  10.0527  10.0527  13.0681\n",
      "\n",
      "     occupation numbers \n",
      "     1.0000   1.0000   1.0000   1.0000   0.0000   0.0000   0.0000   0.0000\n",
      "\n",
      "          k = 0.0000 0.0000 0.4899 (   733 PWs)   bands (ev):\n",
      "\n",
      "    -3.6385   0.2160   5.4918   5.4918   8.4165  10.0543  10.0543  14.5644\n",
      "\n",
      "     occupation numbers \n",
      "     1.0000   1.0000   1.0000   1.0000   0.0000   0.0000   0.0000   0.0000\n",
      "\n",
      "          k = 0.0000 0.2309-0.0816 (   718 PWs)   bands (ev):\n",
      "\n",
      "    -5.0599   3.5914   6.0537   6.0537   9.0049  10.0527  10.0527  13.0682\n",
      "\n",
      "     occupation numbers \n",
      "     1.0000   1.0000   1.0000   1.0000   0.0000   0.0000   0.0000   0.0000\n",
      "\n",
      "          k = 0.0000 0.2309 0.1633 (   721 PWs)   bands (ev):\n",
      "\n",
      "    -4.8758   4.0558   5.1001   5.1001   8.0852  10.5923  11.6540  11.6540\n",
      "\n",
      "     occupation numbers \n",
      "     1.0000   1.0000   1.0000   1.0000   0.0000   0.0000   0.0000   0.0000\n",
      "\n",
      "          k = 0.0000 0.2309 0.4082 (   718 PWs)   bands (ev):\n",
      "\n",
      "    -3.6902   1.2569   3.9402   4.5769   8.3994  10.7610  11.7518  12.1677\n",
      "\n",
      "     occupation numbers \n",
      "     1.0000   1.0000   1.0000   1.0000   0.0000   0.0000   0.0000   0.0000\n",
      "\n",
      "          k = 0.0000 0.2309-0.5715 (   721 PWs)   bands (ev):\n",
      "\n",
      "    -2.7583  -0.2074   3.0989   4.8753   8.7025  11.3812  11.4942  14.3757\n",
      "\n",
      "     occupation numbers \n",
      "     1.0000   1.0000   1.0000   1.0000   0.0000   0.0000   0.0000   0.0000\n",
      "\n",
      "          k = 0.0000 0.2309-0.3266 (   728 PWs)   bands (ev):\n",
      "\n",
      "    -4.1968   2.1223   3.5210   5.7831   9.6234  10.7009  11.0514  12.5699\n",
      "\n",
      "     occupation numbers \n",
      "     1.0000   1.0000   1.0000   1.0000   0.0000   0.0000   0.0000   0.0000\n",
      "\n",
      "          k = 0.0000 0.4619-0.1633 (   733 PWs)   bands (ev):\n",
      "\n",
      "    -3.6385   0.2160   5.4918   5.4918   8.4165  10.0543  10.0543  14.5644\n",
      "\n",
      "     occupation numbers \n",
      "     1.0000   1.0000   1.0000   1.0000   0.0000   0.0000   0.0000   0.0000\n",
      "\n",
      "          k = 0.0000 0.4619 0.0816 (   718 PWs)   bands (ev):\n",
      "\n",
      "    -3.6902   1.2569   3.9402   4.5769   8.3994  10.7610  11.7518  12.1676\n",
      "\n",
      "     occupation numbers \n",
      "     1.0000   1.0000   1.0000   1.0000   0.0000   0.0000   0.0000   0.0000\n",
      "\n",
      "          k = 0.0000 0.4619 0.3266 (   717 PWs)   bands (ev):\n",
      "\n",
      "    -2.7855   0.3985   3.8517   3.8517   7.1578   7.8822  15.3857  15.3857\n",
      "\n",
      "     occupation numbers \n",
      "     1.0000   1.0000   1.0000   1.0000   0.0066   0.0000   0.0000   0.0000\n",
      "\n",
      "          k = 0.0000 0.4619-0.6532 (   722 PWs)   bands (ev):\n",
      "\n",
      "    -1.5201  -0.9127   2.4005   3.9762   7.6104   9.8102  14.9519  15.7085\n",
      "\n",
      "     occupation numbers \n",
      "     1.0000   1.0000   1.0000   1.0000   0.0000   0.0000   0.0000   0.0000\n",
      "\n",
      "          k = 0.0000 0.4619-0.4082 (   721 PWs)   bands (ev):\n",
      "\n",
      "    -2.7584  -0.2074   3.0989   4.8753   8.7025  11.3812  11.4942  14.3757\n",
      "\n",
      "     occupation numbers \n",
      "     1.0000   1.0000   1.0000   1.0000   0.0000   0.0000   0.0000   0.0000\n",
      "\n",
      "          k = 0.2000 0.3464-0.2449 (   718 PWs)   bands (ev):\n",
      "\n",
      "    -3.6902   1.2569   3.9402   4.5769   8.3994  10.7610  11.7518  12.1676\n",
      "\n",
      "     occupation numbers \n",
      "     1.0000   1.0000   1.0000   1.0000   0.0000   0.0000   0.0000   0.0000\n",
      "\n",
      "          k = 0.2000 0.3464 0.0000 (   728 PWs)   bands (ev):\n",
      "\n",
      "    -4.1968   2.1223   3.5210   5.7831   9.6234  10.7009  11.0514  12.5699\n",
      "\n",
      "     occupation numbers \n",
      "     1.0000   1.0000   1.0000   1.0000   0.0000   0.0000   0.0000   0.0000\n",
      "\n",
      "          k = 0.2000 0.3464-0.7348 (   718 PWs)   bands (ev):\n",
      "\n",
      "    -2.3202   0.0029   2.4954   3.5222  10.0742  10.4035  11.2115  14.6029\n",
      "\n",
      "     occupation numbers \n",
      "     1.0000   1.0000   1.0000   1.0000   0.0000   0.0000   0.0000   0.0000\n",
      "\n",
      "          k = 0.2000-0.5774 0.0816 (   721 PWs)   bands (ev):\n",
      "\n",
      "    -2.7584  -0.2074   3.0989   4.8753   8.7025  11.3812  11.4942  14.3757\n",
      "\n",
      "     occupation numbers \n",
      "     1.0000   1.0000   1.0000   1.0000   0.0000   0.0000   0.0000   0.0000\n",
      "\n",
      "          k = 0.2000-0.5774 0.5715 (   718 PWs)   bands (ev):\n",
      "\n",
      "    -2.3202   0.0029   2.4954   3.5222  10.0742  10.4035  11.2115  14.6030\n",
      "\n",
      "     occupation numbers \n",
      "     1.0000   1.0000   1.0000   1.0000   0.0000   0.0000   0.0000   0.0000\n",
      "\n",
      "          k = 0.2000-0.5774-0.4082 (   722 PWs)   bands (ev):\n",
      "\n",
      "    -1.5201  -0.9127   2.4005   3.9762   7.6104   9.8102  14.9518  15.7084\n",
      "\n",
      "     occupation numbers \n",
      "     1.0000   1.0000   1.0000   1.0000   0.0000   0.0000   0.0000   0.0000\n",
      "\n",
      "     the Fermi energy is     6.9694 ev\n",
      "\n",
      "     WARNING: integrated charge=     8.00157192, expected=     8.00000000\n",
      "\n",
      "!    total energy              =     -22.83087572 Ry\n",
      "     estimated scf accuracy    <          4.1E-10 Ry\n",
      "     smearing contrib. (-TS)   =       0.00001423 Ry\n",
      "     internal energy E=F+TS    =     -22.83088996 Ry\n",
      "\n",
      "     The total energy is F=E-TS. E is the sum of the following terms:\n",
      "     one-electron contribution =       5.48668366 Ry\n",
      "     hartree contribution      =       1.07528340 Ry\n",
      "     xc contribution           =     -12.36578747 Ry\n",
      "     ewald contribution        =     -17.02706954 Ry\n",
      "\n",
      "     convergence has been achieved in   8 iterations\n",
      "\n",
      "     Forces acting on atoms (cartesian axes, Ry/au):\n",
      "\n",
      "     atom    1 type  1   force =     0.00000000    0.00000000    0.00000086\n",
      "     atom    2 type  1   force =     0.00000000    0.00000000   -0.00000086\n",
      "     The non-local contrib.  to forces\n",
      "     atom    1 type  1   force =     0.00000000    0.00000000    0.00000003\n",
      "     atom    2 type  1   force =     0.00000000    0.00000000   -0.00000003\n",
      "     The ionic contribution  to forces\n",
      "     atom    1 type  1   force =    -0.00000000   -0.00000000    0.00000000\n",
      "     atom    2 type  1   force =    -0.00000000    0.00000000   -0.00000000\n",
      "     The local contribution  to forces\n",
      "     atom    1 type  1   force =    -0.00000000   -0.00000000   -0.00000006\n",
      "     atom    2 type  1   force =     0.00000000    0.00000000    0.00000006\n",
      "     The core correction contribution to forces\n",
      "     atom    1 type  1   force =     0.00000000    0.00000000    0.00000002\n",
      "     atom    2 type  1   force =    -0.00000000   -0.00000000   -0.00000002\n",
      "     The Hubbard contrib.    to forces\n",
      "     atom    1 type  1   force =     0.00000000    0.00000000    0.00000000\n",
      "     atom    2 type  1   force =     0.00000000    0.00000000    0.00000000\n",
      "     The SCF correction term to forces\n",
      "     atom    1 type  1   force =    -0.00000000   -0.00000000    0.00000087\n",
      "     atom    2 type  1   force =    -0.00000000    0.00000000   -0.00000087\n",
      "\n",
      "     Total force =     0.000001     Total SCF correction =     0.000001\n",
      "     SCF correction compared to forces is large: reduce conv_thr to get better values\n",
      "\n",
      "\n",
      "     Computing stress (Cartesian axis) and pressure\n",
      "\n",
      "          total   stress  (Ry/bohr**3)                   (kbar)     P=       66.23\n",
      "   0.00045019  -0.00000000   0.00000000           66.23       -0.00        0.00\n",
      "  -0.00000000   0.00045019   0.00000000           -0.00       66.23        0.00\n",
      "   0.00000000   0.00000000   0.00045019            0.00        0.00       66.22\n",
      "\n",
      "     kinetic stress (kbar)   2349.71     -0.00     -0.00\n",
      "                               -0.00   2349.71      0.00\n",
      "                                0.00      0.00   2349.71\n",
      "\n",
      "     local   stress (kbar)    100.61      0.00      0.00\n",
      "                                0.00    100.61     -0.00\n",
      "                                0.00     -0.00    100.61\n",
      "\n",
      "     nonloc. stress (kbar)   1683.36      0.00      0.00\n",
      "                                0.00   1683.36      0.00\n",
      "                                0.00      0.00   1683.36\n",
      "\n",
      "     hartree stress (kbar)    203.27      0.00      0.00\n",
      "                                0.00    203.27     -0.00\n",
      "                                0.00     -0.00    203.27\n",
      "\n",
      "     exc-cor stress (kbar)   3060.91     -0.00      0.00\n",
      "                               -0.00   3060.91     -0.00\n",
      "                                0.00     -0.00   3060.91\n",
      "\n",
      "     corecor stress (kbar)  -4112.91      0.00     -0.00\n",
      "                                0.00  -4112.91      0.00\n",
      "                               -0.00      0.00  -4112.91\n",
      "\n",
      "     ewald   stress (kbar)  -3218.73      0.00     -0.00\n",
      "                                0.00  -3218.73      0.00\n",
      "                               -0.00      0.00  -3218.73\n",
      "\n",
      "     hubbard stress (kbar)      0.00      0.00      0.00\n",
      "                                0.00      0.00      0.00\n",
      "                                0.00      0.00      0.00\n",
      "\n",
      "     DFT-D   stress (kbar)      0.00      0.00      0.00\n",
      "                                0.00      0.00      0.00\n",
      "                                0.00      0.00      0.00\n",
      "\n",
      "     XDM     stress (kbar)      0.00      0.00      0.00\n",
      "                                0.00      0.00      0.00\n",
      "                                0.00      0.00      0.00\n",
      "\n",
      "     dft-nl  stress (kbar)      0.00      0.00      0.00\n",
      "                                0.00      0.00      0.00\n",
      "                                0.00      0.00      0.00\n",
      "\n",
      "     TS-vdW  stress (kbar)      0.00      0.00      0.00\n",
      "                                0.00      0.00      0.00\n",
      "                                0.00      0.00      0.00\n",
      "\n",
      "\n",
      "                                0.00      0.00      0.00\n",
      "                                0.00      0.00      0.00\n",
      "\n",
      "\n",
      "                                0.00      0.00      0.00\n",
      "\n",
      "\n",
      "     BFGS Geometry Optimization\n",
      "     Energy error            =      0.0E+00 Ry\n",
      "     Gradient error          =      8.6E-07 Ry/Bohr\n",
      "\n",
      "     bfgs converged in   1 scf cycles and   0 bfgs steps\n",
      "     (criteria: energy <  2.0E-04 Ry, force <  1.0E-03 Ry/Bohr)\n",
      "\n",
      "     End of BFGS Geometry Optimization\n",
      "\n",
      "     Final energy             =     -22.8308757238 Ry\n",
      "Begin final coordinates\n",
      "\n",
      "ATOMIC_POSITIONS (angstrom)\n",
      "Si            0.0000000000        0.0000000000        0.0000000000\n",
      "Si            1.8940738226        1.0935440313        0.7732524001\n",
      "End final coordinates\n",
      "\n",
      "\n",
      "\n",
      "     Writing all to output data dir ./out/aiida.save/\n",
      "\n",
      "     init_run     :      0.77s CPU      1.95s WALL (       1 calls)\n",
      "     electrons    :      3.09s CPU      5.62s WALL (       1 calls)\n",
      "     forces       :      0.10s CPU      0.20s WALL (       1 calls)\n",
      "     stress       :      0.29s CPU      0.40s WALL (       1 calls)\n",
      "\n",
      "     Called by init_run:\n",
      "     wfcinit      :      0.09s CPU      0.11s WALL (       1 calls)\n",
      "     wfcinit:atom :      0.00s CPU      0.00s WALL (      19 calls)\n",
      "     wfcinit:wfcr :      0.08s CPU      0.10s WALL (      19 calls)\n",
      "     potinit      :      0.18s CPU      0.45s WALL (       1 calls)\n",
      "     hinit0       :      0.42s CPU      1.15s WALL (       1 calls)\n",
      "\n",
      "     Called by electrons:\n",
      "     c_bands      :      2.04s CPU      3.65s WALL (       9 calls)\n",
      "     sum_band     :      0.60s CPU      1.04s WALL (       9 calls)\n",
      "     v_of_rho     :      0.18s CPU      0.39s WALL (       9 calls)\n",
      "     v_h          :      0.00s CPU      0.00s WALL (       9 calls)\n",
      "     v_xc         :      0.20s CPU      0.42s WALL (      11 calls)\n",
      "     newd         :      0.32s CPU      0.60s WALL (       9 calls)\n",
      "     mix_rho      :      0.03s CPU      0.14s WALL (       9 calls)\n",
      "\n",
      "     Called by c_bands:\n",
      "     init_us_2    :      0.06s CPU      0.08s WALL (     399 calls)\n",
      "     init_us_2:cp :      0.06s CPU      0.07s WALL (     399 calls)\n",
      "     cegterg      :      1.86s CPU      3.39s WALL (     171 calls)\n",
      "\n",
      "     Called by sum_band:\n",
      "     sum_band:wei :      0.00s CPU      0.00s WALL (       9 calls)\n",
      "     sum_band:loo :      0.34s CPU      0.53s WALL (       9 calls)\n",
      "     sum_band:buf :      0.00s CPU      0.00s WALL (     171 calls)\n",
      "     sum_band:ini :      0.03s CPU      0.04s WALL (     171 calls)\n",
      "     sum_band:cal :      0.06s CPU      0.10s WALL (     171 calls)\n",
      "     sum_band:bec :      0.00s CPU      0.02s WALL (     171 calls)\n",
      "     addusdens    :      0.22s CPU      0.38s WALL (       9 calls)\n",
      "     addusd:skk   :      0.00s CPU      0.00s WALL (       9 calls)\n",
      "     addusd:dgemm :      0.08s CPU      0.06s WALL (       9 calls)\n",
      "     addusd:qvan2 :      0.11s CPU      0.24s WALL (       9 calls)\n",
      "\n",
      "     Called by *egterg:\n",
      "     cdiaghg      :      0.09s CPU      0.16s WALL (     580 calls)\n",
      "     cegterg:over :      0.11s CPU      0.16s WALL (     428 calls)\n",
      "     cegterg:upda :      0.04s CPU      0.11s WALL (     428 calls)\n",
      "     cegterg:last :      0.05s CPU      0.10s WALL (     326 calls)\n",
      "     h_psi        :      1.42s CPU      2.54s WALL (     618 calls)\n",
      "     s_psi        :      0.08s CPU      0.11s WALL (     618 calls)\n",
      "     g_psi        :      0.01s CPU      0.01s WALL (     428 calls)\n",
      "\n",
      "     Called by h_psi:\n",
      "     h_psi:calbec :      0.20s CPU      0.55s WALL (     618 calls)\n",
      "     vloc_psi     :      1.12s CPU      1.83s WALL (     618 calls)\n",
      "     add_vuspsi   :      0.09s CPU      0.14s WALL (     618 calls)\n",
      "\n",
      "     General routines\n",
      "     calbec       :      0.28s CPU      0.67s WALL (     884 calls)\n",
      "     fft          :      0.36s CPU      0.85s WALL (     141 calls)\n",
      "     ffts         :      0.13s CPU      0.33s WALL (      18 calls)\n",
      "     fftw         :      1.13s CPU      1.86s WALL (    8552 calls)\n",
      "     interpolate  :      0.14s CPU      0.34s WALL (       9 calls)\n",
      "\n",
      "     Parallel routines\n",
      "\n",
      "     PWSCF        :      4.46s CPU      8.87s WALL\n",
      "\n",
      "\n",
      "   This run was terminated on:  14:22:23   3Oct2022            \n",
      "\n",
      "=------------------------------------------------------------------------------=\n",
      "   JOB DONE.\n",
      "=------------------------------------------------------------------------------=\n",
      "\n"
     ]
    }
   ],
   "source": [
    "print(\"output files:\", output.node.get_retrieved_node().list_object_names())\n",
    "print(\"-\" * 10 + \"\\naiida.out\\n\" + \"-\" * 10)\n",
    "print(output.node.get_retrieved_node().get_object_content(\"aiida.out\"))"
   ]
  },
  {
   "cell_type": "markdown",
   "metadata": {},
   "source": [
    "and finally, the parsed results are stored on defined output nodes from the `CalcJobNode`."
   ]
  },
  {
   "cell_type": "code",
   "execution_count": 54,
   "metadata": {
    "tags": [
     "hide-output"
    ]
   },
   "outputs": [
    {
     "name": "stdout",
     "output_type": "stream",
     "text": [
      "\u001b[22mProperty     Value\n",
      "-----------  ------------------------------------\n",
      "type         PwCalculation\n",
      "state        Finished [0]\n",
      "pk           6\n",
      "uuid         4f8c9765-c87d-4de9-a78e-42062c034b79\n",
      "label\n",
      "description\n",
      "ctime        2022-10-03 12:22:10.549005+00:00\n",
      "mtime        2022-10-03 12:22:27.182118+00:00\n",
      "computer     [1] local_direct\n",
      "\n",
      "Inputs      PK    Type\n",
      "----------  ----  -------------\n",
      "pseudos\n",
      "    Si      2     UpfData\n",
      "code        1     Code\n",
      "kpoints     5     KpointsData\n",
      "parameters  4     Dict\n",
      "structure   3     StructureData\n",
      "\n",
      "Outputs              PK  Type\n",
      "-----------------  ----  --------------\n",
      "output_band           9  BandsData\n",
      "output_parameters    12  Dict\n",
      "output_structure     11  StructureData\n",
      "output_trajectory    10  TrajectoryData\n",
      "remote_folder         7  RemoteData\n",
      "retrieved             8  FolderData\u001b[0m\n"
     ]
    }
   ],
   "source": [
    "%verdi process show {output.node.pk}"
   ]
  },
  {
   "cell_type": "markdown",
   "metadata": {},
   "source": [
    "We can then access key results from the calculation using the `CalcJobNode`s `outputs` method (or loading the node by its identifier)."
   ]
  },
  {
   "cell_type": "code",
   "execution_count": 56,
   "metadata": {
    "tags": [
     "hide-output"
    ]
   },
   "outputs": [
    {
     "data": {
      "text/plain": [
       "{'lkpoint_dir': False,\n",
       " 'charge_density': './charge-density.dat',\n",
       " 'rho_cutoff_units': 'eV',\n",
       " 'wfc_cutoff_units': 'eV',\n",
       " 'fermi_energy_units': 'eV',\n",
       " 'symmetries_units': 'crystal',\n",
       " 'constraint_mag': 0,\n",
       " 'magnetization_angle2': [0.0],\n",
       " 'magnetization_angle1': [0.0],\n",
       " 'starting_magnetization': [0.0],\n",
       " 'has_electric_field': False,\n",
       " 'has_dipole_correction': False,\n",
       " 'lda_plus_u_calculation': False,\n",
       " 'format_name': 'QEXSD',\n",
       " 'format_version': '21.11.01',\n",
       " 'creator_name': 'pwscf',\n",
       " 'creator_version': '7.0',\n",
       " 'non_colinear_calculation': False,\n",
       " 'do_magnetization': False,\n",
       " 'time_reversal_flag': True,\n",
       " 'symmetries': [{'t_rev': '0', 'symmetry_number': 0},\n",
       "  {'t_rev': '0', 'symmetry_number': 3},\n",
       "  {'t_rev': '0', 'symmetry_number': 26},\n",
       "  {'t_rev': '0', 'symmetry_number': 27},\n",
       "  {'t_rev': '0', 'symmetry_number': 30},\n",
       "  {'t_rev': '0', 'symmetry_number': 31},\n",
       "  {'t_rev': '0', 'symmetry_number': 32},\n",
       "  {'t_rev': '0', 'symmetry_number': 35},\n",
       "  {'t_rev': '0', 'symmetry_number': 58},\n",
       "  {'t_rev': '0', 'symmetry_number': 59},\n",
       "  {'t_rev': '0', 'symmetry_number': 62},\n",
       "  {'t_rev': '0', 'symmetry_number': 63}],\n",
       " 'lattice_symmetries': [],\n",
       " 'do_not_use_time_reversal': False,\n",
       " 'spin_orbit_domag': False,\n",
       " 'fft_grid': [36, 36, 36],\n",
       " 'lsda': False,\n",
       " 'number_of_spin_components': 1,\n",
       " 'no_time_rev_operations': False,\n",
       " 'inversion_symmetry': True,\n",
       " 'number_of_bravais_symmetries': 12,\n",
       " 'number_of_symmetries': 12,\n",
       " 'wfc_cutoff': 408.170751759,\n",
       " 'rho_cutoff': 3265.366014072,\n",
       " 'smooth_fft_grid': [32, 32, 32],\n",
       " 'dft_exchange_correlation': 'PBE',\n",
       " 'spin_orbit_calculation': False,\n",
       " 'q_real_space': False,\n",
       " 'degauss': 0.136056917253,\n",
       " 'smearing_type': 'mv',\n",
       " 'number_of_bands': 8,\n",
       " 'fermi_energy': 6.9694,\n",
       " 'number_of_atomic_wfc': 8,\n",
       " 'number_of_k_points': 19,\n",
       " 'number_of_electrons': 8.0,\n",
       " 'monkhorst_pack_grid': [5, 5, 5],\n",
       " 'monkhorst_pack_offset': [0, 0, 0],\n",
       " 'occupations': 'smearing',\n",
       " 'beta_real_space': False,\n",
       " 'convergence_info': {'scf_conv': {'convergence_achieved': True,\n",
       "   'n_scf_steps': 8,\n",
       "   'scf_error': 2.0473822072826e-10},\n",
       "  'opt_conv': {'convergence_achieved': True,\n",
       "   'n_opt_steps': 0,\n",
       "   'grad_norm': 1.2136245788082e-06}},\n",
       " 'number_of_atoms': 2,\n",
       " 'number_of_species': 1,\n",
       " 'volume': 38.438434271807,\n",
       " 'estimated_ram_per_process': 32.37,\n",
       " 'estimated_ram_per_process_units': 'MB',\n",
       " 'estimated_ram_total': 64.74,\n",
       " 'estimated_ram_total_units': 'MB',\n",
       " 'init_wall_time_seconds': 2.4,\n",
       " 'total_number_of_scf_iterations': 8,\n",
       " 'wall_time': '      8.87s ',\n",
       " 'wall_time_seconds': 8.87,\n",
       " 'energy_units': 'eV',\n",
       " 'energy_accuracy_units': 'eV',\n",
       " 'energy_smearing_units': 'eV',\n",
       " 'energy_one_electron_units': 'eV',\n",
       " 'energy_hartree_units': 'eV',\n",
       " 'energy_xc_units': 'eV',\n",
       " 'energy_ewald_units': 'eV',\n",
       " 'forces_units': 'ev / angstrom',\n",
       " 'total_force_units': 'ev / angstrom',\n",
       " 'stress_units': 'GPascal',\n",
       " 'energy_threshold': 9.74e-11,\n",
       " 'energy': -310.62985686496,\n",
       " 'energy_accuracy': 5.578333607373e-09,\n",
       " 'energy_smearing': 0.00019360899325102,\n",
       " 'energy_one_electron': 74.650126472201,\n",
       " 'energy_hartree': 14.629974457732,\n",
       " 'energy_xc': -168.2450922574,\n",
       " 'energy_ewald': -231.66505914649,\n",
       " 'scf_iterations': 8,\n",
       " 'total_force': 2.5711031209285e-05}"
      ]
     },
     "execution_count": 56,
     "metadata": {},
     "output_type": "execute_result"
    }
   ],
   "source": [
    "output.node.outputs.output_parameters.get_dict()"
   ]
  },
  {
   "cell_type": "markdown",
   "metadata": {},
   "source": [
    "AiiDA automatically generates links between the inputs, calculation and outputs, to generate the provenance graph.\n",
    "The provence graph is a directed acyclic graph (DAG) that contains the nodes and links between them, and can be used for visualisation of a calculation or workflow, or with advance querying of the stored results.\n"
   ]
  },
  {
   "cell_type": "code",
   "execution_count": 23,
   "metadata": {},
   "outputs": [
    {
     "data": {
      "image/svg+xml": "<?xml version=\"1.0\" encoding=\"UTF-8\" standalone=\"no\"?>\n<!DOCTYPE svg PUBLIC \"-//W3C//DTD SVG 1.1//EN\"\n \"http://www.w3.org/Graphics/SVG/1.1/DTD/svg11.dtd\">\n<!-- Generated by graphviz version 5.0.0 (0)\n -->\n<!-- Pages: 1 -->\n<svg width=\"976pt\" height=\"300pt\"\n viewBox=\"0.00 0.00 975.86 300.48\" xmlns=\"http://www.w3.org/2000/svg\" xmlns:xlink=\"http://www.w3.org/1999/xlink\">\n<g id=\"graph0\" class=\"graph\" transform=\"scale(1 1) rotate(0) translate(4 296.48)\">\n<polygon fill=\"white\" stroke=\"transparent\" points=\"-4,4 -4,-296.48 971.86,-296.48 971.86,4 -4,4\"/>\n<!-- N1 -->\n<g id=\"node1\" class=\"node\">\n<title>N1</title>\n<ellipse fill=\"#4ca4b9\" fill-opacity=\"0.666667\" stroke=\"black\" stroke-width=\"0\" cx=\"157.54\" cy=\"-265.61\" rx=\"84.29\" ry=\"26.74\"/>\n<text text-anchor=\"middle\" x=\"157.54\" y=\"-269.41\" font-family=\"Times,serif\" font-size=\"14.00\">Code (1)</text>\n<text text-anchor=\"middle\" x=\"157.54\" y=\"-254.41\" font-family=\"Times,serif\" font-size=\"14.00\">pw.x@local_direct</text>\n</g>\n<!-- N6 -->\n<g id=\"node6\" class=\"node\">\n<title>N6</title>\n<polygon fill=\"#de707f\" stroke=\"black\" stroke-width=\"0\" points=\"531.54,-172.74 415.54,-172.74 415.54,-119.74 531.54,-119.74 531.54,-172.74\"/>\n<text text-anchor=\"middle\" x=\"473.54\" y=\"-157.54\" font-family=\"Times,serif\" font-size=\"14.00\">PwCalculation (6)</text>\n<text text-anchor=\"middle\" x=\"473.54\" y=\"-142.54\" font-family=\"Times,serif\" font-size=\"14.00\">State: finished</text>\n<text text-anchor=\"middle\" x=\"473.54\" y=\"-127.54\" font-family=\"Times,serif\" font-size=\"14.00\">Exit Code: 0</text>\n</g>\n<!-- N1&#45;&gt;N6 -->\n<g id=\"edge5\" class=\"edge\">\n<title>N1&#45;&gt;N6</title>\n<path fill=\"none\" stroke=\"#000000\" d=\"M187.01,-240.22C208.19,-223.89 238.08,-203.18 267.54,-190.74 311.55,-172.14 364.33,-161.2 405.45,-154.94\"/>\n<polygon fill=\"#000000\" stroke=\"#000000\" points=\"405.98,-158.4 415.37,-153.48 404.96,-151.47 405.98,-158.4\"/>\n<text text-anchor=\"middle\" x=\"309.04\" y=\"-209.54\" font-family=\"Times,serif\" font-size=\"14.00\">INPUT_CALC</text>\n<text text-anchor=\"middle\" x=\"309.04\" y=\"-194.54\" font-family=\"Times,serif\" font-size=\"14.00\">code</text>\n</g>\n<!-- N2 -->\n<g id=\"node2\" class=\"node\">\n<title>N2</title>\n<ellipse fill=\"#8cd499\" stroke=\"black\" stroke-width=\"0\" cx=\"318.54\" cy=\"-265.61\" rx=\"58.88\" ry=\"26.74\"/>\n<text text-anchor=\"middle\" x=\"318.54\" y=\"-269.41\" font-family=\"Times,serif\" font-size=\"14.00\">UpfData (2)</text>\n<text text-anchor=\"middle\" x=\"318.54\" y=\"-254.41\" font-family=\"Times,serif\" font-size=\"14.00\">Si</text>\n</g>\n<!-- N2&#45;&gt;N6 -->\n<g id=\"edge1\" class=\"edge\">\n<title>N2&#45;&gt;N6</title>\n<path fill=\"none\" stroke=\"#000000\" d=\"M337.43,-239.84C350.12,-224.37 367.88,-204.79 386.54,-190.74 392.71,-186.1 399.44,-181.73 406.35,-177.68\"/>\n<polygon fill=\"#000000\" stroke=\"#000000\" points=\"408.16,-180.68 415.16,-172.73 404.73,-174.58 408.16,-180.68\"/>\n<text text-anchor=\"middle\" x=\"428.04\" y=\"-209.54\" font-family=\"Times,serif\" font-size=\"14.00\">INPUT_CALC</text>\n<text text-anchor=\"middle\" x=\"428.04\" y=\"-194.54\" font-family=\"Times,serif\" font-size=\"14.00\">pseudos__Si</text>\n</g>\n<!-- N3 -->\n<g id=\"node3\" class=\"node\">\n<title>N3</title>\n<ellipse fill=\"#8cd499\" stroke=\"black\" stroke-width=\"0\" cx=\"473.54\" cy=\"-265.61\" rx=\"78.48\" ry=\"26.74\"/>\n<text text-anchor=\"middle\" x=\"473.54\" y=\"-269.41\" font-family=\"Times,serif\" font-size=\"14.00\">StructureData (3)</text>\n<text text-anchor=\"middle\" x=\"473.54\" y=\"-254.41\" font-family=\"Times,serif\" font-size=\"14.00\">Si2</text>\n</g>\n<!-- N3&#45;&gt;N6 -->\n<g id=\"edge3\" class=\"edge\">\n<title>N3&#45;&gt;N6</title>\n<path fill=\"none\" stroke=\"#000000\" d=\"M473.54,-238.56C473.54,-222.19 473.54,-200.85 473.54,-182.91\"/>\n<polygon fill=\"#000000\" stroke=\"#000000\" points=\"477.04,-182.81 473.54,-172.81 470.04,-182.81 477.04,-182.81\"/>\n<text text-anchor=\"middle\" x=\"515.04\" y=\"-209.54\" font-family=\"Times,serif\" font-size=\"14.00\">INPUT_CALC</text>\n<text text-anchor=\"middle\" x=\"515.04\" y=\"-194.54\" font-family=\"Times,serif\" font-size=\"14.00\">structure</text>\n</g>\n<!-- N4 -->\n<g id=\"node4\" class=\"node\">\n<title>N4</title>\n<ellipse fill=\"#8cd499\" stroke=\"black\" stroke-width=\"0\" cx=\"608.54\" cy=\"-265.61\" rx=\"38.19\" ry=\"18\"/>\n<text text-anchor=\"middle\" x=\"608.54\" y=\"-261.91\" font-family=\"Times,serif\" font-size=\"14.00\">Dict (4)</text>\n</g>\n<!-- N4&#45;&gt;N6 -->\n<g id=\"edge4\" class=\"edge\">\n<title>N4&#45;&gt;N6</title>\n<path fill=\"none\" stroke=\"#000000\" d=\"M600.9,-247.81C592.8,-231.51 578.67,-206.94 560.54,-190.74 554.61,-185.44 547.91,-180.62 540.93,-176.28\"/>\n<polygon fill=\"#000000\" stroke=\"#000000\" points=\"542.38,-173.07 531.98,-171.04 538.84,-179.11 542.38,-173.07\"/>\n<text text-anchor=\"middle\" x=\"626.04\" y=\"-209.54\" font-family=\"Times,serif\" font-size=\"14.00\">INPUT_CALC</text>\n<text text-anchor=\"middle\" x=\"626.04\" y=\"-194.54\" font-family=\"Times,serif\" font-size=\"14.00\">parameters</text>\n</g>\n<!-- N5 -->\n<g id=\"node5\" class=\"node\">\n<title>N5</title>\n<ellipse fill=\"#8cd499\" stroke=\"black\" stroke-width=\"0\" cx=\"816.54\" cy=\"-265.61\" rx=\"151.14\" ry=\"26.74\"/>\n<text text-anchor=\"middle\" x=\"816.54\" y=\"-269.41\" font-family=\"Times,serif\" font-size=\"14.00\">KpointsData (5)</text>\n<text text-anchor=\"middle\" x=\"816.54\" y=\"-254.41\" font-family=\"Times,serif\" font-size=\"14.00\">Kpoints mesh: 5x5x5 (+0.0,0.0,0.0)</text>\n</g>\n<!-- N5&#45;&gt;N6 -->\n<g id=\"edge2\" class=\"edge\">\n<title>N5&#45;&gt;N6</title>\n<path fill=\"none\" stroke=\"#000000\" d=\"M774.67,-239.67C746.38,-223.73 707.71,-203.69 671.54,-190.74 629.56,-175.72 580.65,-164.91 541.94,-157.82\"/>\n<polygon fill=\"#000000\" stroke=\"#000000\" points=\"542.27,-154.33 531.81,-156.01 541.04,-161.22 542.27,-154.33\"/>\n<text text-anchor=\"middle\" x=\"778.04\" y=\"-209.54\" font-family=\"Times,serif\" font-size=\"14.00\">INPUT_CALC</text>\n<text text-anchor=\"middle\" x=\"778.04\" y=\"-194.54\" font-family=\"Times,serif\" font-size=\"14.00\">kpoints</text>\n</g>\n<!-- N7 -->\n<g id=\"node7\" class=\"node\">\n<title>N7</title>\n<ellipse fill=\"#8cd499\" stroke=\"black\" stroke-width=\"0\" cx=\"73.54\" cy=\"-26.87\" rx=\"73.58\" ry=\"26.74\"/>\n<text text-anchor=\"middle\" x=\"73.54\" y=\"-30.67\" font-family=\"Times,serif\" font-size=\"14.00\">RemoteData (7)</text>\n<text text-anchor=\"middle\" x=\"73.54\" y=\"-15.67\" font-family=\"Times,serif\" font-size=\"14.00\">@local_direct</text>\n</g>\n<!-- N6&#45;&gt;N7 -->\n<g id=\"edge10\" class=\"edge\">\n<title>N6&#45;&gt;N7</title>\n<path fill=\"none\" stroke=\"#000000\" d=\"M415.31,-139.76C364.12,-133.85 288.09,-122.37 224.54,-101.74 188.22,-89.95 149.58,-70.91 120.48,-55.12\"/>\n<polygon fill=\"#000000\" stroke=\"#000000\" points=\"121.84,-51.87 111.39,-50.12 118.46,-58 121.84,-51.87\"/>\n<text text-anchor=\"middle\" x=\"263.54\" y=\"-90.54\" font-family=\"Times,serif\" font-size=\"14.00\">CREATE</text>\n<text text-anchor=\"middle\" x=\"263.54\" y=\"-75.54\" font-family=\"Times,serif\" font-size=\"14.00\">remote_folder</text>\n</g>\n<!-- N8 -->\n<g id=\"node8\" class=\"node\">\n<title>N8</title>\n<ellipse fill=\"#8cd499\" stroke=\"black\" stroke-width=\"0\" cx=\"228.54\" cy=\"-26.87\" rx=\"63.09\" ry=\"18\"/>\n<text text-anchor=\"middle\" x=\"228.54\" y=\"-23.17\" font-family=\"Times,serif\" font-size=\"14.00\">FolderData (8)</text>\n</g>\n<!-- N6&#45;&gt;N8 -->\n<g id=\"edge7\" class=\"edge\">\n<title>N6&#45;&gt;N8</title>\n<path fill=\"none\" stroke=\"#000000\" d=\"M415.32,-124.07C398.13,-117.38 379.4,-109.65 362.54,-101.74 327.9,-85.49 289.83,-64.15 263.15,-48.58\"/>\n<polygon fill=\"#000000\" stroke=\"#000000\" points=\"264.6,-45.38 254.21,-43.33 261.06,-51.41 264.6,-45.38\"/>\n<text text-anchor=\"middle\" x=\"388.54\" y=\"-90.54\" font-family=\"Times,serif\" font-size=\"14.00\">CREATE</text>\n<text text-anchor=\"middle\" x=\"388.54\" y=\"-75.54\" font-family=\"Times,serif\" font-size=\"14.00\">retrieved</text>\n</g>\n<!-- N9 -->\n<g id=\"node9\" class=\"node\">\n<title>N9</title>\n<ellipse fill=\"#8cd499\" stroke=\"black\" stroke-width=\"0\" cx=\"385.54\" cy=\"-26.87\" rx=\"76.24\" ry=\"26.74\"/>\n<text text-anchor=\"middle\" x=\"385.54\" y=\"-30.67\" font-family=\"Times,serif\" font-size=\"14.00\">BandsData (9)</text>\n<text text-anchor=\"middle\" x=\"385.54\" y=\"-15.67\" font-family=\"Times,serif\" font-size=\"14.00\">(Path of 19 kpts)</text>\n</g>\n<!-- N6&#45;&gt;N9 -->\n<g id=\"edge6\" class=\"edge\">\n<title>N6&#45;&gt;N9</title>\n<path fill=\"none\" stroke=\"#000000\" d=\"M454.23,-119.48C441.42,-102.4 424.48,-79.8 410.62,-61.33\"/>\n<polygon fill=\"#000000\" stroke=\"#000000\" points=\"413.3,-59.07 404.5,-53.16 407.7,-63.26 413.3,-59.07\"/>\n<text text-anchor=\"middle\" x=\"473.54\" y=\"-90.54\" font-family=\"Times,serif\" font-size=\"14.00\">CREATE</text>\n<text text-anchor=\"middle\" x=\"473.54\" y=\"-75.54\" font-family=\"Times,serif\" font-size=\"14.00\">output_band</text>\n</g>\n<!-- N10 -->\n<g id=\"node10\" class=\"node\">\n<title>N10</title>\n<ellipse fill=\"#8cd499\" stroke=\"black\" stroke-width=\"0\" cx=\"561.54\" cy=\"-26.87\" rx=\"81.49\" ry=\"18\"/>\n<text text-anchor=\"middle\" x=\"561.54\" y=\"-23.17\" font-family=\"Times,serif\" font-size=\"14.00\">TrajectoryData (10)</text>\n</g>\n<!-- N6&#45;&gt;N10 -->\n<g id=\"edge11\" class=\"edge\">\n<title>N6&#45;&gt;N10</title>\n<path fill=\"none\" stroke=\"#000000\" d=\"M496.98,-119.46C501.92,-113.73 507.01,-107.62 511.54,-101.74 523.52,-86.2 535.88,-67.94 545.32,-53.47\"/>\n<polygon fill=\"#000000\" stroke=\"#000000\" points=\"548.31,-55.31 550.79,-45.01 542.43,-51.51 548.31,-55.31\"/>\n<text text-anchor=\"middle\" x=\"579.54\" y=\"-90.54\" font-family=\"Times,serif\" font-size=\"14.00\">CREATE</text>\n<text text-anchor=\"middle\" x=\"579.54\" y=\"-75.54\" font-family=\"Times,serif\" font-size=\"14.00\">output_trajectory</text>\n</g>\n<!-- N11 -->\n<g id=\"node11\" class=\"node\">\n<title>N11</title>\n<ellipse fill=\"#8cd499\" stroke=\"black\" stroke-width=\"0\" cx=\"744.54\" cy=\"-26.87\" rx=\"83.38\" ry=\"26.74\"/>\n<text text-anchor=\"middle\" x=\"744.54\" y=\"-30.67\" font-family=\"Times,serif\" font-size=\"14.00\">StructureData (11)</text>\n<text text-anchor=\"middle\" x=\"744.54\" y=\"-15.67\" font-family=\"Times,serif\" font-size=\"14.00\">Si2</text>\n</g>\n<!-- N6&#45;&gt;N11 -->\n<g id=\"edge9\" class=\"edge\">\n<title>N6&#45;&gt;N11</title>\n<path fill=\"none\" stroke=\"#000000\" d=\"M531.69,-133.6C561.94,-126.44 599.07,-115.89 630.54,-101.74 656.63,-90.01 683.58,-72.81 704.73,-57.96\"/>\n<polygon fill=\"#000000\" stroke=\"#000000\" points=\"707.01,-60.63 713.12,-51.98 702.95,-54.93 707.01,-60.63\"/>\n<text text-anchor=\"middle\" x=\"726.04\" y=\"-90.54\" font-family=\"Times,serif\" font-size=\"14.00\">CREATE</text>\n<text text-anchor=\"middle\" x=\"726.04\" y=\"-75.54\" font-family=\"Times,serif\" font-size=\"14.00\">output_structure</text>\n</g>\n<!-- N12 -->\n<g id=\"node12\" class=\"node\">\n<title>N12</title>\n<ellipse fill=\"#8cd499\" stroke=\"black\" stroke-width=\"0\" cx=\"888.54\" cy=\"-26.87\" rx=\"42.79\" ry=\"18\"/>\n<text text-anchor=\"middle\" x=\"888.54\" y=\"-23.17\" font-family=\"Times,serif\" font-size=\"14.00\">Dict (12)</text>\n</g>\n<!-- N6&#45;&gt;N12 -->\n<g id=\"edge8\" class=\"edge\">\n<title>N6&#45;&gt;N12</title>\n<path fill=\"none\" stroke=\"#000000\" d=\"M531.66,-144.18C593.66,-141.39 693.85,-132.04 774.54,-101.74 807.23,-89.46 840.25,-66.67 862.27,-49.64\"/>\n<polygon fill=\"#000000\" stroke=\"#000000\" points=\"864.47,-52.37 870.15,-43.43 860.13,-46.87 864.47,-52.37\"/>\n<text text-anchor=\"middle\" x=\"880.54\" y=\"-90.54\" font-family=\"Times,serif\" font-size=\"14.00\">CREATE</text>\n<text text-anchor=\"middle\" x=\"880.54\" y=\"-75.54\" font-family=\"Times,serif\" font-size=\"14.00\">output_parameters</text>\n</g>\n</g>\n</svg>\n",
      "text/plain": [
       "<graphviz.graphs.Digraph at 0x15b9cccd0>"
      ]
     },
     "execution_count": 23,
     "metadata": {},
     "output_type": "execute_result"
    }
   ],
   "source": [
    "from aiida.tools.visualization import Graph\n",
    "\n",
    "graph = Graph()\n",
    "graph.add_incoming(output.node, annotate_links=\"both\")\n",
    "graph.add_outgoing(output.node, annotate_links=\"both\")\n",
    "graph.graphviz"
   ]
  },
  {
   "cell_type": "code",
   "execution_count": 64,
   "metadata": {},
   "outputs": [
    {
     "data": {
      "text/plain": [
       "[{'initial': {'*': <StructureData: uuid: 1980a2ad-f9b1-48d1-bf2b-b97922c95c7c (pk: 3)>},\n",
       "  'calculation': {'id': 6},\n",
       "  'final': {'*': <StructureData: uuid: 5ea8b2e2-d1de-4996-b19f-8df830a6618a (pk: 11)>}}]"
      ]
     },
     "execution_count": 64,
     "metadata": {},
     "output_type": "execute_result"
    }
   ],
   "source": [
    "query = aiida.orm.QueryBuilder()\n",
    "query.append(aiida.orm.StructureData, tag=\"initial\", project=\"*\")\n",
    "query.append(\n",
    "    aiida.orm.CalcJobNode,\n",
    "    filters={\"attributes.process_state\": \"finished\"},\n",
    "    tag=\"calculation\",\n",
    "    with_incoming=\"initial\",\n",
    "    project=\"id\",\n",
    ")\n",
    "query.append(\n",
    "    aiida.orm.StructureData, tag=\"final\", with_incoming=\"calculation\", project=\"*\"\n",
    ")\n",
    "query.dict()"
   ]
  },
  {
   "cell_type": "code",
   "execution_count": null,
   "metadata": {},
   "outputs": [],
   "source": []
  }
 ],
 "metadata": {
  "kernelspec": {
   "display_name": "Python 3 (ipykernel)",
   "language": "python",
   "name": "python3"
  },
  "language_info": {
   "codemirror_mode": {
    "name": "ipython",
    "version": 3
   },
   "file_extension": ".py",
   "mimetype": "text/x-python",
   "name": "python",
   "nbconvert_exporter": "python",
   "pygments_lexer": "ipython3",
   "version": "3.9.13"
  },
  "vscode": {
   "interpreter": {
    "hash": "20c30adb377910d9d5c8112cf74e9f7ecb37538254a701570d770f074373c53e"
   }
  }
 },
 "nbformat": 4,
 "nbformat_minor": 4
}
