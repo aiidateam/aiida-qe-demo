{
 "cells": [
  {
   "cell_type": "markdown",
   "metadata": {},
   "source": [
    "# Automating Input Generation"
   ]
  },
  {
   "cell_type": "markdown",
   "metadata": {},
   "source": [
    ":::{admonition} Learning Objectives\n",
    ":class: learning-objectives\n",
    "\n",
    "For larger and more complex projects it is beneficial to automate the generation of input nodes, rather than manually creating them.\n",
    "\n",
    "In this section we will learn methods for generating input nodes in a more automated fashion.\n",
    "\n",
    ":::"
   ]
  },
  {
   "cell_type": "markdown",
   "metadata": {},
   "source": [
    "In the previous section, we generated the inputs for a calculation manually,\n",
    "by reading from a previously written input file.\n",
    "\n",
    "For more complex calculations though, it is likely that we would like to automate the input generation process.\n",
    "\n",
    "In this section, we will see the some methods for generating the inputs for a `PwCalculation` automatically."
   ]
  },
  {
   "cell_type": "code",
   "execution_count": null,
   "metadata": {
    "tags": [
     "hide-cell"
    ]
   },
   "outputs": [],
   "source": [
    "from local_module import load_temp_profile\n",
    "\n",
    "data = load_temp_profile(name=\"input-gen\", add_sssp=True)\n",
    "data"
   ]
  },
  {
   "cell_type": "markdown",
   "metadata": {},
   "source": [
    "## Structures"
   ]
  },
  {
   "cell_type": "markdown",
   "metadata": {},
   "source": [
    "..."
   ]
  },
  {
   "cell_type": "markdown",
   "metadata": {},
   "source": [
    "## Importing structures from external databases"
   ]
  },
  {
   "cell_type": "code",
   "execution_count": null,
   "metadata": {},
   "outputs": [],
   "source": [
    "from aiida.tools.dbimporters.plugins.cod import CodEntry\n",
    "\n",
    "entry = CodEntry(\"http://www.crystallography.net/cod/1526655.cif\")\n",
    "structure = entry.get_aiida_structure()\n",
    "structure.get_pymatgen()"
   ]
  },
  {
   "cell_type": "markdown",
   "metadata": {},
   "source": [
    "## Importing Pseudopotential families"
   ]
  },
  {
   "cell_type": "markdown",
   "metadata": {},
   "source": [
    "```console\n",
    "$ aiida-pseudo install sssp -x PBE -p efficiency -v 1.1\n",
    "```"
   ]
  },
  {
   "cell_type": "code",
   "execution_count": null,
   "metadata": {},
   "outputs": [],
   "source": [
    "from aiida import orm\n",
    "\n",
    "family = orm.Group.collection.get(label=\"SSSP/1.1/PBE/efficiency\")\n",
    "family"
   ]
  },
  {
   "cell_type": "code",
   "execution_count": null,
   "metadata": {},
   "outputs": [],
   "source": [
    "entry = CodEntry(\"http://www.crystallography.net/cod/1526655.cif\")\n",
    "structure = entry.get_aiida_structure()\n",
    "family.get_pseudos(structure=structure)"
   ]
  },
  {
   "cell_type": "markdown",
   "metadata": {},
   "source": [
    "## Generating Kpoints by distance"
   ]
  },
  {
   "cell_type": "code",
   "execution_count": null,
   "metadata": {},
   "outputs": [],
   "source": [
    "import aiida_quantumespresso.calculations.functions.create_kpoints_from_distance as ks\n",
    "\n",
    "entry = CodEntry(\"http://www.crystallography.net/cod/1526655.cif\")\n",
    "structure = entry.get_aiida_structure()\n",
    "kpoints = ks.create_kpoints_from_distance(structure, orm.Float(0.2), orm.Bool(False))\n",
    "kpoints.base.attributes.all"
   ]
  },
  {
   "cell_type": "code",
   "execution_count": null,
   "metadata": {},
   "outputs": [],
   "source": [
    "from local_module.optimade import get_providers, yield_structures\n",
    "\n",
    "get_providers()[[\"name\", \"description\"]]"
   ]
  },
  {
   "cell_type": "code",
   "execution_count": null,
   "metadata": {},
   "outputs": [],
   "source": [
    "from local_module.optimade import yield_structures, count_structures\n",
    "count_structures(\"cod\", 'chemical_formula_hill = \"Si\" AND nelements = 1')"
   ]
  },
  {
   "cell_type": "code",
   "execution_count": null,
   "metadata": {},
   "outputs": [],
   "source": [
    "# for x in yield_structures(\"cod\", 'chemical_formula_hill = \"Si\" AND nelements = 2'):\n",
    "#     print(x)"
   ]
  }
 ],
 "metadata": {
  "kernelspec": {
   "display_name": "Python 3.9.13 ('aiida-qe-demo')",
   "language": "python",
   "name": "python3"
  },
  "language_info": {
   "codemirror_mode": {
    "name": "ipython",
    "version": 3
   },
   "file_extension": ".py",
   "mimetype": "text/x-python",
   "name": "python",
   "nbconvert_exporter": "python",
   "pygments_lexer": "ipython3",
   "version": "3.9.13"
  },
  "vscode": {
   "interpreter": {
    "hash": "20c30adb377910d9d5c8112cf74e9f7ecb37538254a701570d770f074373c53e"
   }
  }
 },
 "nbformat": 4,
 "nbformat_minor": 2
}
