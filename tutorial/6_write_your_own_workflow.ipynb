{
 "cells": [
  {
   "cell_type": "markdown",
   "metadata": {},
   "source": [
    "# Write your own workflows - EoS example\n",
    "\n",
    ":::{admonition} Learning Objectives\n",
    ":class: learning-objectives\n",
    "\n",
    "In this section we will look at how you can write your own workflows.\n",
    "\n",
    "We will also introduce the concepts of calcfunctions, workfunctions, and workchains, and how to use them to write a simple workflow for computing an Equation of State (EoS).\n",
    "\n",
    ":::\n",
    "\n",
    "Lets look at a representative example of a workflow; a simple calculation of the Equation of State (EoS) of a crystal structure.\n",
    "\n",
    "An equation of state consists of calculating the total energy (E) as a function of the unit cell volume (V).\n",
    "For this we need to relax the structure at a number of different volumes, and then analyse the results."
   ]
  },
  {
   "cell_type": "code",
   "execution_count": null,
   "metadata": {
    "tags": [
     "hide-cell"
    ]
   },
   "outputs": [],
   "source": [
    "from local_module import load_temp_profile\n",
    "\n",
    "data = load_temp_profile(name=\"workflow\", add_computer=True, add_pw_code=True, add_sssp=True, add_structure_si=True)\n",
    "data"
   ]
  },
  {
   "cell_type": "markdown",
   "metadata": {},
   "source": [
    "## Parametrizing the input structure volume"
   ]
  },
  {
   "cell_type": "markdown",
   "metadata": {},
   "source": [
    "In the previous section on [](4_generating_inputs.ipynb) we saw how AiiDA can interface with [ASE](https://wiki.fysik.dtu.dk/ase/).\n",
    "We can use this to write a simple function for generating a set of input structures."
   ]
  },
  {
   "cell_type": "code",
   "execution_count": null,
   "metadata": {},
   "outputs": [],
   "source": [
    "from aiida import engine, orm\n",
    "\n",
    "@engine.calcfunction\n",
    "def rescale(structure: orm.StructureData, scale: orm.Float) -> orm.StructureData:\n",
    "    \"\"\"Rescale a structure's unit cell.\"\"\"\n",
    "    from aiida.orm import StructureData\n",
    "\n",
    "    ase_structure = structure.get_ase()\n",
    "    scale_value = scale.value\n",
    "\n",
    "    new_cell = ase_structure.get_cell() * scale_value\n",
    "    ase_structure.set_cell(new_cell, scale_atoms=True)\n",
    "\n",
    "    return StructureData(ase=ase_structure)"
   ]
  },
  {
   "cell_type": "markdown",
   "metadata": {},
   "source": [
    "Note the `@engine.calcfunction` function decorator.\n",
    "This is a special decorator that tells AiiDA that this function should be treated as a calculation node in the provenance graph.\n",
    "\n",
    "Now when we run this function, we will store the output structure in the profile, but also their link to the original input structure."
   ]
  },
  {
   "cell_type": "code",
   "execution_count": null,
   "metadata": {},
   "outputs": [],
   "source": [
    "for factor in (0.99, 1.0, 1.01):\n",
    "    rescale(data.structure, orm.Float(factor))"
   ]
  },
  {
   "cell_type": "code",
   "execution_count": null,
   "metadata": {},
   "outputs": [],
   "source": [
    "from aiida.tools.visualization import Graph\n",
    "\n",
    "graph = Graph(graph_attr={\"rankdir\": \"LR\", \"size\": \"8!,8!\"})\n",
    "graph.recurse_descendants(\n",
    "    data.structure, depth=2, annotate_links=\"both\", include_process_inputs=True\n",
    ")\n",
    "graph.graphviz"
   ]
  },
  {
   "cell_type": "markdown",
   "metadata": {},
   "source": [
    "## What's the difference between a workflow and a calculation?\n",
    "\n",
    "In the `calcfunction` example above, we saw that we can use the `@engine.calcfunction` decorator to tell AiiDA that a function should be treated as a calculation node in the provenance graph.\n",
    "A calculation is process which takes some data inputs, and produces some data outputs, i.e. it is a creator of data and can only have one step.\n",
    "\n",
    "By contrast, a workflow is a process which does not itself create data, but rather calls child calculations to create the data, passing the intermediate result between them.\n",
    "\n",
    "![workfunction full](_static/example_workfunction_full.png){align=center width=\"80%\"}\n",
    "\n",
    "In this way, we can separate the _logical_ flow of the computations from the _physical_ flow of the data.\n",
    "\n",
    "![workfunction logical](_static/example_workfunction_logical.png){align=center width=\"80%\"}"
   ]
  },
  {
   "cell_type": "markdown",
   "metadata": {},
   "source": [
    "## Writing an EoS workfunction"
   ]
  },
  {
   "cell_type": "markdown",
   "metadata": {},
   "source": [
    "First lets define some \"helper\" functions for setting up the SCF calculations, for each structure, and for bundling the results into a single dictionary."
   ]
  },
  {
   "cell_type": "code",
   "execution_count": null,
   "metadata": {
    "tags": [
     "hide-input"
    ]
   },
   "outputs": [],
   "source": [
    "from aiida import engine, orm\n",
    "\n",
    "\n",
    "def generate_scf_input_params(\n",
    "    structure: orm.StructureData, code: orm.Code, pseudo_family\n",
    ") -> engine.ProcessBuilder:\n",
    "    \"\"\"Construct a builder for the `PwCalculation` class and populate its inputs.\n",
    "    \"\"\"\n",
    "    parameters = {\n",
    "        \"CONTROL\": {\n",
    "            \"calculation\": \"scf\",\n",
    "            \"tstress\": True,  # Important that this stays to get stress\n",
    "            \"tprnfor\": True,\n",
    "        },\n",
    "        \"SYSTEM\": {\n",
    "            \"ecutwfc\": 30.0,\n",
    "            \"ecutrho\": 200.0,\n",
    "        },\n",
    "        \"ELECTRONS\": {\n",
    "            \"conv_thr\": 1.0e-6,\n",
    "        },\n",
    "    }\n",
    "\n",
    "    kpoints = orm.KpointsData()\n",
    "    kpoints.set_kpoints_mesh([2, 2, 2])\n",
    "\n",
    "    builder = code.get_builder()\n",
    "    builder.code = code\n",
    "    builder.structure = structure\n",
    "    builder.kpoints = kpoints\n",
    "    builder.parameters = orm.Dict(dict=parameters)\n",
    "    builder.pseudos = pseudo_family.get_pseudos(structure=structure)\n",
    "    builder.metadata.options.resources = {\"num_machines\": 1}\n",
    "    builder.metadata.options.max_wallclock_seconds = 30 * 60\n",
    "\n",
    "    return builder\n",
    "\n",
    "\n",
    "@engine.calcfunction\n",
    "def create_eos_dictionary(**kwargs: orm.Dict) -> orm.Dict:\n",
    "    \"\"\"Create a single `Dict` node from the `Dict` output parameters of completed `PwCalculations`.\n",
    "\n",
    "    The dictionary will contain a list of tuples, where each tuple contains the volume, total energy and its units\n",
    "    of the results of a calculation.\n",
    "    \"\"\"\n",
    "    eos = [\n",
    "        (result.dict.volume, result.dict.energy, result.dict.energy_units)\n",
    "        for label, result in kwargs.items()\n",
    "    ]\n",
    "    return orm.Dict(dict={\"eos\": eos})"
   ]
  },
  {
   "cell_type": "markdown",
   "metadata": {},
   "source": [
    "Now we can write a simple EoS workfunction, which internally calls calculations to create the data, and then bundles the results into a single dictionary.\n",
    "\n",
    "Similarly to the `calcfunction` example above, we use the `@engine.workfunction` decorator to tell AiiDA that this function should be treated as a workflow and store links between the nodes."
   ]
  },
  {
   "cell_type": "code",
   "execution_count": null,
   "metadata": {},
   "outputs": [],
   "source": [
    "from aiida import engine, orm\n",
    "from aiida_quantumespresso.calculations.pw import PwCalculation\n",
    "\n",
    "\n",
    "@engine.workfunction\n",
    "def run_eos_wf(\n",
    "    code: orm.Code, pseudo_family_label: orm.Str, structure: orm.StructureData\n",
    ") -> orm.Dict:\n",
    "    \"\"\"Run an equation of state of a bulk crystal structure for the given element.\"\"\"\n",
    "\n",
    "    # This will print the pk of the work function\n",
    "    print(\"Running run_eos_wf<{}>\".format(engine.Process.current().pid))\n",
    "\n",
    "    scale_factors = (0.96, 0.98, 1.0, 1.02, 1.04)\n",
    "    labels = [\"c1\", \"c2\", \"c3\", \"c4\", \"c5\"]\n",
    "    pseudo_family = orm.load_group(pseudo_family_label.value)\n",
    "\n",
    "    calculations = {}\n",
    "\n",
    "    # Loop over the label and scale_factor pairs\n",
    "    for label, factor in list(zip(labels, scale_factors)):\n",
    "\n",
    "        # Generated the scaled structure from the initial structure\n",
    "        rescaled_structure = rescale(structure, orm.Float(factor))\n",
    "\n",
    "        # Generate the inputs for the `PwCalculation`\n",
    "        inputs = generate_scf_input_params(rescaled_structure, code, pseudo_family)\n",
    "\n",
    "        # Launch a `PwCalculation` for each scaled structure\n",
    "        print(\n",
    "            \"Running a scf for {} with scale factor {}\".format(\n",
    "                structure.get_formula(), factor\n",
    "            )\n",
    "        )\n",
    "        calculations[label] = engine.run(PwCalculation, **inputs)\n",
    "\n",
    "    inputs = {\n",
    "        label: result[\"output_parameters\"] for label, result in calculations.items()\n",
    "    }\n",
    "    eos = create_eos_dictionary(**inputs)\n",
    "\n",
    "    return eos"
   ]
  },
  {
   "cell_type": "markdown",
   "metadata": {},
   "source": [
    "We run the workfunction simply by calling it, and after we can see the process which has run in the CLI:"
   ]
  },
  {
   "cell_type": "code",
   "execution_count": null,
   "metadata": {},
   "outputs": [],
   "source": [
    "eos_wf_result = run_eos_wf(data.code, orm.Str(data.pseudos.label), data.structure)\n",
    "eos_wf_result.get_dict()"
   ]
  },
  {
   "cell_type": "code",
   "execution_count": null,
   "metadata": {
    "tags": []
   },
   "outputs": [],
   "source": [
    "wf_node = eos_wf_result.base.links.get_incoming(orm.WorkFunctionNode).one().node\n",
    "\n",
    "%verdi process status {wf_node.pk}"
   ]
  },
  {
   "cell_type": "markdown",
   "metadata": {},
   "source": [
    "From our results, we can visualise both the \"logical\", \"data\" and \"full\" provenance of our workflow. "
   ]
  },
  {
   "cell_type": "code",
   "execution_count": null,
   "metadata": {},
   "outputs": [],
   "source": [
    "from aiida.tools.visualization import Graph\n",
    "\n",
    "graph = Graph(graph_attr={\"rankdir\": \"LR\", \"size\": \"8!,8!\"})\n",
    "graph.recurse_ancestors(\n",
    "    eos_wf_result, annotate_links=\"both\", link_types=(\"input_work\", \"return\")\n",
    ")\n",
    "graph.graphviz"
   ]
  },
  {
   "cell_type": "code",
   "execution_count": null,
   "metadata": {
    "tags": [
     "hide-output"
    ]
   },
   "outputs": [],
   "source": [
    "graph = Graph(graph_attr={\"rankdir\": \"LR\", \"size\": \"8!,8!\"})\n",
    "graph.recurse_ancestors(\n",
    "    eos_wf_result, annotate_links=\"both\", link_types=(\"input_calc\", \"create\")\n",
    ")\n",
    "graph.graphviz"
   ]
  },
  {
   "cell_type": "code",
   "execution_count": null,
   "metadata": {
    "tags": [
     "hide-output"
    ]
   },
   "outputs": [],
   "source": [
    "graph = Graph(graph_attr={\"rankdir\": \"LR\", \"size\": \"8!,8!\"})\n",
    "graph.recurse_ancestors(\n",
    "    eos_wf_result, annotate_links=\"both\", include_process_outputs=True\n",
    ")\n",
    "graph.graphviz"
   ]
  },
  {
   "cell_type": "markdown",
   "metadata": {},
   "source": [
    "Then naturally we can also run post-analysis on the results, such as plotting the EoS."
   ]
  },
  {
   "cell_type": "code",
   "execution_count": null,
   "metadata": {
    "tags": [
     "hide-input"
    ]
   },
   "outputs": [],
   "source": [
    "from typing import List, Tuple\n",
    "\n",
    "from matplotlib import pyplot as plt\n",
    "import numpy as np\n",
    "from scipy.optimize import curve_fit\n",
    "\n",
    "\n",
    "def birch_murnaghan(V, E0, V0, B0, B01):\n",
    "    \"\"\"Compute energy by Birch Murnaghan formula.\"\"\"\n",
    "    r = (V0 / V) ** (2.0 / 3.0)\n",
    "    return E0 + 9.0 / 16.0 * B0 * V0 * (r - 1.0) ** 2 * (2.0 + (B01 - 4.0) * (r - 1.0))\n",
    "\n",
    "\n",
    "def fit_birch_murnaghan_params(volumes_, energies_):\n",
    "    \"\"\"Fit Birch Murnaghan parameters.\"\"\"\n",
    "    volumes = np.array(volumes_)\n",
    "    energies = np.array(energies_)\n",
    "    params, covariance = curve_fit(\n",
    "        birch_murnaghan,\n",
    "        xdata=volumes,\n",
    "        ydata=energies,\n",
    "        p0=(\n",
    "            energies.min(),  # E0\n",
    "            volumes.mean(),  # V0\n",
    "            0.1,  # B0\n",
    "            3.0,  # B01\n",
    "        ),\n",
    "        sigma=None,\n",
    "    )\n",
    "    return params, covariance\n",
    "\n",
    "\n",
    "def plot_eos(eos: List[Tuple[float, float, str]]):\n",
    "    \"\"\"\n",
    "    Plots equation of state taking as input the pk of the ProcessCalculation\n",
    "    printed at the beginning of the execution of run_eos_wf\n",
    "    \"\"\"\n",
    "    data = np.array([(V, E) for V, E, _ in eos])\n",
    "    params, _covariance = fit_birch_murnaghan_params(data[:, 0], data[:, 1])\n",
    "\n",
    "    vmin = data[:, 0].min()\n",
    "    vmax = data[:, 0].max()\n",
    "    vrange = np.linspace(vmin, vmax, 300)\n",
    "\n",
    "    fig, ax = plt.subplots()\n",
    "\n",
    "    ax.plot(data[:, 0], data[:, 1], \"o\")\n",
    "    ax.plot(vrange, birch_murnaghan(vrange, *params))\n",
    "\n",
    "    ax.grid(True)\n",
    "    ax.set_xlabel(\"Volume (ang^3)\")\n",
    "    ax.set_ylabel(\"Energy ({})\".format(eos[0][2]))\n",
    "    return fig, ax"
   ]
  },
  {
   "cell_type": "code",
   "execution_count": null,
   "metadata": {},
   "outputs": [],
   "source": [
    "fig, ax = plot_eos(eos_wf_result.get_dict()[\"eos\"])"
   ]
  },
  {
   "cell_type": "markdown",
   "metadata": {},
   "source": [
    "## Writing an EoS workchain"
   ]
  },
  {
   "cell_type": "markdown",
   "metadata": {},
   "source": [
    "In the `run_eos_wf` example above, we encapsulate all the logic of the workflow in a single function.\n",
    "\n",
    "This has the advantage of being simple to write, but also limitations:\n",
    "\n",
    "- The structure relaxations are run synchronously, i.e. one after the other.\n",
    "  This means that the workflow will not scale well to large numbers of structure volumes.\n",
    "- The workflow is not restartable, i.e. if it is interrupted, it will have to start from scratch.\n",
    "\n",
    "To overcome these limitations, we can instead write a `WorkChain` class, which allows us to:\n",
    "\n",
    "- Run the calculations asynchronously, i.e. in parallel.\n",
    "- Write the workflow logic in a modular way, i.e. as a series of steps.\n",
    "- Write the workflow logic in a way that allows it to be restarted from any step.\n",
    "  Each step stores a _checkpoint_ in the profile storage, which can be used to restart the workflow from that point,\n",
    "  if for example you shut down the machine on which AiiDA is running.\n",
    "  "
   ]
  },
  {
   "cell_type": "code",
   "execution_count": null,
   "metadata": {},
   "outputs": [],
   "source": [
    "from aiida import engine, orm\n",
    "from aiida_quantumespresso.calculations.pw import PwCalculation\n",
    "\n",
    "scale_facs = (0.96, 0.98, 1.0, 1.02, 1.04)\n",
    "labels = [\"c1\", \"c2\", \"c3\", \"c4\", \"c5\"]\n",
    "\n",
    "class EquationOfState(engine.WorkChain):\n",
    "    \"\"\"WorkChain to compute Equation of State using Quantum ESPRESSO.\"\"\"\n",
    "\n",
    "    @classmethod\n",
    "    def define(cls, spec: engine.ProcessSpec):\n",
    "        \"\"\"Specify inputs and outputs.\"\"\"\n",
    "        super().define(spec)\n",
    "        spec.input(\"code\", valid_type=orm.Code)\n",
    "        spec.input(\"pseudo_family_label\", valid_type=orm.Str)\n",
    "        spec.input(\"structure\", valid_type=orm.StructureData)\n",
    "        spec.outline(\n",
    "            cls.run_eos,\n",
    "            cls.results,\n",
    "        )\n",
    "        spec.output(\"eos\", valid_type=orm.Dict)\n",
    "\n",
    "    def run_eos(self):\n",
    "        \"\"\"Run calculations for equation of state.\"\"\"\n",
    "        # Create basic structure and attach it as an output\n",
    "        structure = self.inputs.structure\n",
    "\n",
    "        pseudo_family = orm.load_group(self.inputs.pseudo_family_label.value)\n",
    "\n",
    "        for label, factor in zip(labels, scale_facs):\n",
    "\n",
    "            rescaled_structure = rescale(structure, orm.Float(factor))\n",
    "            inputs = generate_scf_input_params(\n",
    "                rescaled_structure, self.inputs.code, pseudo_family\n",
    "            )\n",
    "\n",
    "            self.report(\n",
    "                \"Running an SCF calculation for {} with scale factor {}\".format(\n",
    "                    structure.get_formula(), factor\n",
    "                )\n",
    "            )\n",
    "\n",
    "            # Ask the workflow to continue when the results are ready,\n",
    "            # and store them in the context\n",
    "            calc_future = self.submit(PwCalculation, **inputs)\n",
    "            self.to_context(**{label: calc_future})\n",
    "\n",
    "    def results(self):\n",
    "        \"\"\"Process results.\"\"\"\n",
    "        inputs= {}\n",
    "        for label in labels:\n",
    "            calcnode: orm.CalcJobNode = self.ctx[label]\n",
    "            inputs[label] = calcnode.base.links.get_outgoing().get_node_by_label(\"output_parameters\")\n",
    "        eos = create_eos_dictionary(**inputs)\n",
    "\n",
    "        # Attach Equation of State results as output node to be able to plot the EOS later\n",
    "        self.out(\"eos\", eos)\n"
   ]
  },
  {
   "cell_type": "markdown",
   "metadata": {},
   "source": [
    "Of note in the workchain above are the following elements:\n",
    "\n",
    "- The `define` class method, which specifies the inputs and outputs of the workchain, and the steps of the workflow.\n",
    "\n",
    "- The `self.report` method, which allows us to log messages about the process.\n",
    "\n",
    "- The `self.to_context` method and `self.ctx` attribute, which allows us to store data between steps of the workflow, and access it from other steps.\n",
    "  - The context is persisted in the profile storage, and so can be used to restart the workflow from any step.\n",
    "\n",
    "- The `self.submit` method, which allows us to gather calculations for execution, and return a `Future` object which can be used to access the results of the calculation.\n",
    "  - Only at the end of the workchain step will the calculations be submitted, then the workchain will wait for them to finish before continuing to the next step.\n",
    "  - When the workchain is submitted to the daemon, this will handle distributing the calculations to the available workers."
   ]
  },
  {
   "cell_type": "code",
   "execution_count": null,
   "metadata": {},
   "outputs": [],
   "source": [
    "eos_wc_result = engine.run_get_node(\n",
    "    EquationOfState,\n",
    "    code=data.code,\n",
    "    pseudo_family_label=orm.Str(data.pseudos.label),\n",
    "    structure=data.structure,\n",
    ")\n",
    "eos_wc_result.node"
   ]
  },
  {
   "cell_type": "code",
   "execution_count": null,
   "metadata": {},
   "outputs": [],
   "source": [
    "%verdi process status {eos_wc_result.node.pk}"
   ]
  },
  {
   "cell_type": "code",
   "execution_count": null,
   "metadata": {
    "tags": [
     "hide-output"
    ]
   },
   "outputs": [],
   "source": [
    "%verdi process show {eos_wc_result.node.pk}"
   ]
  },
  {
   "cell_type": "markdown",
   "metadata": {},
   "source": [
    "Finally, we recreate out EoS plot from the results of the workchain 🎉"
   ]
  },
  {
   "cell_type": "code",
   "execution_count": null,
   "metadata": {},
   "outputs": [],
   "source": [
    "fig, ax = plot_eos(eos_wc_result.result[\"eos\"].get_dict()[\"eos\"])"
   ]
  },
  {
   "cell_type": "markdown",
   "metadata": {},
   "source": [
    "## Utilising WorkChains in the daemon\n",
    "\n",
    "In the previous example, we ran the workchain in the foreground, i.e. we waited for it to finish before continuing to the next step.\n",
    "\n",
    "In practice, we will want to run the workchain in the background, i.e. submit it to the daemon, and then continue with other work.\n",
    "\n",
    "For the daemon to be able to find the workchain, we need to register it with AiiDA.\n",
    "This entails either adding the python file containing the workchain to the `PYTHONPATH` environment variable,\n",
    "or better, creating a Python package and installing it in the environment.\n",
    "\n",
    "See the [aiida-plugin-cutter](https://github.com/aiidateam/aiida-plugin-cutter) template, and [aiida-diff](https://aiida-diff.readthedocs.io/) exemplar plugin for how to do this.\n",
    "\n",
    ":::{important}\n",
    "\n",
    "After any changes to the source code of the workchain, you will need to restart the daemon for it to load the new code.\n",
    "\n",
    "```console\n",
    "$ verdi daemon restart --reset\n",
    "```\n",
    "\n",
    ":::"
   ]
  }
 ],
 "metadata": {
  "kernelspec": {
   "display_name": "Python 3.9.13 ('aiida-qe-demo')",
   "language": "python",
   "name": "python3"
  },
  "language_info": {
   "codemirror_mode": {
    "name": "ipython",
    "version": 3
   },
   "file_extension": ".py",
   "mimetype": "text/x-python",
   "name": "python",
   "nbconvert_exporter": "python",
   "pygments_lexer": "ipython3",
   "version": "3.9.13"
  },
  "vscode": {
   "interpreter": {
    "hash": "20c30adb377910d9d5c8112cf74e9f7ecb37538254a701570d770f074373c53e"
   }
  }
 },
 "nbformat": 4,
 "nbformat_minor": 2
}
