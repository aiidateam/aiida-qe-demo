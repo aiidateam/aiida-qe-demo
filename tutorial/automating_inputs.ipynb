{
 "cells": [
  {
   "cell_type": "markdown",
   "metadata": {},
   "source": [
    "# Automating Input Generation"
   ]
  },
  {
   "cell_type": "markdown",
   "metadata": {},
   "source": [
    "In the previous section, we generated the inputs for a calculation manually,\n",
    "by reading from a previously written input file.\n",
    "\n",
    "For more complex calculations though, it is likely that we would like to automate the input generation process.\n",
    "\n",
    "In this section, we will see the some methods for generating the inputs for a `PwCalculation` automatically."
   ]
  },
  {
   "cell_type": "code",
   "execution_count": 7,
   "metadata": {},
   "outputs": [
    {
     "data": {
      "text/plain": [
       "AiiDALoaded(profile=Profile<uuid='8674300fb80f416d95e3a0c9aa2af378' name='temp_profile'>, computer=<Computer: local_direct (localhost), pk: 1>, pw_code=<Code: Remote code 'pw.x' on local_direct, pk: 1, uuid: ad002c3d-22a1-4b9b-88c4-2e73dc66317b>, pseudos=SsspFamily<1>)"
      ]
     },
     "execution_count": 7,
     "metadata": {},
     "output_type": "execute_result"
    }
   ],
   "source": [
    "from local_module import load_temp_profile\n",
    "from aiida import orm\n",
    "\n",
    "data = load_temp_profile(add_sssp=True)\n",
    "data"
   ]
  },
  {
   "cell_type": "markdown",
   "metadata": {},
   "source": [
    "## Generating structures via ASE and Pymatgen"
   ]
  },
  {
   "cell_type": "markdown",
   "metadata": {},
   "source": [
    "..."
   ]
  },
  {
   "cell_type": "markdown",
   "metadata": {},
   "source": [
    "## Importing structures from external databases"
   ]
  },
  {
   "cell_type": "code",
   "execution_count": 5,
   "metadata": {},
   "outputs": [
    {
     "data": {
      "text/plain": [
       "Structure Summary\n",
       "Lattice\n",
       "    abc : 5.381 5.381 5.381\n",
       " angles : 90.0 90.0 90.0\n",
       " volume : 155.80772134100002\n",
       "      A : 5.381 0.0 3.294912213105954e-16\n",
       "      B : -3.294912213105954e-16 5.381 3.294912213105954e-16\n",
       "      C : 0.0 0.0 5.381\n",
       "PeriodicSite: Si (0.0000, 0.0000, 0.0000) [0.0000, 0.0000, 0.0000]\n",
       "PeriodicSite: Si (1.3453, 1.3453, 1.3453) [0.2500, 0.2500, 0.2500]\n",
       "PeriodicSite: Si (-0.0000, 2.6905, 2.6905) [0.0000, 0.5000, 0.5000]\n",
       "PeriodicSite: Si (4.0358, 1.3453, 4.0357) [0.7500, 0.2500, 0.7500]\n",
       "PeriodicSite: Si (2.6905, 0.0000, 2.6905) [0.5000, 0.0000, 0.5000]\n",
       "PeriodicSite: Si (1.3452, 4.0358, 4.0357) [0.2500, 0.7500, 0.7500]\n",
       "PeriodicSite: Si (2.6905, 2.6905, 0.0000) [0.5000, 0.5000, 0.0000]\n",
       "PeriodicSite: Si (4.0358, 4.0358, 1.3453) [0.7500, 0.7500, 0.2500]"
      ]
     },
     "execution_count": 5,
     "metadata": {},
     "output_type": "execute_result"
    }
   ],
   "source": [
    "from aiida.tools.dbimporters.plugins.cod import CodEntry\n",
    "entry = CodEntry(\"http://www.crystallography.net/cod/1526655.cif\")\n",
    "structure = entry.get_aiida_structure()\n",
    "structure.get_pymatgen()"
   ]
  },
  {
   "cell_type": "markdown",
   "metadata": {},
   "source": [
    "## Importing Pseudopotential families"
   ]
  },
  {
   "cell_type": "markdown",
   "metadata": {},
   "source": [
    "```console\n",
    "$ aiida-pseudo install sssp -x PBE -p efficiency -v 1.1\n",
    "```"
   ]
  },
  {
   "cell_type": "code",
   "execution_count": 9,
   "metadata": {},
   "outputs": [
    {
     "data": {
      "text/plain": [
       "SsspFamily<1>"
      ]
     },
     "execution_count": 9,
     "metadata": {},
     "output_type": "execute_result"
    }
   ],
   "source": [
    "family = orm.Group.collection.get(label=\"SSSP/1.1/PBE/efficiency\")\n",
    "family"
   ]
  },
  {
   "cell_type": "code",
   "execution_count": 10,
   "metadata": {},
   "outputs": [
    {
     "data": {
      "text/plain": [
       "{'Si': <UpfData: uuid: 4f40f659-186e-466d-b08a-cac54f4abd40 (pk: 28)>}"
      ]
     },
     "execution_count": 10,
     "metadata": {},
     "output_type": "execute_result"
    }
   ],
   "source": [
    "entry = CodEntry(\"http://www.crystallography.net/cod/1526655.cif\")\n",
    "structure = entry.get_aiida_structure()\n",
    "family.get_pseudos(structure=structure)"
   ]
  },
  {
   "cell_type": "markdown",
   "metadata": {},
   "source": [
    "## Generating Kpoints by distance"
   ]
  },
  {
   "cell_type": "code",
   "execution_count": 17,
   "metadata": {},
   "outputs": [
    {
     "data": {
      "text/plain": [
       "{'cell': [[5.381, 0.0, 3.294912213106e-16],\n",
       "  [-3.294912213106e-16, 5.381, 3.294912213106e-16],\n",
       "  [0.0, 0.0, 5.381]],\n",
       " 'pbc1': True,\n",
       " 'pbc2': True,\n",
       " 'pbc3': True,\n",
       " 'mesh': [6, 6, 6],\n",
       " 'offset': [0.0, 0.0, 0.0]}"
      ]
     },
     "execution_count": 17,
     "metadata": {},
     "output_type": "execute_result"
    }
   ],
   "source": [
    "import aiida_quantumespresso.calculations.functions.create_kpoints_from_distance as ks\n",
    "\n",
    "entry = CodEntry(\"http://www.crystallography.net/cod/1526655.cif\")\n",
    "structure = entry.get_aiida_structure()\n",
    "kpoints = ks.create_kpoints_from_distance(structure, orm.Float(0.2), orm.Bool(False))\n",
    "kpoints.base.attributes.all"
   ]
  }
 ],
 "metadata": {
  "kernelspec": {
   "display_name": "Python 3.9.13 ('aiida-qe-demo')",
   "language": "python",
   "name": "python3"
  },
  "language_info": {
   "codemirror_mode": {
    "name": "ipython",
    "version": 3
   },
   "file_extension": ".py",
   "mimetype": "text/x-python",
   "name": "python",
   "nbconvert_exporter": "python",
   "pygments_lexer": "ipython3",
   "version": "3.9.13"
  },
  "orig_nbformat": 4,
  "vscode": {
   "interpreter": {
    "hash": "20c30adb377910d9d5c8112cf74e9f7ecb37538254a701570d770f074373c53e"
   }
  }
 },
 "nbformat": 4,
 "nbformat_minor": 2
}
