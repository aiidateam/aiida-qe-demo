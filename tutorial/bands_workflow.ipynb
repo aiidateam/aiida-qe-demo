{
 "cells": [
  {
   "cell_type": "markdown",
   "metadata": {},
   "source": [
    "# Bands Workflows\n"
   ]
  },
  {
   "cell_type": "code",
   "execution_count": 1,
   "metadata": {},
   "outputs": [
    {
     "data": {
      "text/plain": [
       "AiiDALoaded(profile=Profile<uuid='8ccf0779ed3c423b84c417237baa8b72' name='temp_profile'>, computer=<Computer: local_direct (localhost), pk: 1>, pw_code=<Code: Remote code 'pw.x' on local_direct, pk: 1, uuid: 8d266e0b-e82e-4b5b-9dbd-315bc2f0537a>, pseudos=SsspFamily<1>, si=<StructureData: uuid: d28d06f6-9f46-418e-90cf-f1689920e0b4 (pk: 87)>)"
      ]
     },
     "execution_count": 1,
     "metadata": {},
     "output_type": "execute_result"
    }
   ],
   "source": [
    "from local_module import load_temp_profile\n",
    "from aiida import engine, orm, plugins\n",
    "\n",
    "data = load_temp_profile(add_sssp=True)\n",
    "data"
   ]
  },
  {
   "cell_type": "code",
   "execution_count": 8,
   "metadata": {
    "tags": [
     "hide-output"
    ]
   },
   "outputs": [
    {
     "data": {
      "text/plain": [
       "Process class: PwBandsWorkChain\n",
       "Inputs:\n",
       "bands:\n",
       "  metadata: {}\n",
       "  pw:\n",
       "    code: pw.x code on local computer\n",
       "    metadata:\n",
       "      options:\n",
       "        max_wallclock_seconds: 43200\n",
       "        resources:\n",
       "          num_machines: 1\n",
       "        stash: {}\n",
       "        withmpi: true\n",
       "    parameters:\n",
       "      CONTROL:\n",
       "        calculation: scf\n",
       "        etot_conv_thr: 0.0002\n",
       "        forc_conv_thr: 0.001\n",
       "        tprnfor: true\n",
       "        tstress: true\n",
       "      ELECTRONS:\n",
       "        conv_thr: 8.0e-10\n",
       "        electron_maxstep: 80\n",
       "        mixing_beta: 0.4\n",
       "      SYSTEM:\n",
       "        degauss: 0.01\n",
       "        ecutrho: 240.0\n",
       "        ecutwfc: 30.0\n",
       "        nosym: false\n",
       "        occupations: smearing\n",
       "        smearing: cold\n",
       "    pseudos:\n",
       "      Si: ''\n",
       "bands_kpoints_distance: 0.1\n",
       "clean_workdir: true\n",
       "metadata: {}\n",
       "nbands_factor: 3.0\n",
       "relax:\n",
       "  base:\n",
       "    kpoints_distance: 0.5\n",
       "    kpoints_force_parity: false\n",
       "    metadata: {}\n",
       "    pw:\n",
       "      code: pw.x code on local computer\n",
       "      metadata:\n",
       "        options:\n",
       "          max_wallclock_seconds: 43200\n",
       "          resources:\n",
       "            num_machines: 1\n",
       "          stash: {}\n",
       "          withmpi: true\n",
       "      parameters:\n",
       "        CELL:\n",
       "          cell_dofree: all\n",
       "          press_conv_thr: 0.5\n",
       "        CONTROL:\n",
       "          calculation: vc-relax\n",
       "          etot_conv_thr: 0.0002\n",
       "          forc_conv_thr: 0.001\n",
       "          tprnfor: true\n",
       "          tstress: true\n",
       "        ELECTRONS:\n",
       "          conv_thr: 8.0e-10\n",
       "          electron_maxstep: 80\n",
       "          mixing_beta: 0.4\n",
       "        SYSTEM:\n",
       "          degauss: 0.01\n",
       "          ecutrho: 240.0\n",
       "          ecutwfc: 30.0\n",
       "          nosym: false\n",
       "          occupations: smearing\n",
       "          smearing: cold\n",
       "      pseudos:\n",
       "        Si: ''\n",
       "  base_final_scf:\n",
       "    metadata: {}\n",
       "    pw:\n",
       "      metadata:\n",
       "        options:\n",
       "          stash: {}\n",
       "      pseudos: {}\n",
       "  max_meta_convergence_iterations: 5\n",
       "  meta_convergence: true\n",
       "  metadata: {}\n",
       "  volume_convergence: 0.05\n",
       "scf:\n",
       "  kpoints_distance: 0.5\n",
       "  kpoints_force_parity: false\n",
       "  metadata: {}\n",
       "  pw:\n",
       "    code: pw.x code on local computer\n",
       "    metadata:\n",
       "      options:\n",
       "        max_wallclock_seconds: 43200\n",
       "        resources:\n",
       "          num_machines: 1\n",
       "        stash: {}\n",
       "        withmpi: true\n",
       "    parameters:\n",
       "      CONTROL:\n",
       "        calculation: scf\n",
       "        etot_conv_thr: 0.0002\n",
       "        forc_conv_thr: 0.001\n",
       "        tprnfor: true\n",
       "        tstress: true\n",
       "      ELECTRONS:\n",
       "        conv_thr: 8.0e-10\n",
       "        electron_maxstep: 80\n",
       "        mixing_beta: 0.4\n",
       "      SYSTEM:\n",
       "        degauss: 0.01\n",
       "        ecutrho: 240.0\n",
       "        ecutwfc: 30.0\n",
       "        nosym: false\n",
       "        occupations: smearing\n",
       "        smearing: cold\n",
       "    pseudos:\n",
       "      Si: ''\n",
       "structure: Si\n"
      ]
     },
     "execution_count": 8,
     "metadata": {},
     "output_type": "execute_result"
    }
   ],
   "source": [
    "PwBandsWorkChain = plugins.WorkflowFactory(\"quantumespresso.pw.bands\")\n",
    "builder = PwBandsWorkChain.get_builder_from_protocol(\n",
    "    code=data.pw_code, structure=data.si, protocol=\"fast\"\n",
    ")\n",
    "builder"
   ]
  },
  {
   "cell_type": "code",
   "execution_count": 3,
   "metadata": {
    "tags": [
     "hide-output"
    ]
   },
   "outputs": [
    {
     "name": "stderr",
     "output_type": "stream",
     "text": [
      "09/21/2022 12:59:31 PM <96220> aiida.orm.nodes.process.workflow.workchain.WorkChainNode: [REPORT] [104|PwBandsWorkChain|run_relax]: launching PwRelaxWorkChain<106>\n",
      "09/21/2022 12:59:31 PM <96220> aiida.orm.nodes.process.workflow.workchain.WorkChainNode: [REPORT] [106|PwRelaxWorkChain|run_relax]: launching PwBaseWorkChain<109>\n",
      "09/21/2022 12:59:34 PM <96220> aiida.orm.nodes.process.workflow.workchain.WorkChainNode: [REPORT] [109|PwBaseWorkChain|run_process]: launching PwCalculation<114> iteration #1\n",
      "09/21/2022 12:59:48 PM <96220> aiida.scheduler.direct: [WARNING] Unrecognized job_state '?' for job id 96945\n",
      "09/21/2022 12:59:48 PM <96220> aiida.scheduler.direct: [WARNING] Unrecognized job_state '?' for job id 96949\n",
      "09/21/2022 12:59:56 PM <96220> aiida.scheduler.direct: [WARNING] Unrecognized job_state '?' for job id 97156\n",
      "09/21/2022 01:00:06 PM <96220> aiida.scheduler.direct: [WARNING] Unrecognized job_state '?' for job id 97483\n",
      "09/21/2022 01:00:51 PM <96220> aiida.scheduler.direct: [WARNING] Unrecognized job_state '?' for job id 98959\n",
      "09/21/2022 01:00:51 PM <96220> aiida.scheduler.direct: [WARNING] Unrecognized job_state '?' for job id 98960\n",
      "09/21/2022 01:01:01 PM <96220> aiida.scheduler.direct: [WARNING] Unrecognized job_state '?' for job id 99271\n",
      "09/21/2022 01:01:20 PM <96220> aiida.scheduler.direct: [WARNING] Unrecognized job_state '?' for job id 83756\n",
      "09/21/2022 01:01:36 PM <96220> aiida.scheduler.direct: [WARNING] Unrecognized job_state '?' for job id 96185\n",
      "09/21/2022 01:01:36 PM <96220> aiida.scheduler.direct: [WARNING] Unrecognized job_state '?' for job id 96186\n",
      "09/21/2022 01:01:40 PM <96220> aiida.scheduler.direct: [WARNING] Unrecognized job_state '?' for job id 758\n",
      "09/21/2022 01:01:55 PM <96220> aiida.scheduler.direct: [WARNING] Unrecognized job_state '?' for job id 1465\n",
      "09/21/2022 01:01:57 PM <96220> aiida.scheduler.direct: [WARNING] Unrecognized job_state '?' for job id 1554\n",
      "09/21/2022 01:02:04 PM <96220> aiida.orm.nodes.process.workflow.workchain.WorkChainNode: [REPORT] [109|PwBaseWorkChain|results]: work chain completed after 1 iterations\n",
      "09/21/2022 01:02:05 PM <96220> aiida.orm.nodes.process.workflow.workchain.WorkChainNode: [REPORT] [109|PwBaseWorkChain|on_terminated]: remote folders will not be cleaned\n",
      "09/21/2022 01:02:06 PM <96220> aiida.orm.nodes.process.workflow.workchain.WorkChainNode: [REPORT] [106|PwRelaxWorkChain|inspect_relax]: after iteration 1 cell volume of relaxed structure is 40.97320472111838\n",
      "09/21/2022 01:02:07 PM <96220> aiida.orm.nodes.process.workflow.workchain.WorkChainNode: [REPORT] [106|PwRelaxWorkChain|run_relax]: launching PwBaseWorkChain<123>\n",
      "09/21/2022 01:02:10 PM <96220> aiida.orm.nodes.process.workflow.workchain.WorkChainNode: [REPORT] [123|PwBaseWorkChain|run_process]: launching PwCalculation<128> iteration #1\n",
      "09/21/2022 01:02:26 PM <96220> aiida.scheduler.direct: [WARNING] Unrecognized job_state '?' for job id 2256\n",
      "09/21/2022 01:02:35 PM <96220> aiida.scheduler.direct: [WARNING] Unrecognized job_state '?' for job id 2519\n",
      "09/21/2022 01:02:39 PM <96220> aiida.scheduler.direct: [WARNING] Unrecognized job_state '?' for job id 2639\n",
      "09/21/2022 01:02:39 PM <96220> aiida.scheduler.direct: [WARNING] Unrecognized job_state '?' for job id 2642\n",
      "09/21/2022 01:02:45 PM <96220> aiida.scheduler.direct: [WARNING] Unrecognized job_state '?' for job id 2833\n",
      "09/21/2022 01:03:06 PM <96220> aiida.scheduler.direct: [WARNING] Unrecognized job_state '?' for job id 1791\n",
      "09/21/2022 01:03:06 PM <96220> aiida.scheduler.direct: [WARNING] Unrecognized job_state '?' for job id 1792\n",
      "09/21/2022 01:03:09 PM <96220> aiida.orm.nodes.process.workflow.workchain.WorkChainNode: [REPORT] [123|PwBaseWorkChain|results]: work chain completed after 1 iterations\n",
      "09/21/2022 01:03:09 PM <96220> aiida.orm.nodes.process.workflow.workchain.WorkChainNode: [REPORT] [123|PwBaseWorkChain|on_terminated]: remote folders will not be cleaned\n",
      "09/21/2022 01:03:10 PM <96220> aiida.orm.nodes.process.workflow.workchain.WorkChainNode: [REPORT] [106|PwRelaxWorkChain|inspect_relax]: after iteration 2 cell volume of relaxed structure is 41.15161590469963\n",
      "09/21/2022 01:03:10 PM <96220> aiida.orm.nodes.process.workflow.workchain.WorkChainNode: [REPORT] [106|PwRelaxWorkChain|inspect_relax]: relative cell volume difference 0.004354338031296276 smaller than threshold 0.05\n",
      "09/21/2022 01:03:11 PM <96220> aiida.orm.nodes.process.workflow.workchain.WorkChainNode: [REPORT] [106|PwRelaxWorkChain|results]: workchain completed after 2 iterations\n",
      "09/21/2022 01:03:11 PM <96220> aiida.orm.nodes.process.workflow.workchain.WorkChainNode: [REPORT] [106|PwRelaxWorkChain|on_terminated]: remote folders will not be cleaned\n",
      "09/21/2022 01:03:13 PM <96220> aiida.orm.nodes.process.workflow.workchain.WorkChainNode: [REPORT] [104|PwBandsWorkChain|run_scf]: launching PwBaseWorkChain<142> in scf mode\n",
      "09/21/2022 01:03:15 PM <96220> aiida.orm.nodes.process.workflow.workchain.WorkChainNode: [REPORT] [142|PwBaseWorkChain|run_process]: launching PwCalculation<147> iteration #1\n",
      "09/21/2022 01:03:20 PM <96220> aiida.scheduler.direct: [WARNING] Unrecognized job_state '?' for job id 3908\n",
      "09/21/2022 01:03:32 PM <96220> aiida.orm.nodes.process.workflow.workchain.WorkChainNode: [REPORT] [142|PwBaseWorkChain|results]: work chain completed after 1 iterations\n",
      "09/21/2022 01:03:33 PM <96220> aiida.orm.nodes.process.workflow.workchain.WorkChainNode: [REPORT] [142|PwBaseWorkChain|on_terminated]: remote folders will not be cleaned\n",
      "09/21/2022 01:03:35 PM <96220> aiida.orm.nodes.process.workflow.workchain.WorkChainNode: [REPORT] [104|PwBandsWorkChain|run_bands]: launching PwBaseWorkChain<155> in bands mode\n",
      "09/21/2022 01:03:37 PM <96220> aiida.orm.nodes.process.workflow.workchain.WorkChainNode: [REPORT] [155|PwBaseWorkChain|run_process]: launching PwCalculation<158> iteration #1\n",
      "09/21/2022 01:05:09 PM <96220> aiida.parser.PwParser: [WARNING] c_bands: at least 1 eigenvalues not converged\n",
      "09/21/2022 01:05:11 PM <96220> aiida.orm.nodes.process.workflow.workchain.WorkChainNode: [REPORT] [155|PwBaseWorkChain|results]: work chain completed after 1 iterations\n",
      "09/21/2022 01:05:11 PM <96220> aiida.orm.nodes.process.workflow.workchain.WorkChainNode: [REPORT] [155|PwBaseWorkChain|on_terminated]: remote folders will not be cleaned\n",
      "09/21/2022 01:05:11 PM <96220> aiida.orm.nodes.process.workflow.workchain.WorkChainNode: [REPORT] [104|PwBandsWorkChain|results]: workchain succesfully completed\n",
      "09/21/2022 01:05:14 PM <96220> aiida.orm.nodes.process.workflow.workchain.WorkChainNode: [REPORT] [104|PwBandsWorkChain|on_terminated]: cleaned remote folders of calculations: 114 128 147 158\n"
     ]
    },
    {
     "data": {
      "text/plain": [
       "ResultAndNode(result={'primitive_structure': <StructureData: uuid: 617e9b20-892f-4dc5-adb8-a91daa78965f (pk: 138)>, 'seekpath_parameters': <Dict: uuid: 9d4668dd-3dc4-43d2-a003-b4311393efa1 (pk: 136)>, 'scf_parameters': <Dict: uuid: 0d8fc844-aa38-4b36-a32b-aef57a505c92 (pk: 152)>, 'band_parameters': <Dict: uuid: deae5042-e9f1-4db8-a31e-d0eff942b0d9 (pk: 163)>, 'band_structure': <BandsData: uuid: a66d6e53-afbb-4a2c-a74f-8a8135b55886 (pk: 161)>}, node=<WorkChainNode: uuid: e295fd0e-42e2-41e5-a99c-37461cb9fc67 (pk: 104) (aiida.workflows:quantumespresso.pw.bands)>)"
      ]
     },
     "execution_count": 3,
     "metadata": {},
     "output_type": "execute_result"
    }
   ],
   "source": [
    "result = engine.run_get_node(builder)\n",
    "result"
   ]
  },
  {
   "cell_type": "code",
   "execution_count": 9,
   "metadata": {},
   "outputs": [
    {
     "name": "stdout",
     "output_type": "stream",
     "text": [
      "\u001b[22mPwBandsWorkChain<104> Finished [0] [7:results]\n",
      "    ├── PwRelaxWorkChain<106> Finished [0] [3:results]\n",
      "    │   ├── PwBaseWorkChain<109> Finished [0] [4:results]\n",
      "    │   │   ├── create_kpoints_from_distance<110> Finished [0]\n",
      "    │   │   └── PwCalculation<114> Finished [0]\n",
      "    │   └── PwBaseWorkChain<123> Finished [0] [4:results]\n",
      "    │       ├── create_kpoints_from_distance<124> Finished [0]\n",
      "    │       └── PwCalculation<128> Finished [0]\n",
      "    ├── seekpath_structure_analysis<135> Finished [0]\n",
      "    ├── PwBaseWorkChain<142> Finished [0] [4:results]\n",
      "    │   ├── create_kpoints_from_distance<143> Finished [0]\n",
      "    │   └── PwCalculation<147> Finished [0]\n",
      "    └── PwBaseWorkChain<155> Finished [0] [4:results]\n",
      "        └── PwCalculation<158> Finished [0]\u001b[0m\n"
     ]
    }
   ],
   "source": [
    "%verdi process status 104"
   ]
  },
  {
   "cell_type": "code",
   "execution_count": 7,
   "metadata": {},
   "outputs": [
    {
     "data": {
      "image/svg+xml": "<?xml version=\"1.0\" encoding=\"UTF-8\" standalone=\"no\"?>\n<!DOCTYPE svg PUBLIC \"-//W3C//DTD SVG 1.1//EN\"\n \"http://www.w3.org/Graphics/SVG/1.1/DTD/svg11.dtd\">\n<!-- Generated by graphviz version 5.0.0 (0)\n -->\n<!-- Pages: 1 -->\n<svg width=\"384pt\" height=\"576pt\"\n viewBox=\"0.00 0.00 384.48 576.00\" xmlns=\"http://www.w3.org/2000/svg\" xmlns:xlink=\"http://www.w3.org/1999/xlink\">\n<g id=\"graph0\" class=\"graph\" transform=\"scale(0.400797 0.400797) rotate(0) translate(4 1433.14)\">\n<polygon fill=\"white\" stroke=\"transparent\" points=\"-4,4 -4,-1433.14 955.29,-1433.14 955.29,4 -4,4\"/>\n<!-- N1 -->\n<g id=\"node1\" class=\"node\">\n<title>N1</title>\n<ellipse fill=\"#4ca4b9\" fill-opacity=\"0.666667\" stroke=\"black\" stroke-width=\"0\" cx=\"84.15\" cy=\"-1333.14\" rx=\"84.29\" ry=\"26.74\"/>\n<text text-anchor=\"middle\" x=\"84.15\" y=\"-1336.94\" font-family=\"Times,serif\" font-size=\"14.00\">Code (1)</text>\n<text text-anchor=\"middle\" x=\"84.15\" y=\"-1321.94\" font-family=\"Times,serif\" font-size=\"14.00\">pw.x@local_direct</text>\n</g>\n<!-- N104 -->\n<g id=\"node20\" class=\"node\">\n<title>N104</title>\n<polygon fill=\"#e38851\" stroke=\"black\" stroke-width=\"0\" points=\"599.29,-820.64 435.29,-820.64 435.29,-767.64 599.29,-767.64 599.29,-820.64\"/>\n<text text-anchor=\"middle\" x=\"517.29\" y=\"-805.44\" font-family=\"Times,serif\" font-size=\"14.00\">PwBandsWorkChain (104)</text>\n<text text-anchor=\"middle\" x=\"517.29\" y=\"-790.44\" font-family=\"Times,serif\" font-size=\"14.00\">State: finished</text>\n<text text-anchor=\"middle\" x=\"517.29\" y=\"-775.44\" font-family=\"Times,serif\" font-size=\"14.00\">Exit Code: 0</text>\n</g>\n<!-- N1&#45;&gt;N104 -->\n<g id=\"edge2\" class=\"edge\">\n<title>N1&#45;&gt;N104</title>\n<path fill=\"none\" stroke=\"#000000\" stroke-dasharray=\"5,2\" d=\"M130.41,-1355.65C200.57,-1386.96 335.97,-1432.55 417.29,-1364.14 499.18,-1295.24 513.34,-946.09 515.78,-830.99\"/>\n<polygon fill=\"#000000\" stroke=\"#000000\" points=\"519.28,-830.98 515.98,-820.91 512.28,-830.84 519.28,-830.98\"/>\n<text text-anchor=\"middle\" x=\"301.79\" y=\"-1417.94\" font-family=\"Times,serif\" font-size=\"14.00\">INPUT_WORK</text>\n<text text-anchor=\"middle\" x=\"301.79\" y=\"-1402.94\" font-family=\"Times,serif\" font-size=\"14.00\">scf__pw__code</text>\n</g>\n<!-- N1&#45;&gt;N104 -->\n<g id=\"edge4\" class=\"edge\">\n<title>N1&#45;&gt;N104</title>\n<path fill=\"none\" stroke=\"#000000\" stroke-dasharray=\"5,2\" d=\"M168.04,-1330.16C263.37,-1326.37 408.05,-1319.31 417.29,-1311.14 489.44,-1247.36 509.89,-938.26 514.87,-830.93\"/>\n<polygon fill=\"#000000\" stroke=\"#000000\" points=\"518.37,-831.05 515.31,-820.9 511.37,-830.73 518.37,-831.05\"/>\n<text text-anchor=\"middle\" x=\"301.79\" y=\"-1347.94\" font-family=\"Times,serif\" font-size=\"14.00\">INPUT_WORK</text>\n<text text-anchor=\"middle\" x=\"301.79\" y=\"-1332.94\" font-family=\"Times,serif\" font-size=\"14.00\">relax__base__pw__code</text>\n</g>\n<!-- N1&#45;&gt;N104 -->\n<g id=\"edge12\" class=\"edge\">\n<title>N1&#45;&gt;N104</title>\n<path fill=\"none\" stroke=\"#000000\" stroke-dasharray=\"5,2\" d=\"M120.48,-1308.75C139.19,-1297.12 163.06,-1284.22 186.29,-1277.14 235.58,-1262.11 378.67,-1291.24 417.29,-1257.14 481.35,-1200.58 506.66,-930.47 513.91,-831.01\"/>\n<polygon fill=\"#000000\" stroke=\"#000000\" points=\"517.41,-831.06 514.63,-820.83 510.43,-830.56 517.41,-831.06\"/>\n<text text-anchor=\"middle\" x=\"301.79\" y=\"-1295.94\" font-family=\"Times,serif\" font-size=\"14.00\">INPUT_WORK</text>\n<text text-anchor=\"middle\" x=\"301.79\" y=\"-1280.94\" font-family=\"Times,serif\" font-size=\"14.00\">bands__pw__code</text>\n</g>\n<!-- N28 -->\n<g id=\"node2\" class=\"node\">\n<title>N28</title>\n<ellipse fill=\"#8cd499\" stroke=\"black\" stroke-width=\"0\" cx=\"84.15\" cy=\"-1199.14\" rx=\"57.69\" ry=\"18\"/>\n<text text-anchor=\"middle\" x=\"84.15\" y=\"-1195.44\" font-family=\"Times,serif\" font-size=\"14.00\">UpfData (28)</text>\n</g>\n<!-- N28&#45;&gt;N104 -->\n<g id=\"edge9\" class=\"edge\">\n<title>N28&#45;&gt;N104</title>\n<path fill=\"none\" stroke=\"#000000\" stroke-dasharray=\"5,2\" d=\"M135.62,-1207.53C217.65,-1219.97 374.99,-1238.46 417.29,-1205.14 476.43,-1158.56 504.36,-922.74 513.12,-830.86\"/>\n<polygon fill=\"#000000\" stroke=\"#000000\" points=\"516.63,-830.92 514.07,-820.64 509.66,-830.27 516.63,-830.92\"/>\n<text text-anchor=\"middle\" x=\"301.79\" y=\"-1241.94\" font-family=\"Times,serif\" font-size=\"14.00\">INPUT_WORK</text>\n<text text-anchor=\"middle\" x=\"301.79\" y=\"-1226.94\" font-family=\"Times,serif\" font-size=\"14.00\">relax__base__pw__pseudos__Si</text>\n</g>\n<!-- N28&#45;&gt;N104 -->\n<g id=\"edge10\" class=\"edge\">\n<title>N28&#45;&gt;N104</title>\n<path fill=\"none\" stroke=\"#000000\" stroke-dasharray=\"5,2\" d=\"M125.11,-1186.21C143.55,-1180.73 165.84,-1174.78 186.29,-1171.14 237,-1162.12 377.62,-1184.98 417.29,-1152.14 467.25,-1110.78 499.82,-913.39 511.48,-830.71\"/>\n<polygon fill=\"#000000\" stroke=\"#000000\" points=\"514.96,-831.13 512.87,-820.75 508.02,-830.17 514.96,-831.13\"/>\n<text text-anchor=\"middle\" x=\"301.79\" y=\"-1189.94\" font-family=\"Times,serif\" font-size=\"14.00\">INPUT_WORK</text>\n<text text-anchor=\"middle\" x=\"301.79\" y=\"-1174.94\" font-family=\"Times,serif\" font-size=\"14.00\">scf__pw__pseudos__Si</text>\n</g>\n<!-- N28&#45;&gt;N104 -->\n<g id=\"edge17\" class=\"edge\">\n<title>N28&#45;&gt;N104</title>\n<path fill=\"none\" stroke=\"#000000\" stroke-dasharray=\"5,2\" d=\"M135.92,-1190.82C147.75,-1186.82 159.46,-1180.9 168.29,-1172.14 186.25,-1154.32 166.39,-1133.76 186.29,-1118.14 226.81,-1086.33 376.9,-1131.1 417.29,-1099.14 500.41,-1033.36 514.65,-896.71 516.49,-831\"/>\n<polygon fill=\"#000000\" stroke=\"#000000\" points=\"520,-830.77 516.7,-820.71 513,-830.64 520,-830.77\"/>\n<text text-anchor=\"middle\" x=\"301.79\" y=\"-1136.94\" font-family=\"Times,serif\" font-size=\"14.00\">INPUT_WORK</text>\n<text text-anchor=\"middle\" x=\"301.79\" y=\"-1121.94\" font-family=\"Times,serif\" font-size=\"14.00\">bands__pw__pseudos__Si</text>\n</g>\n<!-- N87 -->\n<g id=\"node3\" class=\"node\">\n<title>N87</title>\n<ellipse fill=\"#8cd499\" stroke=\"black\" stroke-width=\"0\" cx=\"84.15\" cy=\"-1136.14\" rx=\"83.38\" ry=\"26.74\"/>\n<text text-anchor=\"middle\" x=\"84.15\" y=\"-1139.94\" font-family=\"Times,serif\" font-size=\"14.00\">StructureData (87)</text>\n<text text-anchor=\"middle\" x=\"84.15\" y=\"-1124.94\" font-family=\"Times,serif\" font-size=\"14.00\">Si2</text>\n</g>\n<!-- N87&#45;&gt;N104 -->\n<g id=\"edge18\" class=\"edge\">\n<title>N87&#45;&gt;N104</title>\n<path fill=\"none\" stroke=\"#000000\" stroke-dasharray=\"5,2\" d=\"M143.03,-1116.83C152.09,-1112.25 160.88,-1106.72 168.29,-1100.14 180.2,-1089.55 172.9,-1077.76 186.29,-1069.14 273.04,-1013.29 335.02,-1108.4 417.29,-1046.14 485.95,-994.17 507.04,-887.54 513.48,-831.08\"/>\n<polygon fill=\"#000000\" stroke=\"#000000\" points=\"517,-831.13 514.56,-820.82 510.04,-830.4 517,-831.13\"/>\n<text text-anchor=\"middle\" x=\"301.79\" y=\"-1087.94\" font-family=\"Times,serif\" font-size=\"14.00\">INPUT_WORK</text>\n<text text-anchor=\"middle\" x=\"301.79\" y=\"-1072.94\" font-family=\"Times,serif\" font-size=\"14.00\">structure</text>\n</g>\n<!-- N88 -->\n<g id=\"node4\" class=\"node\">\n<title>N88</title>\n<ellipse fill=\"#8cd499\" stroke=\"black\" stroke-width=\"0\" cx=\"84.15\" cy=\"-1073.14\" rx=\"42.79\" ry=\"18\"/>\n<text text-anchor=\"middle\" x=\"84.15\" y=\"-1069.44\" font-family=\"Times,serif\" font-size=\"14.00\">Dict (88)</text>\n</g>\n<!-- N88&#45;&gt;N104 -->\n<g id=\"edge1\" class=\"edge\">\n<title>N88&#45;&gt;N104</title>\n<path fill=\"none\" stroke=\"#000000\" stroke-dasharray=\"5,2\" d=\"M124.37,-1066.51C139.28,-1062.51 155.7,-1056.16 168.29,-1046.14 180.46,-1036.46 173.16,-1024.46 186.29,-1016.14 273.44,-960.91 332.38,-1051.75 417.29,-993.14 472.5,-955.03 498.38,-876.9 509.31,-830.69\"/>\n<polygon fill=\"#000000\" stroke=\"#000000\" points=\"512.75,-831.3 511.53,-820.78 505.93,-829.77 512.75,-831.3\"/>\n<text text-anchor=\"middle\" x=\"301.79\" y=\"-1034.94\" font-family=\"Times,serif\" font-size=\"14.00\">INPUT_WORK</text>\n<text text-anchor=\"middle\" x=\"301.79\" y=\"-1019.94\" font-family=\"Times,serif\" font-size=\"14.00\">relax__base__pw__parameters</text>\n</g>\n<!-- N89 -->\n<g id=\"node5\" class=\"node\">\n<title>N89</title>\n<ellipse fill=\"#8cd499\" stroke=\"black\" stroke-width=\"0\" cx=\"84.15\" cy=\"-1010.14\" rx=\"50.41\" ry=\"26.74\"/>\n<text text-anchor=\"middle\" x=\"84.15\" y=\"-1013.94\" font-family=\"Times,serif\" font-size=\"14.00\">Float (89)</text>\n<text text-anchor=\"middle\" x=\"84.15\" y=\"-998.94\" font-family=\"Times,serif\" font-size=\"14.00\">value: 0.5</text>\n</g>\n<!-- N89&#45;&gt;N104 -->\n<g id=\"edge20\" class=\"edge\">\n<title>N89&#45;&gt;N104</title>\n<path fill=\"none\" stroke=\"#000000\" stroke-dasharray=\"5,2\" d=\"M125.01,-994.22C138.9,-988.32 154.47,-981.31 168.29,-974.14 176.61,-969.82 177.4,-966.12 186.29,-963.14 284.1,-930.3 328.64,-992.93 417.29,-940.14 459.26,-915.15 487.36,-864.62 502.59,-830.08\"/>\n<polygon fill=\"#000000\" stroke=\"#000000\" points=\"505.84,-831.37 506.54,-820.79 499.4,-828.62 505.84,-831.37\"/>\n<text text-anchor=\"middle\" x=\"301.79\" y=\"-981.94\" font-family=\"Times,serif\" font-size=\"14.00\">INPUT_WORK</text>\n<text text-anchor=\"middle\" x=\"301.79\" y=\"-966.94\" font-family=\"Times,serif\" font-size=\"14.00\">relax__base__kpoints_distance</text>\n</g>\n<!-- N90 -->\n<g id=\"node6\" class=\"node\">\n<title>N90</title>\n<ellipse fill=\"#8cd499\" stroke=\"black\" stroke-width=\"0\" cx=\"84.15\" cy=\"-938.14\" rx=\"48.58\" ry=\"26.74\"/>\n<text text-anchor=\"middle\" x=\"84.15\" y=\"-941.94\" font-family=\"Times,serif\" font-size=\"14.00\">Bool (90)</text>\n<text text-anchor=\"middle\" x=\"84.15\" y=\"-926.94\" font-family=\"Times,serif\" font-size=\"14.00\">False</text>\n</g>\n<!-- N90&#45;&gt;N104 -->\n<g id=\"edge22\" class=\"edge\">\n<title>N90&#45;&gt;N104</title>\n<path fill=\"none\" stroke=\"#000000\" stroke-dasharray=\"5,2\" d=\"M127.09,-924.79C145.14,-919.5 166.59,-913.82 186.29,-910.14 287.71,-891.19 323.37,-929.84 417.29,-887.14 446.03,-874.07 471.79,-849.23 489.83,-828.51\"/>\n<polygon fill=\"#000000\" stroke=\"#000000\" points=\"492.56,-830.7 496.35,-820.8 487.22,-826.17 492.56,-830.7\"/>\n<text text-anchor=\"middle\" x=\"301.79\" y=\"-928.94\" font-family=\"Times,serif\" font-size=\"14.00\">INPUT_WORK</text>\n<text text-anchor=\"middle\" x=\"301.79\" y=\"-913.94\" font-family=\"Times,serif\" font-size=\"14.00\">relax__base__kpoints_force_parity</text>\n</g>\n<!-- N91 -->\n<g id=\"node7\" class=\"node\">\n<title>N91</title>\n<ellipse fill=\"#8cd499\" stroke=\"black\" stroke-width=\"0\" cx=\"84.15\" cy=\"-866.14\" rx=\"42.35\" ry=\"26.74\"/>\n<text text-anchor=\"middle\" x=\"84.15\" y=\"-869.94\" font-family=\"Times,serif\" font-size=\"14.00\">Int (91)</text>\n<text text-anchor=\"middle\" x=\"84.15\" y=\"-854.94\" font-family=\"Times,serif\" font-size=\"14.00\">value: 5</text>\n</g>\n<!-- N91&#45;&gt;N104 -->\n<g id=\"edge5\" class=\"edge\">\n<title>N91&#45;&gt;N104</title>\n<path fill=\"none\" stroke=\"#000000\" stroke-dasharray=\"5,2\" d=\"M126.26,-862.56C202.45,-855.74 362.8,-840.46 417.29,-828.14 423.08,-826.83 429.01,-825.3 434.94,-823.63\"/>\n<polygon fill=\"#000000\" stroke=\"#000000\" points=\"436.3,-826.88 444.9,-820.7 434.32,-820.16 436.3,-826.88\"/>\n<text text-anchor=\"middle\" x=\"301.79\" y=\"-874.94\" font-family=\"Times,serif\" font-size=\"14.00\">INPUT_WORK</text>\n<text text-anchor=\"middle\" x=\"301.79\" y=\"-859.94\" font-family=\"Times,serif\" font-size=\"14.00\">relax__base__max_iterations</text>\n</g>\n<!-- N92 -->\n<g id=\"node8\" class=\"node\">\n<title>N92</title>\n<ellipse fill=\"#8cd499\" stroke=\"black\" stroke-width=\"0\" cx=\"84.15\" cy=\"-794.14\" rx=\"42.35\" ry=\"26.74\"/>\n<text text-anchor=\"middle\" x=\"84.15\" y=\"-797.94\" font-family=\"Times,serif\" font-size=\"14.00\">Int (92)</text>\n<text text-anchor=\"middle\" x=\"84.15\" y=\"-782.94\" font-family=\"Times,serif\" font-size=\"14.00\">value: 5</text>\n</g>\n<!-- N92&#45;&gt;N104 -->\n<g id=\"edge21\" class=\"edge\">\n<title>N92&#45;&gt;N104</title>\n<path fill=\"none\" stroke=\"#000000\" stroke-dasharray=\"5,2\" d=\"M126.88,-794.14C195.32,-794.14 332.98,-794.14 424.91,-794.14\"/>\n<polygon fill=\"#000000\" stroke=\"#000000\" points=\"425.05,-797.64 435.05,-794.14 425.05,-790.64 425.05,-797.64\"/>\n<text text-anchor=\"middle\" x=\"301.79\" y=\"-812.94\" font-family=\"Times,serif\" font-size=\"14.00\">INPUT_WORK</text>\n<text text-anchor=\"middle\" x=\"301.79\" y=\"-797.94\" font-family=\"Times,serif\" font-size=\"14.00\">relax__max_meta_convergence_iterations</text>\n</g>\n<!-- N93 -->\n<g id=\"node9\" class=\"node\">\n<title>N93</title>\n<ellipse fill=\"#8cd499\" stroke=\"black\" stroke-width=\"0\" cx=\"84.15\" cy=\"-722.14\" rx=\"48.58\" ry=\"26.74\"/>\n<text text-anchor=\"middle\" x=\"84.15\" y=\"-725.94\" font-family=\"Times,serif\" font-size=\"14.00\">Bool (93)</text>\n<text text-anchor=\"middle\" x=\"84.15\" y=\"-710.94\" font-family=\"Times,serif\" font-size=\"14.00\">True</text>\n</g>\n<!-- N93&#45;&gt;N104 -->\n<g id=\"edge8\" class=\"edge\">\n<title>N93&#45;&gt;N104</title>\n<path fill=\"none\" stroke=\"#000000\" stroke-dasharray=\"5,2\" d=\"M132.99,-724.35C198.03,-728.1 317.66,-737.61 417.29,-760.14 423.08,-761.45 429.01,-762.98 434.94,-764.65\"/>\n<polygon fill=\"#000000\" stroke=\"#000000\" points=\"434.32,-768.11 444.9,-767.58 436.3,-761.4 434.32,-768.11\"/>\n<text text-anchor=\"middle\" x=\"301.79\" y=\"-778.94\" font-family=\"Times,serif\" font-size=\"14.00\">INPUT_WORK</text>\n<text text-anchor=\"middle\" x=\"301.79\" y=\"-763.94\" font-family=\"Times,serif\" font-size=\"14.00\">relax__meta_convergence</text>\n</g>\n<!-- N94 -->\n<g id=\"node10\" class=\"node\">\n<title>N94</title>\n<ellipse fill=\"#8cd499\" stroke=\"black\" stroke-width=\"0\" cx=\"84.15\" cy=\"-650.14\" rx=\"54.39\" ry=\"26.74\"/>\n<text text-anchor=\"middle\" x=\"84.15\" y=\"-653.94\" font-family=\"Times,serif\" font-size=\"14.00\">Float (94)</text>\n<text text-anchor=\"middle\" x=\"84.15\" y=\"-638.94\" font-family=\"Times,serif\" font-size=\"14.00\">value: 0.05</text>\n</g>\n<!-- N94&#45;&gt;N104 -->\n<g id=\"edge14\" class=\"edge\">\n<title>N94&#45;&gt;N104</title>\n<path fill=\"none\" stroke=\"#000000\" stroke-dasharray=\"5,2\" d=\"M138.24,-646.91C206.47,-644.99 326.91,-649.24 417.29,-694.14 447.49,-709.14 473.91,-737.04 491.84,-759.57\"/>\n<polygon fill=\"#000000\" stroke=\"#000000\" points=\"489.17,-761.83 498.06,-767.59 494.7,-757.54 489.17,-761.83\"/>\n<text text-anchor=\"middle\" x=\"301.79\" y=\"-712.94\" font-family=\"Times,serif\" font-size=\"14.00\">INPUT_WORK</text>\n<text text-anchor=\"middle\" x=\"301.79\" y=\"-697.94\" font-family=\"Times,serif\" font-size=\"14.00\">relax__volume_convergence</text>\n</g>\n<!-- N95 -->\n<g id=\"node11\" class=\"node\">\n<title>N95</title>\n<ellipse fill=\"#8cd499\" stroke=\"black\" stroke-width=\"0\" cx=\"84.15\" cy=\"-587.14\" rx=\"42.79\" ry=\"18\"/>\n<text text-anchor=\"middle\" x=\"84.15\" y=\"-583.44\" font-family=\"Times,serif\" font-size=\"14.00\">Dict (95)</text>\n</g>\n<!-- N95&#45;&gt;N104 -->\n<g id=\"edge15\" class=\"edge\">\n<title>N95&#45;&gt;N104</title>\n<path fill=\"none\" stroke=\"#000000\" stroke-dasharray=\"5,2\" d=\"M122.89,-579.14C188.57,-567.42 325.63,-552.88 417.29,-612.14 468.75,-645.4 495.56,-714.98 507.74,-757.82\"/>\n<polygon fill=\"#000000\" stroke=\"#000000\" points=\"504.39,-758.84 510.39,-767.57 511.15,-757 504.39,-758.84\"/>\n<text text-anchor=\"middle\" x=\"301.79\" y=\"-630.94\" font-family=\"Times,serif\" font-size=\"14.00\">INPUT_WORK</text>\n<text text-anchor=\"middle\" x=\"301.79\" y=\"-615.94\" font-family=\"Times,serif\" font-size=\"14.00\">scf__pw__parameters</text>\n</g>\n<!-- N96 -->\n<g id=\"node12\" class=\"node\">\n<title>N96</title>\n<ellipse fill=\"#8cd499\" stroke=\"black\" stroke-width=\"0\" cx=\"84.15\" cy=\"-524.14\" rx=\"50.41\" ry=\"26.74\"/>\n<text text-anchor=\"middle\" x=\"84.15\" y=\"-527.94\" font-family=\"Times,serif\" font-size=\"14.00\">Float (96)</text>\n<text text-anchor=\"middle\" x=\"84.15\" y=\"-512.94\" font-family=\"Times,serif\" font-size=\"14.00\">value: 0.5</text>\n</g>\n<!-- N96&#45;&gt;N104 -->\n<g id=\"edge11\" class=\"edge\">\n<title>N96&#45;&gt;N104</title>\n<path fill=\"none\" stroke=\"#000000\" stroke-dasharray=\"5,2\" d=\"M128.66,-511.46C197.06,-494.35 330.81,-472.59 417.29,-534.14 490.09,-585.95 509.37,-698.64 514.47,-757.18\"/>\n<polygon fill=\"#000000\" stroke=\"#000000\" points=\"511,-757.75 515.26,-767.45 517.98,-757.21 511,-757.75\"/>\n<text text-anchor=\"middle\" x=\"301.79\" y=\"-552.94\" font-family=\"Times,serif\" font-size=\"14.00\">INPUT_WORK</text>\n<text text-anchor=\"middle\" x=\"301.79\" y=\"-537.94\" font-family=\"Times,serif\" font-size=\"14.00\">scf__kpoints_distance</text>\n</g>\n<!-- N97 -->\n<g id=\"node13\" class=\"node\">\n<title>N97</title>\n<ellipse fill=\"#8cd499\" stroke=\"black\" stroke-width=\"0\" cx=\"84.15\" cy=\"-452.14\" rx=\"48.58\" ry=\"26.74\"/>\n<text text-anchor=\"middle\" x=\"84.15\" y=\"-455.94\" font-family=\"Times,serif\" font-size=\"14.00\">Bool (97)</text>\n<text text-anchor=\"middle\" x=\"84.15\" y=\"-440.94\" font-family=\"Times,serif\" font-size=\"14.00\">False</text>\n</g>\n<!-- N97&#45;&gt;N104 -->\n<g id=\"edge6\" class=\"edge\">\n<title>N97&#45;&gt;N104</title>\n<path fill=\"none\" stroke=\"#000000\" stroke-dasharray=\"5,2\" d=\"M126.67,-438.89C194.96,-419.9 331.92,-393.93 417.29,-459.14 465.32,-495.82 498.57,-678.43 510.94,-757.52\"/>\n<polygon fill=\"#000000\" stroke=\"#000000\" points=\"507.5,-758.17 512.48,-767.52 514.42,-757.11 507.5,-758.17\"/>\n<text text-anchor=\"middle\" x=\"301.79\" y=\"-477.94\" font-family=\"Times,serif\" font-size=\"14.00\">INPUT_WORK</text>\n<text text-anchor=\"middle\" x=\"301.79\" y=\"-462.94\" font-family=\"Times,serif\" font-size=\"14.00\">scf__kpoints_force_parity</text>\n</g>\n<!-- N98 -->\n<g id=\"node14\" class=\"node\">\n<title>N98</title>\n<ellipse fill=\"#8cd499\" stroke=\"black\" stroke-width=\"0\" cx=\"84.15\" cy=\"-380.14\" rx=\"42.35\" ry=\"26.74\"/>\n<text text-anchor=\"middle\" x=\"84.15\" y=\"-383.94\" font-family=\"Times,serif\" font-size=\"14.00\">Int (98)</text>\n<text text-anchor=\"middle\" x=\"84.15\" y=\"-368.94\" font-family=\"Times,serif\" font-size=\"14.00\">value: 5</text>\n</g>\n<!-- N98&#45;&gt;N104 -->\n<g id=\"edge19\" class=\"edge\">\n<title>N98&#45;&gt;N104</title>\n<path fill=\"none\" stroke=\"#000000\" stroke-dasharray=\"5,2\" d=\"M125.84,-374.53C204.47,-364.64 373.39,-348.24 417.29,-383.14 476.2,-429.98 504.26,-665.57 513.09,-757.4\"/>\n<polygon fill=\"#000000\" stroke=\"#000000\" points=\"509.61,-757.73 514.03,-767.36 516.58,-757.08 509.61,-757.73\"/>\n<text text-anchor=\"middle\" x=\"301.79\" y=\"-401.94\" font-family=\"Times,serif\" font-size=\"14.00\">INPUT_WORK</text>\n<text text-anchor=\"middle\" x=\"301.79\" y=\"-386.94\" font-family=\"Times,serif\" font-size=\"14.00\">scf__max_iterations</text>\n</g>\n<!-- N99 -->\n<g id=\"node15\" class=\"node\">\n<title>N99</title>\n<ellipse fill=\"#8cd499\" stroke=\"black\" stroke-width=\"0\" cx=\"84.15\" cy=\"-317.14\" rx=\"42.79\" ry=\"18\"/>\n<text text-anchor=\"middle\" x=\"84.15\" y=\"-313.44\" font-family=\"Times,serif\" font-size=\"14.00\">Dict (99)</text>\n</g>\n<!-- N99&#45;&gt;N104 -->\n<g id=\"edge7\" class=\"edge\">\n<title>N99&#45;&gt;N104</title>\n<path fill=\"none\" stroke=\"#000000\" stroke-dasharray=\"5,2\" d=\"M125.68,-312.4C204.44,-304.12 374.18,-291.12 417.29,-327.14 483.49,-382.44 507.49,-656.59 514.15,-757.11\"/>\n<polygon fill=\"#000000\" stroke=\"#000000\" points=\"510.67,-757.63 514.81,-767.39 517.66,-757.18 510.67,-757.63\"/>\n<text text-anchor=\"middle\" x=\"301.79\" y=\"-345.94\" font-family=\"Times,serif\" font-size=\"14.00\">INPUT_WORK</text>\n<text text-anchor=\"middle\" x=\"301.79\" y=\"-330.94\" font-family=\"Times,serif\" font-size=\"14.00\">bands__pw__parameters</text>\n</g>\n<!-- N100 -->\n<g id=\"node16\" class=\"node\">\n<title>N100</title>\n<ellipse fill=\"#8cd499\" stroke=\"black\" stroke-width=\"0\" cx=\"84.15\" cy=\"-254.14\" rx=\"45.92\" ry=\"26.74\"/>\n<text text-anchor=\"middle\" x=\"84.15\" y=\"-257.94\" font-family=\"Times,serif\" font-size=\"14.00\">Int (100)</text>\n<text text-anchor=\"middle\" x=\"84.15\" y=\"-242.94\" font-family=\"Times,serif\" font-size=\"14.00\">value: 5</text>\n</g>\n<!-- N100&#45;&gt;N104 -->\n<g id=\"edge13\" class=\"edge\">\n<title>N100&#45;&gt;N104</title>\n<path fill=\"none\" stroke=\"#000000\" stroke-dasharray=\"5,2\" d=\"M125.1,-241.84C193.87,-223.4 335.12,-197.82 417.29,-269.14 491.27,-333.34 510.57,-648.98 515.05,-757.45\"/>\n<polygon fill=\"#000000\" stroke=\"#000000\" points=\"511.56,-757.73 515.45,-767.58 518.56,-757.45 511.56,-757.73\"/>\n<text text-anchor=\"middle\" x=\"301.79\" y=\"-287.94\" font-family=\"Times,serif\" font-size=\"14.00\">INPUT_WORK</text>\n<text text-anchor=\"middle\" x=\"301.79\" y=\"-272.94\" font-family=\"Times,serif\" font-size=\"14.00\">bands__max_iterations</text>\n</g>\n<!-- N101 -->\n<g id=\"node17\" class=\"node\">\n<title>N101</title>\n<ellipse fill=\"#8cd499\" stroke=\"black\" stroke-width=\"0\" cx=\"84.15\" cy=\"-182.14\" rx=\"53.98\" ry=\"26.74\"/>\n<text text-anchor=\"middle\" x=\"84.15\" y=\"-185.94\" font-family=\"Times,serif\" font-size=\"14.00\">Bool (101)</text>\n<text text-anchor=\"middle\" x=\"84.15\" y=\"-170.94\" font-family=\"Times,serif\" font-size=\"14.00\">True</text>\n</g>\n<!-- N101&#45;&gt;N104 -->\n<g id=\"edge23\" class=\"edge\">\n<title>N101&#45;&gt;N104</title>\n<path fill=\"none\" stroke=\"#000000\" stroke-dasharray=\"5,2\" d=\"M136.29,-175.27C218.91,-165.4 376.58,-152 417.29,-187.14 503.99,-261.97 514.9,-637.64 516.16,-757.4\"/>\n<polygon fill=\"#000000\" stroke=\"#000000\" points=\"512.67,-757.56 516.25,-767.53 519.67,-757.49 512.67,-757.56\"/>\n<text text-anchor=\"middle\" x=\"301.79\" y=\"-205.94\" font-family=\"Times,serif\" font-size=\"14.00\">INPUT_WORK</text>\n<text text-anchor=\"middle\" x=\"301.79\" y=\"-190.94\" font-family=\"Times,serif\" font-size=\"14.00\">clean_workdir</text>\n</g>\n<!-- N102 -->\n<g id=\"node18\" class=\"node\">\n<title>N102</title>\n<ellipse fill=\"#8cd499\" stroke=\"black\" stroke-width=\"0\" cx=\"84.15\" cy=\"-110.14\" rx=\"54.39\" ry=\"26.74\"/>\n<text text-anchor=\"middle\" x=\"84.15\" y=\"-113.94\" font-family=\"Times,serif\" font-size=\"14.00\">Float (102)</text>\n<text text-anchor=\"middle\" x=\"84.15\" y=\"-98.94\" font-family=\"Times,serif\" font-size=\"14.00\">value: 3.0</text>\n</g>\n<!-- N102&#45;&gt;N104 -->\n<g id=\"edge3\" class=\"edge\">\n<title>N102&#45;&gt;N104</title>\n<path fill=\"none\" stroke=\"#000000\" stroke-dasharray=\"5,2\" d=\"M131.46,-96.74C202.73,-79.25 339.22,-58.64 417.29,-130.14 510.21,-215.23 516.79,-630.18 516.59,-757.15\"/>\n<polygon fill=\"#000000\" stroke=\"#000000\" points=\"513.09,-757.49 516.56,-767.5 520.09,-757.51 513.09,-757.49\"/>\n<text text-anchor=\"middle\" x=\"301.79\" y=\"-148.94\" font-family=\"Times,serif\" font-size=\"14.00\">INPUT_WORK</text>\n<text text-anchor=\"middle\" x=\"301.79\" y=\"-133.94\" font-family=\"Times,serif\" font-size=\"14.00\">nbands_factor</text>\n</g>\n<!-- N103 -->\n<g id=\"node19\" class=\"node\">\n<title>N103</title>\n<ellipse fill=\"#8cd499\" stroke=\"black\" stroke-width=\"0\" cx=\"84.15\" cy=\"-38.14\" rx=\"54.39\" ry=\"26.74\"/>\n<text text-anchor=\"middle\" x=\"84.15\" y=\"-41.94\" font-family=\"Times,serif\" font-size=\"14.00\">Float (103)</text>\n<text text-anchor=\"middle\" x=\"84.15\" y=\"-26.94\" font-family=\"Times,serif\" font-size=\"14.00\">value: 0.1</text>\n</g>\n<!-- N103&#45;&gt;N104 -->\n<g id=\"edge16\" class=\"edge\">\n<title>N103&#45;&gt;N104</title>\n<path fill=\"none\" stroke=\"#000000\" stroke-dasharray=\"5,2\" d=\"M129.58,-23.11C200.17,-2.34 338,25.06 417.29,-46.14 470.96,-94.32 505.56,-613.22 514.18,-757.25\"/>\n<polygon fill=\"#000000\" stroke=\"#000000\" points=\"510.69,-757.57 514.78,-767.34 517.68,-757.15 510.69,-757.57\"/>\n<text text-anchor=\"middle\" x=\"301.79\" y=\"-64.94\" font-family=\"Times,serif\" font-size=\"14.00\">INPUT_WORK</text>\n<text text-anchor=\"middle\" x=\"301.79\" y=\"-49.94\" font-family=\"Times,serif\" font-size=\"14.00\">bands_kpoints_distance</text>\n</g>\n<!-- N106 -->\n<g id=\"node21\" class=\"node\">\n<title>N106</title>\n<polygon fill=\"#e38851\" stroke=\"black\" stroke-width=\"0\" points=\"931.29,-1088.64 770.29,-1088.64 770.29,-1035.64 931.29,-1035.64 931.29,-1088.64\"/>\n<text text-anchor=\"middle\" x=\"850.79\" y=\"-1073.44\" font-family=\"Times,serif\" font-size=\"14.00\">PwRelaxWorkChain (106)</text>\n<text text-anchor=\"middle\" x=\"850.79\" y=\"-1058.44\" font-family=\"Times,serif\" font-size=\"14.00\">State: finished</text>\n<text text-anchor=\"middle\" x=\"850.79\" y=\"-1043.44\" font-family=\"Times,serif\" font-size=\"14.00\">Exit Code: 0</text>\n</g>\n<!-- N104&#45;&gt;N106 -->\n<g id=\"edge32\" class=\"edge\">\n<title>N104&#45;&gt;N106</title>\n<path fill=\"none\" stroke=\"#000000\" stroke-dasharray=\"1,5\" d=\"M521.54,-820.68C528.99,-869.22 551.99,-971.99 617.29,-1023.14 657.22,-1054.41 712.96,-1064.55 759.86,-1066.68\"/>\n<polygon fill=\"#000000\" stroke=\"#000000\" points=\"759.91,-1070.18 770.03,-1067.03 760.15,-1063.19 759.91,-1070.18\"/>\n<text text-anchor=\"middle\" x=\"674.79\" y=\"-1081.94\" font-family=\"Times,serif\" font-size=\"14.00\">CALL_WORK</text>\n<text text-anchor=\"middle\" x=\"674.79\" y=\"-1066.94\" font-family=\"Times,serif\" font-size=\"14.00\">relax</text>\n</g>\n<!-- N135 -->\n<g id=\"node22\" class=\"node\">\n<title>N135</title>\n<polygon fill=\"#de707f\" fill-opacity=\"0.466667\" stroke=\"black\" stroke-width=\"0\" points=\"951.29,-1017.64 750.29,-1017.64 750.29,-964.64 951.29,-964.64 951.29,-1017.64\"/>\n<text text-anchor=\"middle\" x=\"850.79\" y=\"-1002.44\" font-family=\"Times,serif\" font-size=\"14.00\">seekpath_structure_analysis (135)</text>\n<text text-anchor=\"middle\" x=\"850.79\" y=\"-987.44\" font-family=\"Times,serif\" font-size=\"14.00\">State: finished</text>\n<text text-anchor=\"middle\" x=\"850.79\" y=\"-972.44\" font-family=\"Times,serif\" font-size=\"14.00\">Exit Code: 0</text>\n</g>\n<!-- N104&#45;&gt;N135 -->\n<g id=\"edge27\" class=\"edge\">\n<title>N104&#45;&gt;N135</title>\n<path fill=\"none\" stroke=\"#000000\" stroke-dasharray=\"1,5\" d=\"M527.21,-820.71C540.7,-856.52 569.88,-919.44 617.29,-951.14 653.07,-975.06 698.65,-986.08 739.96,-990.76\"/>\n<polygon fill=\"#000000\" stroke=\"#000000\" points=\"739.78,-994.26 750.09,-991.8 740.49,-987.3 739.78,-994.26\"/>\n<text text-anchor=\"middle\" x=\"674.79\" y=\"-1007.94\" font-family=\"Times,serif\" font-size=\"14.00\">CALL_CALC</text>\n<text text-anchor=\"middle\" x=\"674.79\" y=\"-992.94\" font-family=\"Times,serif\" font-size=\"14.00\">seekpath</text>\n</g>\n<!-- N136 -->\n<g id=\"node23\" class=\"node\">\n<title>N136</title>\n<ellipse fill=\"#8cd499\" stroke=\"black\" stroke-width=\"0\" cx=\"850.79\" cy=\"-928.14\" rx=\"47.39\" ry=\"18\"/>\n<text text-anchor=\"middle\" x=\"850.79\" y=\"-924.44\" font-family=\"Times,serif\" font-size=\"14.00\">Dict (136)</text>\n</g>\n<!-- N104&#45;&gt;N136 -->\n<g id=\"edge31\" class=\"edge\">\n<title>N104&#45;&gt;N136</title>\n<path fill=\"none\" stroke=\"#000000\" stroke-dasharray=\"5,2\" d=\"M540.23,-820.91C558.63,-841.49 586.73,-868.9 617.29,-884.14 673.07,-911.94 744.39,-922.24 793.24,-926.02\"/>\n<polygon fill=\"#000000\" stroke=\"#000000\" points=\"793.09,-929.52 803.31,-926.74 793.58,-922.54 793.09,-929.52\"/>\n<text text-anchor=\"middle\" x=\"674.79\" y=\"-935.94\" font-family=\"Times,serif\" font-size=\"14.00\">RETURN</text>\n<text text-anchor=\"middle\" x=\"674.79\" y=\"-920.94\" font-family=\"Times,serif\" font-size=\"14.00\">seekpath_parameters</text>\n</g>\n<!-- N138 -->\n<g id=\"node24\" class=\"node\">\n<title>N138</title>\n<ellipse fill=\"#8cd499\" stroke=\"black\" stroke-width=\"0\" cx=\"850.79\" cy=\"-865.14\" rx=\"88.28\" ry=\"26.74\"/>\n<text text-anchor=\"middle\" x=\"850.79\" y=\"-868.94\" font-family=\"Times,serif\" font-size=\"14.00\">StructureData (138)</text>\n<text text-anchor=\"middle\" x=\"850.79\" y=\"-853.94\" font-family=\"Times,serif\" font-size=\"14.00\">Si2</text>\n</g>\n<!-- N104&#45;&gt;N138 -->\n<g id=\"edge26\" class=\"edge\">\n<title>N104&#45;&gt;N138</title>\n<path fill=\"none\" stroke=\"#000000\" stroke-dasharray=\"5,2\" d=\"M590.85,-820.65C599.69,-823.41 608.65,-825.98 617.29,-828.14 663,-839.53 714.68,-848.17 757.69,-854.22\"/>\n<polygon fill=\"#000000\" stroke=\"#000000\" points=\"757.47,-857.72 767.86,-855.62 758.43,-850.79 757.47,-857.72\"/>\n<text text-anchor=\"middle\" x=\"674.79\" y=\"-868.94\" font-family=\"Times,serif\" font-size=\"14.00\">RETURN</text>\n<text text-anchor=\"middle\" x=\"674.79\" y=\"-853.94\" font-family=\"Times,serif\" font-size=\"14.00\">primitive_structure</text>\n</g>\n<!-- N142 -->\n<g id=\"node25\" class=\"node\">\n<title>N142</title>\n<polygon fill=\"#e38851\" stroke=\"black\" stroke-width=\"0\" points=\"928.79,-820.64 772.79,-820.64 772.79,-767.64 928.79,-767.64 928.79,-820.64\"/>\n<text text-anchor=\"middle\" x=\"850.79\" y=\"-805.44\" font-family=\"Times,serif\" font-size=\"14.00\">PwBaseWorkChain (142)</text>\n<text text-anchor=\"middle\" x=\"850.79\" y=\"-790.44\" font-family=\"Times,serif\" font-size=\"14.00\">State: finished</text>\n<text text-anchor=\"middle\" x=\"850.79\" y=\"-775.44\" font-family=\"Times,serif\" font-size=\"14.00\">Exit Code: 0</text>\n</g>\n<!-- N104&#45;&gt;N142 -->\n<g id=\"edge28\" class=\"edge\">\n<title>N104&#45;&gt;N142</title>\n<path fill=\"none\" stroke=\"#000000\" stroke-dasharray=\"1,5\" d=\"M599.39,-794.14C648.79,-794.14 711.91,-794.14 762.42,-794.14\"/>\n<polygon fill=\"#000000\" stroke=\"#000000\" points=\"762.67,-797.64 772.67,-794.14 762.67,-790.64 762.67,-797.64\"/>\n<text text-anchor=\"middle\" x=\"674.79\" y=\"-812.94\" font-family=\"Times,serif\" font-size=\"14.00\">CALL_WORK</text>\n<text text-anchor=\"middle\" x=\"674.79\" y=\"-797.94\" font-family=\"Times,serif\" font-size=\"14.00\">scf</text>\n</g>\n<!-- N152 -->\n<g id=\"node26\" class=\"node\">\n<title>N152</title>\n<ellipse fill=\"#8cd499\" stroke=\"black\" stroke-width=\"0\" cx=\"850.79\" cy=\"-731.14\" rx=\"47.39\" ry=\"18\"/>\n<text text-anchor=\"middle\" x=\"850.79\" y=\"-727.44\" font-family=\"Times,serif\" font-size=\"14.00\">Dict (152)</text>\n</g>\n<!-- N104&#45;&gt;N152 -->\n<g id=\"edge29\" class=\"edge\">\n<title>N104&#45;&gt;N152</title>\n<path fill=\"none\" stroke=\"#000000\" stroke-dasharray=\"5,2\" d=\"M589.97,-767.59C599.08,-764.78 608.35,-762.21 617.29,-760.14 676.73,-746.38 746.34,-738.79 793.79,-734.86\"/>\n<polygon fill=\"#000000\" stroke=\"#000000\" points=\"794.17,-738.34 803.86,-734.05 793.61,-731.36 794.17,-738.34\"/>\n<text text-anchor=\"middle\" x=\"674.79\" y=\"-778.94\" font-family=\"Times,serif\" font-size=\"14.00\">RETURN</text>\n<text text-anchor=\"middle\" x=\"674.79\" y=\"-763.94\" font-family=\"Times,serif\" font-size=\"14.00\">scf_parameters</text>\n</g>\n<!-- N155 -->\n<g id=\"node27\" class=\"node\">\n<title>N155</title>\n<polygon fill=\"#e38851\" stroke=\"black\" stroke-width=\"0\" points=\"928.79,-694.64 772.79,-694.64 772.79,-641.64 928.79,-641.64 928.79,-694.64\"/>\n<text text-anchor=\"middle\" x=\"850.79\" y=\"-679.44\" font-family=\"Times,serif\" font-size=\"14.00\">PwBaseWorkChain (155)</text>\n<text text-anchor=\"middle\" x=\"850.79\" y=\"-664.44\" font-family=\"Times,serif\" font-size=\"14.00\">State: finished</text>\n<text text-anchor=\"middle\" x=\"850.79\" y=\"-649.44\" font-family=\"Times,serif\" font-size=\"14.00\">Exit Code: 0</text>\n</g>\n<!-- N104&#45;&gt;N155 -->\n<g id=\"edge30\" class=\"edge\">\n<title>N104&#45;&gt;N155</title>\n<path fill=\"none\" stroke=\"#000000\" stroke-dasharray=\"1,5\" d=\"M541.09,-767.28C559.54,-747.4 587.32,-721.38 617.29,-707.14 662.4,-685.7 717.33,-675.84 762.47,-671.39\"/>\n<polygon fill=\"#000000\" stroke=\"#000000\" points=\"762.89,-674.87 772.53,-670.47 762.26,-667.9 762.89,-674.87\"/>\n<text text-anchor=\"middle\" x=\"674.79\" y=\"-725.94\" font-family=\"Times,serif\" font-size=\"14.00\">CALL_WORK</text>\n<text text-anchor=\"middle\" x=\"674.79\" y=\"-710.94\" font-family=\"Times,serif\" font-size=\"14.00\">bands</text>\n</g>\n<!-- N161 -->\n<g id=\"node28\" class=\"node\">\n<title>N161</title>\n<ellipse fill=\"#8cd499\" stroke=\"black\" stroke-width=\"0\" cx=\"850.79\" cy=\"-597.14\" rx=\"77.15\" ry=\"26.74\"/>\n<text text-anchor=\"middle\" x=\"850.79\" y=\"-600.94\" font-family=\"Times,serif\" font-size=\"14.00\">BandsData (161)</text>\n<text text-anchor=\"middle\" x=\"850.79\" y=\"-585.94\" font-family=\"Times,serif\" font-size=\"14.00\">(Path of 45 kpts)</text>\n</g>\n<!-- N104&#45;&gt;N161 -->\n<g id=\"edge24\" class=\"edge\">\n<title>N104&#45;&gt;N161</title>\n<path fill=\"none\" stroke=\"#000000\" stroke-dasharray=\"5,2\" d=\"M527.83,-767.45C541.78,-732.52 571.21,-672.11 617.29,-641.14 660.09,-612.37 716.83,-601.23 763.54,-597.36\"/>\n<polygon fill=\"#000000\" stroke=\"#000000\" points=\"763.93,-600.84 773.65,-596.62 763.42,-593.86 763.93,-600.84\"/>\n<text text-anchor=\"middle\" x=\"674.79\" y=\"-659.94\" font-family=\"Times,serif\" font-size=\"14.00\">RETURN</text>\n<text text-anchor=\"middle\" x=\"674.79\" y=\"-644.94\" font-family=\"Times,serif\" font-size=\"14.00\">band_structure</text>\n</g>\n<!-- N163 -->\n<g id=\"node29\" class=\"node\">\n<title>N163</title>\n<ellipse fill=\"#8cd499\" stroke=\"black\" stroke-width=\"0\" cx=\"850.79\" cy=\"-534.14\" rx=\"47.39\" ry=\"18\"/>\n<text text-anchor=\"middle\" x=\"850.79\" y=\"-530.44\" font-family=\"Times,serif\" font-size=\"14.00\">Dict (163)</text>\n</g>\n<!-- N104&#45;&gt;N163 -->\n<g id=\"edge25\" class=\"edge\">\n<title>N104&#45;&gt;N163</title>\n<path fill=\"none\" stroke=\"#000000\" stroke-dasharray=\"5,2\" d=\"M521.56,-767.28C528.99,-718.74 551.93,-616.85 617.29,-567.14 668.29,-528.35 744.31,-524.75 795.4,-527.75\"/>\n<polygon fill=\"#000000\" stroke=\"#000000\" points=\"795.37,-531.26 805.58,-528.46 795.85,-524.27 795.37,-531.26\"/>\n<text text-anchor=\"middle\" x=\"674.79\" y=\"-585.94\" font-family=\"Times,serif\" font-size=\"14.00\">RETURN</text>\n<text text-anchor=\"middle\" x=\"674.79\" y=\"-570.94\" font-family=\"Times,serif\" font-size=\"14.00\">band_parameters</text>\n</g>\n</g>\n</svg>\n",
      "text/plain": [
       "<graphviz.graphs.Digraph at 0x165a58ac0>"
      ]
     },
     "execution_count": 7,
     "metadata": {},
     "output_type": "execute_result"
    }
   ],
   "source": [
    "from aiida.tools.visualization import Graph\n",
    "graph = Graph(graph_attr={\"rankdir\": \"LR\", \"size\": \"8!,8!\"})\n",
    "graph.add_incoming(result.node, annotate_links=\"both\")\n",
    "graph.add_outgoing(result.node, annotate_links=\"both\")\n",
    "graph.graphviz"
   ]
  }
 ],
 "metadata": {
  "kernelspec": {
   "display_name": "Python 3.9.13 ('aiida-qe-demo')",
   "language": "python",
   "name": "python3"
  },
  "language_info": {
   "codemirror_mode": {
    "name": "ipython",
    "version": 3
   },
   "file_extension": ".py",
   "mimetype": "text/x-python",
   "name": "python",
   "nbconvert_exporter": "python",
   "pygments_lexer": "ipython3",
   "version": "3.9.13"
  },
  "orig_nbformat": 4,
  "vscode": {
   "interpreter": {
    "hash": "20c30adb377910d9d5c8112cf74e9f7ecb37538254a701570d770f074373c53e"
   }
  }
 },
 "nbformat": 4,
 "nbformat_minor": 2
}
