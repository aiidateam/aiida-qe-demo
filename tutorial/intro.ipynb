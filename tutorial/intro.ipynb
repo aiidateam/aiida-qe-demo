{
 "cells": [
  {
   "cell_type": "markdown",
   "metadata": {},
   "source": [
    "# AiiDA Tutorial"
   ]
  },
  {
   "cell_type": "code",
   "execution_count": 102,
   "metadata": {},
   "outputs": [],
   "source": [
    "import os, pathlib, shutil"
   ]
  },
  {
   "cell_type": "markdown",
   "metadata": {},
   "source": [
    "## Direct Run\n"
   ]
  },
  {
   "cell_type": "code",
   "execution_count": 103,
   "metadata": {},
   "outputs": [
    {
     "name": "stdout",
     "output_type": "stream",
     "text": [
      "Note: The following floating-point exceptions are signalling: IEEE_DENORMAL\n",
      "Note: The following floating-point exceptions are signalling: IEEE_DENORMAL\n"
     ]
    }
   ],
   "source": [
    "!mkdir -p direct_run/out\n",
    "!rm -rf direct_run/out/*\n",
    "!cd direct_run && mpirun -np 2 pw.x -in aiida.in > out/aiida.out"
   ]
  },
  {
   "cell_type": "code",
   "execution_count": 61,
   "metadata": {},
   "outputs": [
    {
     "name": "stdout",
     "output_type": "stream",
     "text": [
      "   This run was terminated on:  21:58:59  20Sep2022            \n",
      "\n",
      "=------------------------------------------------------------------------------=\n",
      "   JOB DONE.\n",
      "=------------------------------------------------------------------------------=\n"
     ]
    }
   ],
   "source": [
    "!tail -n 5 direct_run/out/aiida.out"
   ]
  },
  {
   "cell_type": "code",
   "execution_count": 104,
   "metadata": {},
   "outputs": [
    {
     "name": "stdout",
     "output_type": "stream",
     "text": [
      "\u001b[34m_aiida_config\u001b[m\u001b[m  \u001b[34m_build\u001b[m\u001b[m         \u001b[34mdirect_run\u001b[m\u001b[m     \u001b[34msssp_pseudos\u001b[m\u001b[m\n",
      "\u001b[34m_aiida_workdir\u001b[m\u001b[m conf.py        intro.ipynb\n"
     ]
    }
   ],
   "source": [
    "!ls\n",
    "# import qeschema\n",
    "\n",
    "# pw_document = qeschema.PwDocument()\n",
    "# data = pw_document.read(\"direct_run/out/aiida.xml\")\n",
    "# data = pw_document.to_dict()[\"qes:espresso\"]\n",
    "# print(data[\"parallel_info\"])\n",
    "# print(data[\"output\"][\"convergence_info\"])\n"
   ]
  },
  {
   "cell_type": "markdown",
   "metadata": {},
   "source": [
    "- What if we want to run more than one computation?\n",
    "- What if we want to chain this computation to others?\n",
    "- What if things go wrong?\n",
    "- How do we work with a HPC cluster?\n"
   ]
  },
  {
   "cell_type": "markdown",
   "metadata": {},
   "source": [
    "## Transitioning to AiiDA\n"
   ]
  },
  {
   "cell_type": "code",
   "execution_count": 12,
   "metadata": {},
   "outputs": [],
   "source": [
    "os.environ[\"AIIDA_PATH\"] = os.path.abspath(\"_aiida_config\")\n",
    "\n",
    "%load_ext aiida"
   ]
  },
  {
   "cell_type": "code",
   "execution_count": 13,
   "metadata": {},
   "outputs": [
    {
     "data": {
      "text/plain": [
       "Profile<uuid='4f1051f9b05b4a5c9210cec868c76d8e' name='temp_profile'>"
      ]
     },
     "execution_count": 13,
     "metadata": {},
     "output_type": "execute_result"
    }
   ],
   "source": [
    "from aiida import engine, load_profile, orm, plugins\n",
    "from aiida.storage.sqlite_temp import SqliteTempBackend\n",
    "from aiida.tools.visualization import Graph\n",
    "\n",
    "profile = load_profile(\n",
    "    SqliteTempBackend.create_profile(\n",
    "        \"temp_profile\",\n",
    "        options={\"runner.poll.interval\": 1},\n",
    "        debug=False,\n",
    "    ),\n",
    ")\n",
    "profile"
   ]
  },
  {
   "cell_type": "code",
   "execution_count": 63,
   "metadata": {},
   "outputs": [
    {
     "name": "stdout",
     "output_type": "stream",
     "text": [
      "\u001b[32m\u001b[22m ✔ \u001b[0m\u001b[22mversion:     AiiDA v2.0.1\u001b[0m\n",
      "\u001b[32m\u001b[22m ✔ \u001b[0m\u001b[22mconfig:      /Users/chrisjsewell/Documents/GitHub/aiida-qe-demo/tutorial/_aiida_config/.aiida\u001b[0m\n",
      "\u001b[32m\u001b[22m ✔ \u001b[0m\u001b[22mprofile:     temp_profile\u001b[0m\n",
      "\u001b[32m\u001b[22m ✔ \u001b[0m\u001b[22mstorage:     SqliteTemp storage [open], sandbox: /Users/chrisjsewell/Documents/GitHub/aiida-qe-demo/tutorial/_aiida_config/.aiida/repository/temp_profile\u001b[0m\n",
      "\u001b[33m\u001b[22m ⏺ \u001b[0m\u001b[22mdaemon:      The daemon is not running\u001b[0m\n"
     ]
    }
   ],
   "source": [
    "%verdi status --no-rmq"
   ]
  },
  {
   "cell_type": "code",
   "execution_count": 14,
   "metadata": {},
   "outputs": [
    {
     "data": {
      "text/plain": [
       "<Computer: local_direct (localhost), pk: 1>"
      ]
     },
     "execution_count": 14,
     "metadata": {},
     "output_type": "execute_result"
    }
   ],
   "source": [
    "_, computer = orm.Computer.collection.get_or_create(\n",
    "    label=\"local_direct\",\n",
    "    description=\"local computer with direct scheduler\",\n",
    "    hostname=\"localhost\",\n",
    "    workdir=os.path.abspath(\"_aiida_workdir\"),\n",
    "    transport_type=\"core.local\",\n",
    "    scheduler_type=\"core.direct\",\n",
    ")\n",
    "computer.store()\n",
    "computer.set_minimum_job_poll_interval(0.0)\n",
    "computer.set_default_mpiprocs_per_machine(2)\n",
    "computer.configure()\n",
    "computer"
   ]
  },
  {
   "cell_type": "code",
   "execution_count": 15,
   "metadata": {},
   "outputs": [
    {
     "data": {
      "text/plain": [
       "<Code: Remote code 'pw.x' on local_direct, pk: 1, uuid: 082517db-c2ae-42d4-9a96-6b95dff630fe>"
      ]
     },
     "execution_count": 15,
     "metadata": {},
     "output_type": "execute_result"
    }
   ],
   "source": [
    "try:\n",
    "    code = orm.load_code(\"pw.x@local_direct\")\n",
    "except:\n",
    "    code = orm.Code(\n",
    "        input_plugin_name=\"quantumespresso.pw\",\n",
    "        remote_computer_exec=[computer, shutil.which(\"pw.x\")],\n",
    "    )\n",
    "    code.label = \"pw.x\"\n",
    "    code.store()\n",
    "code"
   ]
  },
  {
   "cell_type": "code",
   "execution_count": 42,
   "metadata": {},
   "outputs": [
    {
     "data": {
      "text/plain": [
       "Process class: PwCalculation\n",
       "Inputs:\n",
       "code: ''\n",
       "kpoints: 'Kpoints mesh: 5x5x5 (+0.0,0.0,0.0)'\n",
       "metadata:\n",
       "  options:\n",
       "    stash: {}\n",
       "parameters:\n",
       "  CONTROL:\n",
       "    calculation: relax\n",
       "    etot_conv_thr: 0.0002\n",
       "    forc_conv_thr: 0.001\n",
       "    max_seconds: 41040.0\n",
       "    restart_mode: from_scratch\n",
       "    tprnfor: true\n",
       "    tstress: true\n",
       "    verbosity: high\n",
       "  ELECTRONS:\n",
       "    conv_thr: 8.0e-10\n",
       "    electron_maxstep: 80\n",
       "    mixing_beta: 0.4\n",
       "  SYSTEM:\n",
       "    degauss: 0.01\n",
       "    ecutrho: 240.0\n",
       "    ecutwfc: 30.0\n",
       "    ibrav: 0\n",
       "    nosym: false\n",
       "    occupations: smearing\n",
       "    smearing: cold\n",
       "pseudos:\n",
       "  Si: ''\n",
       "structure: Si\n"
      ]
     },
     "execution_count": 42,
     "metadata": {},
     "output_type": "execute_result"
    }
   ],
   "source": [
    "builder = code.get_builder()\n",
    "\n",
    "import qe_tools\n",
    "\n",
    "pw_input = qe_tools.parsers.PwInputFile(open(\"direct_run/aiida.in\").read())\n",
    "\n",
    "builder.structure = orm.StructureData(cell=pw_input.structure[\"cell\"])\n",
    "for p, s in zip(pw_input.structure[\"positions\"], pw_input.structure[\"atom_names\"]):\n",
    "    builder.structure.append_atom(position=p, symbols=s)\n",
    "\n",
    "parameters = pw_input.namelists\n",
    "for disallowed in [\"pseudo_dir\", \"outdir\", \"prefix\"]:\n",
    "    parameters[\"CONTROL\"].pop(disallowed, None)\n",
    "for disallowed in [\"nat\", \"ntyp\"]:\n",
    "    parameters[\"SYSTEM\"].pop(disallowed, None)\n",
    "builder.parameters = orm.Dict(dict=parameters)\n",
    "\n",
    "builder.kpoints = orm.KpointsData()\n",
    "builder.kpoints.set_cell_from_structure(builder.structure)\n",
    "builder.kpoints.set_kpoints_mesh(\n",
    "    pw_input.k_points[\"points\"],\n",
    "    offset=pw_input.k_points[\"offset\"],\n",
    ")\n",
    "\n",
    "builder.pseudos = {\n",
    "    \"Si\": orm.UpfData.get_or_create(\n",
    "        os.path.abspath(\"direct_run/pseudo/Si.pbe-n-rrkjus_psl.1.0.0.UPF\")\n",
    "    )[0]\n",
    "}\n",
    "\n",
    "builder"
   ]
  },
  {
   "cell_type": "code",
   "execution_count": null,
   "metadata": {},
   "outputs": [],
   "source": [
    "output = engine.run_get_node(builder)\n",
    "output"
   ]
  },
  {
   "cell_type": "code",
   "execution_count": 43,
   "metadata": {},
   "outputs": [
    {
     "data": {
      "image/svg+xml": "<?xml version=\"1.0\" encoding=\"UTF-8\" standalone=\"no\"?>\n<!DOCTYPE svg PUBLIC \"-//W3C//DTD SVG 1.1//EN\"\n \"http://www.w3.org/Graphics/SVG/1.1/DTD/svg11.dtd\">\n<!-- Generated by graphviz version 5.0.0 (0)\n -->\n<!-- Pages: 1 -->\n<svg width=\"1008pt\" height=\"300pt\"\n viewBox=\"0.00 0.00 1007.81 300.48\" xmlns=\"http://www.w3.org/2000/svg\" xmlns:xlink=\"http://www.w3.org/1999/xlink\">\n<g id=\"graph0\" class=\"graph\" transform=\"scale(1 1) rotate(0) translate(4 296.48)\">\n<polygon fill=\"white\" stroke=\"transparent\" points=\"-4,4 -4,-296.48 1003.81,-296.48 1003.81,4 -4,4\"/>\n<!-- N1 -->\n<g id=\"node1\" class=\"node\">\n<title>N1</title>\n<ellipse fill=\"#4ca4b9\" fill-opacity=\"0.666667\" stroke=\"black\" stroke-width=\"0\" cx=\"171.49\" cy=\"-265.61\" rx=\"84.29\" ry=\"26.74\"/>\n<text text-anchor=\"middle\" x=\"171.49\" y=\"-269.41\" font-family=\"Times,serif\" font-size=\"14.00\">Code (1)</text>\n<text text-anchor=\"middle\" x=\"171.49\" y=\"-254.41\" font-family=\"Times,serif\" font-size=\"14.00\">pw.x@local_direct</text>\n</g>\n<!-- N30 -->\n<g id=\"node6\" class=\"node\">\n<title>N30</title>\n<polygon fill=\"#de707f\" stroke=\"black\" stroke-width=\"0\" points=\"553.49,-172.74 431.49,-172.74 431.49,-119.74 553.49,-119.74 553.49,-172.74\"/>\n<text text-anchor=\"middle\" x=\"492.49\" y=\"-157.54\" font-family=\"Times,serif\" font-size=\"14.00\">PwCalculation (30)</text>\n<text text-anchor=\"middle\" x=\"492.49\" y=\"-142.54\" font-family=\"Times,serif\" font-size=\"14.00\">State: finished</text>\n<text text-anchor=\"middle\" x=\"492.49\" y=\"-127.54\" font-family=\"Times,serif\" font-size=\"14.00\">Exit Code: 0</text>\n</g>\n<!-- N1&#45;&gt;N30 -->\n<g id=\"edge2\" class=\"edge\">\n<title>N1&#45;&gt;N30</title>\n<path fill=\"none\" stroke=\"#000000\" d=\"M201.86,-240.23C223.66,-223.91 254.39,-203.2 284.49,-190.74 328.1,-172.68 380.08,-161.81 421.16,-155.45\"/>\n<polygon fill=\"#000000\" stroke=\"#000000\" points=\"421.72,-158.9 431.09,-153.97 420.69,-151.98 421.72,-158.9\"/>\n<text text-anchor=\"middle\" x=\"325.99\" y=\"-209.54\" font-family=\"Times,serif\" font-size=\"14.00\">INPUT_CALC</text>\n<text text-anchor=\"middle\" x=\"325.99\" y=\"-194.54\" font-family=\"Times,serif\" font-size=\"14.00\">code</text>\n</g>\n<!-- N6 -->\n<g id=\"node2\" class=\"node\">\n<title>N6</title>\n<ellipse fill=\"#8cd499\" stroke=\"black\" stroke-width=\"0\" cx=\"332.49\" cy=\"-265.61\" rx=\"58.88\" ry=\"26.74\"/>\n<text text-anchor=\"middle\" x=\"332.49\" y=\"-269.41\" font-family=\"Times,serif\" font-size=\"14.00\">UpfData (6)</text>\n<text text-anchor=\"middle\" x=\"332.49\" y=\"-254.41\" font-family=\"Times,serif\" font-size=\"14.00\">Si</text>\n</g>\n<!-- N6&#45;&gt;N30 -->\n<g id=\"edge3\" class=\"edge\">\n<title>N6&#45;&gt;N30</title>\n<path fill=\"none\" stroke=\"#000000\" d=\"M352.79,-240.28C366.56,-224.79 385.78,-205.03 405.49,-190.74 411.83,-186.14 418.74,-181.78 425.79,-177.72\"/>\n<polygon fill=\"#000000\" stroke=\"#000000\" points=\"427.71,-180.65 434.76,-172.74 424.32,-174.53 427.71,-180.65\"/>\n<text text-anchor=\"middle\" x=\"446.99\" y=\"-209.54\" font-family=\"Times,serif\" font-size=\"14.00\">INPUT_CALC</text>\n<text text-anchor=\"middle\" x=\"446.99\" y=\"-194.54\" font-family=\"Times,serif\" font-size=\"14.00\">pseudos__Si</text>\n</g>\n<!-- N27 -->\n<g id=\"node3\" class=\"node\">\n<title>N27</title>\n<ellipse fill=\"#8cd499\" stroke=\"black\" stroke-width=\"0\" cx=\"492.49\" cy=\"-265.61\" rx=\"83.38\" ry=\"26.74\"/>\n<text text-anchor=\"middle\" x=\"492.49\" y=\"-269.41\" font-family=\"Times,serif\" font-size=\"14.00\">StructureData (27)</text>\n<text text-anchor=\"middle\" x=\"492.49\" y=\"-254.41\" font-family=\"Times,serif\" font-size=\"14.00\">Si2</text>\n</g>\n<!-- N27&#45;&gt;N30 -->\n<g id=\"edge1\" class=\"edge\">\n<title>N27&#45;&gt;N30</title>\n<path fill=\"none\" stroke=\"#000000\" d=\"M492.49,-238.56C492.49,-222.19 492.49,-200.85 492.49,-182.91\"/>\n<polygon fill=\"#000000\" stroke=\"#000000\" points=\"495.99,-182.81 492.49,-172.81 488.99,-182.81 495.99,-182.81\"/>\n<text text-anchor=\"middle\" x=\"533.99\" y=\"-209.54\" font-family=\"Times,serif\" font-size=\"14.00\">INPUT_CALC</text>\n<text text-anchor=\"middle\" x=\"533.99\" y=\"-194.54\" font-family=\"Times,serif\" font-size=\"14.00\">structure</text>\n</g>\n<!-- N28 -->\n<g id=\"node4\" class=\"node\">\n<title>N28</title>\n<ellipse fill=\"#8cd499\" stroke=\"black\" stroke-width=\"0\" cx=\"636.49\" cy=\"-265.61\" rx=\"42.79\" ry=\"18\"/>\n<text text-anchor=\"middle\" x=\"636.49\" y=\"-261.91\" font-family=\"Times,serif\" font-size=\"14.00\">Dict (28)</text>\n</g>\n<!-- N28&#45;&gt;N30 -->\n<g id=\"edge4\" class=\"edge\">\n<title>N28&#45;&gt;N30</title>\n<path fill=\"none\" stroke=\"#000000\" d=\"M626.71,-247.88C616.55,-231.64 599.38,-207.11 579.49,-190.74 573.93,-186.17 567.81,-181.91 561.47,-177.99\"/>\n<polygon fill=\"#000000\" stroke=\"#000000\" points=\"563.12,-174.9 552.72,-172.86 559.58,-180.94 563.12,-174.9\"/>\n<text text-anchor=\"middle\" x=\"647.99\" y=\"-209.54\" font-family=\"Times,serif\" font-size=\"14.00\">INPUT_CALC</text>\n<text text-anchor=\"middle\" x=\"647.99\" y=\"-194.54\" font-family=\"Times,serif\" font-size=\"14.00\">parameters</text>\n</g>\n<!-- N29 -->\n<g id=\"node5\" class=\"node\">\n<title>N29</title>\n<ellipse fill=\"#8cd499\" stroke=\"black\" stroke-width=\"0\" cx=\"848.49\" cy=\"-265.61\" rx=\"151.14\" ry=\"26.74\"/>\n<text text-anchor=\"middle\" x=\"848.49\" y=\"-269.41\" font-family=\"Times,serif\" font-size=\"14.00\">KpointsData (29)</text>\n<text text-anchor=\"middle\" x=\"848.49\" y=\"-254.41\" font-family=\"Times,serif\" font-size=\"14.00\">Kpoints mesh: 5x5x5 (+0.0,0.0,0.0)</text>\n</g>\n<!-- N29&#45;&gt;N30 -->\n<g id=\"edge5\" class=\"edge\">\n<title>N29&#45;&gt;N30</title>\n<path fill=\"none\" stroke=\"#000000\" d=\"M803.54,-239.77C773.2,-223.87 731.86,-203.84 693.49,-190.74 651.46,-176.39 602.82,-165.72 563.92,-158.54\"/>\n<polygon fill=\"#000000\" stroke=\"#000000\" points=\"564.2,-155.03 553.73,-156.69 562.95,-161.92 564.2,-155.03\"/>\n<text text-anchor=\"middle\" x=\"803.99\" y=\"-209.54\" font-family=\"Times,serif\" font-size=\"14.00\">INPUT_CALC</text>\n<text text-anchor=\"middle\" x=\"803.99\" y=\"-194.54\" font-family=\"Times,serif\" font-size=\"14.00\">kpoints</text>\n</g>\n<!-- N31 -->\n<g id=\"node7\" class=\"node\">\n<title>N31</title>\n<ellipse fill=\"#8cd499\" stroke=\"black\" stroke-width=\"0\" cx=\"78.49\" cy=\"-26.87\" rx=\"78.48\" ry=\"26.74\"/>\n<text text-anchor=\"middle\" x=\"78.49\" y=\"-30.67\" font-family=\"Times,serif\" font-size=\"14.00\">RemoteData (31)</text>\n<text text-anchor=\"middle\" x=\"78.49\" y=\"-15.67\" font-family=\"Times,serif\" font-size=\"14.00\">@local_direct</text>\n</g>\n<!-- N30&#45;&gt;N31 -->\n<g id=\"edge9\" class=\"edge\">\n<title>N30&#45;&gt;N31</title>\n<path fill=\"none\" stroke=\"#000000\" d=\"M431.39,-139.34C379.28,-133.23 302.79,-121.71 238.49,-101.74 200.09,-89.82 158.96,-70.67 128.01,-54.86\"/>\n<polygon fill=\"#000000\" stroke=\"#000000\" points=\"129.24,-51.55 118.75,-50.07 126.02,-57.77 129.24,-51.55\"/>\n<text text-anchor=\"middle\" x=\"277.49\" y=\"-90.54\" font-family=\"Times,serif\" font-size=\"14.00\">CREATE</text>\n<text text-anchor=\"middle\" x=\"277.49\" y=\"-75.54\" font-family=\"Times,serif\" font-size=\"14.00\">remote_folder</text>\n</g>\n<!-- N32 -->\n<g id=\"node8\" class=\"node\">\n<title>N32</title>\n<ellipse fill=\"#8cd499\" stroke=\"black\" stroke-width=\"0\" cx=\"242.49\" cy=\"-26.87\" rx=\"67.69\" ry=\"18\"/>\n<text text-anchor=\"middle\" x=\"242.49\" y=\"-23.17\" font-family=\"Times,serif\" font-size=\"14.00\">FolderData (32)</text>\n</g>\n<!-- N30&#45;&gt;N32 -->\n<g id=\"edge11\" class=\"edge\">\n<title>N30&#45;&gt;N32</title>\n<path fill=\"none\" stroke=\"#000000\" d=\"M431.35,-124.49C413.14,-117.78 393.3,-109.94 375.49,-101.74 341.15,-85.93 303.64,-64.71 277.23,-49.07\"/>\n<polygon fill=\"#000000\" stroke=\"#000000\" points=\"278.76,-45.9 268.38,-43.79 275.17,-51.92 278.76,-45.9\"/>\n<text text-anchor=\"middle\" x=\"401.49\" y=\"-90.54\" font-family=\"Times,serif\" font-size=\"14.00\">CREATE</text>\n<text text-anchor=\"middle\" x=\"401.49\" y=\"-75.54\" font-family=\"Times,serif\" font-size=\"14.00\">retrieved</text>\n</g>\n<!-- N33 -->\n<g id=\"node9\" class=\"node\">\n<title>N33</title>\n<ellipse fill=\"#8cd499\" stroke=\"black\" stroke-width=\"0\" cx=\"404.49\" cy=\"-26.87\" rx=\"76.24\" ry=\"26.74\"/>\n<text text-anchor=\"middle\" x=\"404.49\" y=\"-30.67\" font-family=\"Times,serif\" font-size=\"14.00\">BandsData (33)</text>\n<text text-anchor=\"middle\" x=\"404.49\" y=\"-15.67\" font-family=\"Times,serif\" font-size=\"14.00\">(Path of 19 kpts)</text>\n</g>\n<!-- N30&#45;&gt;N33 -->\n<g id=\"edge7\" class=\"edge\">\n<title>N30&#45;&gt;N33</title>\n<path fill=\"none\" stroke=\"#000000\" d=\"M468.34,-119.55C463.28,-113.82 458.08,-107.68 453.49,-101.74 443.77,-89.18 433.93,-74.74 425.64,-61.98\"/>\n<polygon fill=\"#000000\" stroke=\"#000000\" points=\"428.52,-59.98 420.17,-53.46 422.62,-63.77 428.52,-59.98\"/>\n<text text-anchor=\"middle\" x=\"487.49\" y=\"-90.54\" font-family=\"Times,serif\" font-size=\"14.00\">CREATE</text>\n<text text-anchor=\"middle\" x=\"487.49\" y=\"-75.54\" font-family=\"Times,serif\" font-size=\"14.00\">output_band</text>\n</g>\n<!-- N34 -->\n<g id=\"node10\" class=\"node\">\n<title>N34</title>\n<ellipse fill=\"#8cd499\" stroke=\"black\" stroke-width=\"0\" cx=\"580.49\" cy=\"-26.87\" rx=\"81.49\" ry=\"18\"/>\n<text text-anchor=\"middle\" x=\"580.49\" y=\"-23.17\" font-family=\"Times,serif\" font-size=\"14.00\">TrajectoryData (34)</text>\n</g>\n<!-- N30&#45;&gt;N34 -->\n<g id=\"edge6\" class=\"edge\">\n<title>N30&#45;&gt;N34</title>\n<path fill=\"none\" stroke=\"#000000\" d=\"M511.8,-119.48C526.61,-99.73 546.93,-72.62 561.63,-53.03\"/>\n<polygon fill=\"#000000\" stroke=\"#000000\" points=\"564.55,-54.97 567.75,-44.87 558.95,-50.77 564.55,-54.97\"/>\n<text text-anchor=\"middle\" x=\"593.49\" y=\"-90.54\" font-family=\"Times,serif\" font-size=\"14.00\">CREATE</text>\n<text text-anchor=\"middle\" x=\"593.49\" y=\"-75.54\" font-family=\"Times,serif\" font-size=\"14.00\">output_trajectory</text>\n</g>\n<!-- N35 -->\n<g id=\"node11\" class=\"node\">\n<title>N35</title>\n<ellipse fill=\"#8cd499\" stroke=\"black\" stroke-width=\"0\" cx=\"763.49\" cy=\"-26.87\" rx=\"83.38\" ry=\"26.74\"/>\n<text text-anchor=\"middle\" x=\"763.49\" y=\"-30.67\" font-family=\"Times,serif\" font-size=\"14.00\">StructureData (35)</text>\n<text text-anchor=\"middle\" x=\"763.49\" y=\"-15.67\" font-family=\"Times,serif\" font-size=\"14.00\">Si2</text>\n</g>\n<!-- N30&#45;&gt;N35 -->\n<g id=\"edge8\" class=\"edge\">\n<title>N30&#45;&gt;N35</title>\n<path fill=\"none\" stroke=\"#000000\" d=\"M553.76,-131.83C582.03,-124.61 615.63,-114.53 644.49,-101.74 671.67,-89.69 700.03,-72.3 722.25,-57.42\"/>\n<polygon fill=\"#000000\" stroke=\"#000000\" points=\"724.45,-60.16 730.75,-51.65 720.51,-54.37 724.45,-60.16\"/>\n<text text-anchor=\"middle\" x=\"742.99\" y=\"-90.54\" font-family=\"Times,serif\" font-size=\"14.00\">CREATE</text>\n<text text-anchor=\"middle\" x=\"742.99\" y=\"-75.54\" font-family=\"Times,serif\" font-size=\"14.00\">output_structure</text>\n</g>\n<!-- N36 -->\n<g id=\"node12\" class=\"node\">\n<title>N36</title>\n<ellipse fill=\"#8cd499\" stroke=\"black\" stroke-width=\"0\" cx=\"907.49\" cy=\"-26.87\" rx=\"42.79\" ry=\"18\"/>\n<text text-anchor=\"middle\" x=\"907.49\" y=\"-23.17\" font-family=\"Times,serif\" font-size=\"14.00\">Dict (36)</text>\n</g>\n<!-- N30&#45;&gt;N36 -->\n<g id=\"edge10\" class=\"edge\">\n<title>N30&#45;&gt;N36</title>\n<path fill=\"none\" stroke=\"#000000\" d=\"M553.61,-143.82C615.38,-140.69 712.69,-131.02 791.49,-101.74 824.63,-89.43 858.24,-66.64 880.7,-49.62\"/>\n<polygon fill=\"#000000\" stroke=\"#000000\" points=\"882.96,-52.3 888.73,-43.41 878.68,-46.76 882.96,-52.3\"/>\n<text text-anchor=\"middle\" x=\"898.49\" y=\"-90.54\" font-family=\"Times,serif\" font-size=\"14.00\">CREATE</text>\n<text text-anchor=\"middle\" x=\"898.49\" y=\"-75.54\" font-family=\"Times,serif\" font-size=\"14.00\">output_parameters</text>\n</g>\n</g>\n</svg>\n",
      "text/plain": [
       "<graphviz.graphs.Digraph at 0x114f31220>"
      ]
     },
     "execution_count": 43,
     "metadata": {},
     "output_type": "execute_result"
    }
   ],
   "source": [
    "graph = Graph()\n",
    "graph.add_incoming(output.node, annotate_links=\"both\")\n",
    "graph.add_outgoing(output.node, annotate_links=\"both\")\n",
    "graph.graphviz"
   ]
  },
  {
   "cell_type": "code",
   "execution_count": 65,
   "metadata": {},
   "outputs": [
    {
     "name": "stdout",
     "output_type": "stream",
     "text": [
      "\u001b[22mentities:\n",
      "  Users:\n",
      "    count: 1\n",
      "  Computers:\n",
      "    count: 1\n",
      "  Nodes:\n",
      "    count: 36\n",
      "  Groups:\n",
      "    count: 0\n",
      "  Comments:\n",
      "    count: 0\n",
      "  Logs:\n",
      "    count: 6\n",
      "  Links:\n",
      "    count: 40\n",
      "\u001b[0m\n"
     ]
    }
   ],
   "source": [
    "%verdi storage info"
   ]
  },
  {
   "cell_type": "markdown",
   "metadata": {},
   "source": [
    "## Automating Data Inputs"
   ]
  },
  {
   "cell_type": "markdown",
   "metadata": {},
   "source": [
    "### AiiDA Pseudopotential Families\n"
   ]
  },
  {
   "cell_type": "markdown",
   "metadata": {},
   "source": [
    "```console\n",
    "$ aiida-pseudo install sssp -x PBE -p efficiency -v 1.1\n",
    "```"
   ]
  },
  {
   "cell_type": "code",
   "execution_count": 85,
   "metadata": {},
   "outputs": [
    {
     "data": {
      "text/plain": [
       "'SsspFamily<SSSP/1.1/PBE/efficiency>'"
      ]
     },
     "execution_count": 85,
     "metadata": {},
     "output_type": "execute_result"
    }
   ],
   "source": [
    "import json\n",
    "from aiida_pseudo.cli.install import download_sssp\n",
    "from aiida_pseudo.cli.utils import create_family_from_archive\n",
    "from aiida_pseudo.groups.family import SsspConfiguration, SsspFamily\n",
    "\n",
    "config = SsspConfiguration(\"1.1\", \"PBE\", \"efficiency\")\n",
    "label = SsspFamily.format_configuration_label(config)\n",
    "\n",
    "try:\n",
    "    family = orm.Group.collection.get(label=label)\n",
    "except:\n",
    "    pseudos = pathlib.Path(\"sssp_pseudos\")\n",
    "    pseudos.mkdir(exist_ok=True)\n",
    "\n",
    "    download_sssp(config, pseudos / \"sssp.tar.gz\", pseudos / \"sssp.json\")\n",
    "\n",
    "    family = create_family_from_archive(\n",
    "        SsspFamily,\n",
    "        label,\n",
    "        pseudos / \"sssp.tar.gz\",\n",
    "    )\n",
    "    family.set_cutoffs(\n",
    "        {\n",
    "            k: {i: v[i] for i in [\"cutoff_wfc\", \"cutoff_rho\"]}\n",
    "            for k, v in json.loads((pseudos / \"sssp.json\").read_text()).items()\n",
    "        },\n",
    "        \"normal\",\n",
    "        unit=\"Ry\",\n",
    "    )\n",
    "\n",
    "str(family)"
   ]
  },
  {
   "cell_type": "code",
   "execution_count": 90,
   "metadata": {},
   "outputs": [
    {
     "name": "stdout",
     "output_type": "stream",
     "text": [
      "\u001b[93m\u001b[1mWarning\u001b[0m: Unrecognized job_state '?' for job id 63498\n",
      "\u001b[93m\u001b[1mWarning\u001b[0m: Unrecognized job_state '?' for job id 63699\n"
     ]
    },
    {
     "data": {
      "image/svg+xml": "<?xml version=\"1.0\" encoding=\"UTF-8\" standalone=\"no\"?>\n<!DOCTYPE svg PUBLIC \"-//W3C//DTD SVG 1.1//EN\"\n \"http://www.w3.org/Graphics/SVG/1.1/DTD/svg11.dtd\">\n<!-- Generated by graphviz version 5.0.0 (0)\n -->\n<!-- Pages: 1 -->\n<svg width=\"938pt\" height=\"181pt\"\n viewBox=\"0.00 0.00 938.47 180.74\" xmlns=\"http://www.w3.org/2000/svg\" xmlns:xlink=\"http://www.w3.org/1999/xlink\">\n<g id=\"graph0\" class=\"graph\" transform=\"scale(1 1) rotate(0) translate(4 176.74)\">\n<polygon fill=\"white\" stroke=\"transparent\" points=\"-4,4 -4,-176.74 934.47,-176.74 934.47,4 -4,4\"/>\n<!-- N1 -->\n<g id=\"node1\" class=\"node\">\n<title>N1</title>\n<ellipse fill=\"#4ca4b9\" fill-opacity=\"0.666667\" stroke=\"black\" stroke-width=\"0\" cx=\"84.15\" cy=\"-145.87\" rx=\"84.29\" ry=\"26.74\"/>\n<text text-anchor=\"middle\" x=\"84.15\" y=\"-149.67\" font-family=\"Times,serif\" font-size=\"14.00\">Code (1)</text>\n<text text-anchor=\"middle\" x=\"84.15\" y=\"-134.67\" font-family=\"Times,serif\" font-size=\"14.00\">pw.x@local_direct</text>\n</g>\n<!-- N139 -->\n<g id=\"node6\" class=\"node\">\n<title>N139</title>\n<polygon fill=\"#de707f\" stroke=\"black\" stroke-width=\"0\" points=\"472.65,-53 343.65,-53 343.65,0 472.65,0 472.65,-53\"/>\n<text text-anchor=\"middle\" x=\"408.15\" y=\"-37.8\" font-family=\"Times,serif\" font-size=\"14.00\">PwCalculation (139)</text>\n<text text-anchor=\"middle\" x=\"408.15\" y=\"-22.8\" font-family=\"Times,serif\" font-size=\"14.00\">State: finished</text>\n<text text-anchor=\"middle\" x=\"408.15\" y=\"-7.8\" font-family=\"Times,serif\" font-size=\"14.00\">Exit Code: 0</text>\n</g>\n<!-- N1&#45;&gt;N139 -->\n<g id=\"edge2\" class=\"edge\">\n<title>N1&#45;&gt;N139</title>\n<path fill=\"none\" stroke=\"#000000\" d=\"M115.12,-120.51C137.33,-104.19 168.61,-83.48 199.15,-71 241.84,-53.55 292.42,-42.78 333.12,-36.33\"/>\n<polygon fill=\"#000000\" stroke=\"#000000\" points=\"333.89,-39.75 343.25,-34.78 332.83,-32.83 333.89,-39.75\"/>\n<text text-anchor=\"middle\" x=\"240.65\" y=\"-89.8\" font-family=\"Times,serif\" font-size=\"14.00\">INPUT_CALC</text>\n<text text-anchor=\"middle\" x=\"240.65\" y=\"-74.8\" font-family=\"Times,serif\" font-size=\"14.00\">code</text>\n</g>\n<!-- N63 -->\n<g id=\"node2\" class=\"node\">\n<title>N63</title>\n<ellipse fill=\"#8cd499\" stroke=\"black\" stroke-width=\"0\" cx=\"244.15\" cy=\"-145.87\" rx=\"57.69\" ry=\"18\"/>\n<text text-anchor=\"middle\" x=\"244.15\" y=\"-142.17\" font-family=\"Times,serif\" font-size=\"14.00\">UpfData (63)</text>\n</g>\n<!-- N63&#45;&gt;N139 -->\n<g id=\"edge1\" class=\"edge\">\n<title>N63&#45;&gt;N139</title>\n<path fill=\"none\" stroke=\"#000000\" d=\"M258.56,-128.4C273.2,-112.36 297.07,-87.97 321.15,-71 327.55,-66.48 334.49,-62.18 341.56,-58.15\"/>\n<polygon fill=\"#000000\" stroke=\"#000000\" points=\"343.49,-61.09 350.56,-53.2 340.11,-54.95 343.49,-61.09\"/>\n<text text-anchor=\"middle\" x=\"362.65\" y=\"-89.8\" font-family=\"Times,serif\" font-size=\"14.00\">INPUT_CALC</text>\n<text text-anchor=\"middle\" x=\"362.65\" y=\"-74.8\" font-family=\"Times,serif\" font-size=\"14.00\">pseudos__Si</text>\n</g>\n<!-- N122 -->\n<g id=\"node3\" class=\"node\">\n<title>N122</title>\n<ellipse fill=\"#8cd499\" stroke=\"black\" stroke-width=\"0\" cx=\"408.15\" cy=\"-145.87\" rx=\"88.28\" ry=\"26.74\"/>\n<text text-anchor=\"middle\" x=\"408.15\" y=\"-149.67\" font-family=\"Times,serif\" font-size=\"14.00\">StructureData (122)</text>\n<text text-anchor=\"middle\" x=\"408.15\" y=\"-134.67\" font-family=\"Times,serif\" font-size=\"14.00\">Si2</text>\n</g>\n<!-- N122&#45;&gt;N139 -->\n<g id=\"edge4\" class=\"edge\">\n<title>N122&#45;&gt;N139</title>\n<path fill=\"none\" stroke=\"#000000\" d=\"M408.15,-118.82C408.15,-102.45 408.15,-81.11 408.15,-63.17\"/>\n<polygon fill=\"#000000\" stroke=\"#000000\" points=\"411.65,-63.07 408.15,-53.07 404.65,-63.07 411.65,-63.07\"/>\n<text text-anchor=\"middle\" x=\"449.65\" y=\"-89.8\" font-family=\"Times,serif\" font-size=\"14.00\">INPUT_CALC</text>\n<text text-anchor=\"middle\" x=\"449.65\" y=\"-74.8\" font-family=\"Times,serif\" font-size=\"14.00\">structure</text>\n</g>\n<!-- N123 -->\n<g id=\"node4\" class=\"node\">\n<title>N123</title>\n<ellipse fill=\"#8cd499\" stroke=\"black\" stroke-width=\"0\" cx=\"562.15\" cy=\"-145.87\" rx=\"47.39\" ry=\"18\"/>\n<text text-anchor=\"middle\" x=\"562.15\" y=\"-142.17\" font-family=\"Times,serif\" font-size=\"14.00\">Dict (123)</text>\n</g>\n<!-- N123&#45;&gt;N139 -->\n<g id=\"edge3\" class=\"edge\">\n<title>N123&#45;&gt;N139</title>\n<path fill=\"none\" stroke=\"#000000\" d=\"M550.02,-128.26C537.61,-112.1 517.08,-87.64 495.15,-71 489.23,-66.51 482.77,-62.28 476.14,-58.35\"/>\n<polygon fill=\"#000000\" stroke=\"#000000\" points=\"477.45,-55.07 467.02,-53.18 474,-61.16 477.45,-55.07\"/>\n<text text-anchor=\"middle\" x=\"567.65\" y=\"-89.8\" font-family=\"Times,serif\" font-size=\"14.00\">INPUT_CALC</text>\n<text text-anchor=\"middle\" x=\"567.65\" y=\"-74.8\" font-family=\"Times,serif\" font-size=\"14.00\">parameters</text>\n</g>\n<!-- N124 -->\n<g id=\"node5\" class=\"node\">\n<title>N124</title>\n<ellipse fill=\"#8cd499\" stroke=\"black\" stroke-width=\"0\" cx=\"779.15\" cy=\"-145.87\" rx=\"151.14\" ry=\"26.74\"/>\n<text text-anchor=\"middle\" x=\"779.15\" y=\"-149.67\" font-family=\"Times,serif\" font-size=\"14.00\">KpointsData (124)</text>\n<text text-anchor=\"middle\" x=\"779.15\" y=\"-134.67\" font-family=\"Times,serif\" font-size=\"14.00\">Kpoints mesh: 5x5x5 (+0.0,0.0,0.0)</text>\n</g>\n<!-- N124&#45;&gt;N139 -->\n<g id=\"edge5\" class=\"edge\">\n<title>N124&#45;&gt;N139</title>\n<path fill=\"none\" stroke=\"#000000\" d=\"M731.17,-120.3C698.57,-104.41 654.1,-84.29 613.15,-71 570.81,-57.26 522.11,-46.71 482.81,-39.45\"/>\n<polygon fill=\"#000000\" stroke=\"#000000\" points=\"483.23,-35.97 472.77,-37.63 481.98,-42.86 483.23,-35.97\"/>\n<text text-anchor=\"middle\" x=\"728.65\" y=\"-89.8\" font-family=\"Times,serif\" font-size=\"14.00\">INPUT_CALC</text>\n<text text-anchor=\"middle\" x=\"728.65\" y=\"-74.8\" font-family=\"Times,serif\" font-size=\"14.00\">kpoints</text>\n</g>\n</g>\n</svg>\n",
      "text/plain": [
       "<graphviz.graphs.Digraph at 0x115110e50>"
      ]
     },
     "execution_count": 90,
     "metadata": {},
     "output_type": "execute_result"
    }
   ],
   "source": [
    "builder.pseudos = family.get_pseudos(structure=builder.structure)\n",
    "output = engine.run_get_node(builder)\n",
    "graph = Graph()\n",
    "graph.add_incoming(output.node, annotate_links=\"both\")\n",
    "graph.graphviz"
   ]
  },
  {
   "cell_type": "markdown",
   "metadata": {},
   "source": [
    "### Structures from the COD\n"
   ]
  },
  {
   "cell_type": "markdown",
   "metadata": {},
   "source": [
    "TODO pymatgen / ase integration"
   ]
  },
  {
   "cell_type": "code",
   "execution_count": 101,
   "metadata": {},
   "outputs": [
    {
     "data": {
      "text/plain": [
       "Structure Summary\n",
       "Lattice\n",
       "    abc : 5.381 5.381 5.381\n",
       " angles : 90.0 90.0 90.0\n",
       " volume : 155.80772134100002\n",
       "      A : 5.381 0.0 3.294912213105954e-16\n",
       "      B : -3.294912213105954e-16 5.381 3.294912213105954e-16\n",
       "      C : 0.0 0.0 5.381\n",
       "PeriodicSite: Si (0.0000, 0.0000, 0.0000) [0.0000, 0.0000, 0.0000]\n",
       "PeriodicSite: Si (1.3453, 1.3453, 1.3453) [0.2500, 0.2500, 0.2500]\n",
       "PeriodicSite: Si (-0.0000, 2.6905, 2.6905) [0.0000, 0.5000, 0.5000]\n",
       "PeriodicSite: Si (4.0358, 1.3453, 4.0357) [0.7500, 0.2500, 0.7500]\n",
       "PeriodicSite: Si (2.6905, 0.0000, 2.6905) [0.5000, 0.0000, 0.5000]\n",
       "PeriodicSite: Si (1.3452, 4.0358, 4.0357) [0.2500, 0.7500, 0.7500]\n",
       "PeriodicSite: Si (2.6905, 2.6905, 0.0000) [0.5000, 0.5000, 0.0000]\n",
       "PeriodicSite: Si (4.0358, 4.0358, 1.3453) [0.7500, 0.7500, 0.2500]"
      ]
     },
     "execution_count": 101,
     "metadata": {},
     "output_type": "execute_result"
    }
   ],
   "source": [
    "from aiida.tools.dbimporters.plugins.cod import CodEntry\n",
    "\n",
    "entry = CodEntry(\"http://www.crystallography.net/cod/1526655.cif\")\n",
    "structure = entry.get_aiida_structure()\n",
    "structure.get_pymatgen()"
   ]
  },
  {
   "cell_type": "markdown",
   "metadata": {},
   "source": [
    "## Workflows"
   ]
  },
  {
   "cell_type": "markdown",
   "metadata": {},
   "source": []
  }
 ],
 "metadata": {
  "kernelspec": {
   "display_name": "Python 3.9.13 ('aiida-qe-demo')",
   "language": "python",
   "name": "python3"
  },
  "language_info": {
   "codemirror_mode": {
    "name": "ipython",
    "version": 3
   },
   "file_extension": ".py",
   "mimetype": "text/x-python",
   "name": "python",
   "nbconvert_exporter": "python",
   "pygments_lexer": "ipython3",
   "version": "3.9.13"
  },
  "orig_nbformat": 4,
  "vscode": {
   "interpreter": {
    "hash": "20c30adb377910d9d5c8112cf74e9f7ecb37538254a701570d770f074373c53e"
   }
  }
 },
 "nbformat": 4,
 "nbformat_minor": 2
}
