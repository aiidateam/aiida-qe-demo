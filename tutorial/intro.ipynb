{
 "cells": [
  {
   "cell_type": "markdown",
   "metadata": {},
   "source": [
    "# Running `pw.x` in AiiDA\n"
   ]
  },
  {
   "cell_type": "markdown",
   "metadata": {},
   "source": [
    "## Basic Quantum Espresso Example"
   ]
  },
  {
   "cell_type": "markdown",
   "metadata": {},
   "source": [
    "As a first example, lets take a look at how to run a simple calculation using the `pw.x` code from the [Quantum ESPRESSO](https://www.quantum-espresso.org/) package.\n",
    "\n",
    "Running without AiiDA, we could use the following input file:"
   ]
  },
  {
   "cell_type": "code",
   "execution_count": 105,
   "metadata": {
    "tags": [
     "hide-output"
    ]
   },
   "outputs": [
    {
     "name": "stdout",
     "output_type": "stream",
     "text": [
      "&CONTROL\n",
      "  calculation = 'relax'\n",
      "  etot_conv_thr =   2.0000000000d-04\n",
      "  forc_conv_thr =   1.0000000000d-03\n",
      "  max_seconds =   86400\n",
      "  outdir = './out/'\n",
      "  prefix = 'aiida'\n",
      "  pseudo_dir = './pseudo/'\n",
      "  restart_mode = 'from_scratch'\n",
      "  tprnfor = .true.\n",
      "  tstress = .true.\n",
      "  verbosity = 'high'\n",
      "/\n",
      "&SYSTEM\n",
      "  degauss =   1.0000000000d-02\n",
      "  ecutrho =   2.4000000000d+02\n",
      "  ecutwfc =   3.0000000000d+01\n",
      "  ibrav = 0\n",
      "  nat = 2\n",
      "  nosym = .false.\n",
      "  ntyp = 1\n",
      "  occupations = 'smearing'\n",
      "  smearing = 'cold'\n",
      "/\n",
      "&ELECTRONS\n",
      "  conv_thr =   8.0000000000d-10\n",
      "  electron_maxstep = 80\n",
      "  mixing_beta =   4.0000000000d-01\n",
      "/\n",
      "&IONS\n",
      "/\n",
      "ATOMIC_SPECIES\n",
      "Si     28.085 Si.pbe-n-rrkjus_psl.1.0.0.UPF\n",
      "ATOMIC_POSITIONS angstrom\n",
      "Si           0.0000000000       0.0000000000       0.0000000000 \n",
      "Si           1.8940738226       1.0935440313       0.7732524001 \n",
      "K_POINTS automatic\n",
      "5 5 5 0 0 0\n",
      "CELL_PARAMETERS angstrom\n",
      "      3.7881476452       0.0000000000       0.0000000000\n",
      "      1.8940738226       3.2806320940       0.0000000000\n",
      "      1.8940738226       1.0935440313       3.0930096003\n"
     ]
    }
   ],
   "source": [
    "!cat direct_run/aiida.in"
   ]
  },
  {
   "cell_type": "markdown",
   "metadata": {},
   "source": [
    "We could then run the calculation, on the available CPU cores."
   ]
  },
  {
   "cell_type": "code",
   "execution_count": 1,
   "metadata": {},
   "outputs": [
    {
     "data": {
      "text/plain": [
       "4"
      ]
     },
     "execution_count": 1,
     "metadata": {},
     "output_type": "execute_result"
    }
   ],
   "source": [
    "import psutil\n",
    "cpu_count = psutil.cpu_count(logical=False)\n",
    "cpu_count"
   ]
  },
  {
   "cell_type": "code",
   "execution_count": 10,
   "metadata": {},
   "outputs": [
    {
     "name": "stdout",
     "output_type": "stream",
     "text": [
      "Note: The following floating-point exceptions are signalling: IEEE_DENORMAL\n",
      "Note: The following floating-point exceptions are signalling: IEEE_DENORMAL\n"
     ]
    }
   ],
   "source": [
    "!mkdir -p direct_run/out\n",
    "!rm -rf direct_run/out/*\n",
    "!cd direct_run && mpirun -np {min(cpu_count, 2)} pw.x -in aiida.in > out/aiida.out"
   ]
  },
  {
   "cell_type": "markdown",
   "metadata": {},
   "source": [
    "We now have access to the text based and XML output files, which we can parse to extract the relevant results."
   ]
  },
  {
   "cell_type": "code",
   "execution_count": 106,
   "metadata": {},
   "outputs": [
    {
     "name": "stdout",
     "output_type": "stream",
     "text": [
      "aiida.out  \u001b[34maiida.save\u001b[m\u001b[m aiida.xml\n"
     ]
    }
   ],
   "source": [
    "!ls direct_run/out"
   ]
  },
  {
   "cell_type": "code",
   "execution_count": 61,
   "metadata": {},
   "outputs": [
    {
     "name": "stdout",
     "output_type": "stream",
     "text": [
      "   This run was terminated on:  21:58:59  20Sep2022            \n",
      "\n",
      "=------------------------------------------------------------------------------=\n",
      "   JOB DONE.\n",
      "=------------------------------------------------------------------------------=\n"
     ]
    }
   ],
   "source": [
    "!tail -n 5 direct_run/out/aiida.out"
   ]
  },
  {
   "cell_type": "code",
   "execution_count": 122,
   "metadata": {},
   "outputs": [
    {
     "data": {
      "text/plain": [
       "{'scf_conv': {'convergence_achieved': 'true',\n",
       "  'n_scf_steps': '8',\n",
       "  'scf_error': '2.047382223968647e-10'},\n",
       " 'opt_conv': {'convergence_achieved': 'true',\n",
       "  'n_opt_steps': '0',\n",
       "  'grad_norm': '1.213624545212296e-6'}}"
      ]
     },
     "execution_count": 122,
     "metadata": {},
     "output_type": "execute_result"
    }
   ],
   "source": [
    "from pathlib import Path\n",
    "import xmltodict\n",
    "\n",
    "xml_output = xmltodict.parse(Path(\"direct_run/out/aiida.xml\").read_bytes())\n",
    "xml_output[\"qes:espresso\"][\"output\"][\"convergence_info\"]\n"
   ]
  },
  {
   "cell_type": "markdown",
   "metadata": {},
   "source": [
    "This is a very simple example, that one could run without any automation.\n",
    "However, as the number of calculations increases, and the complexity of the input files, it becomes increasingly difficult to keep track of the calculations, and to reproduce them:\n",
    "\n",
    ":::{admonition} What about complex computations?\n",
    "\n",
    "- What if we want to run more than one computation?\n",
    "- What if we want to chain this computation to others?\n",
    "- What if things go wrong?\n",
    "- How do we work with a HPC cluster?\n",
    "\n",
    ":::\n"
   ]
  },
  {
   "cell_type": "markdown",
   "metadata": {},
   "source": [
    "## Implementing in AiiDA\n"
   ]
  },
  {
   "cell_type": "markdown",
   "metadata": {},
   "source": [
    "With AiiDA, we want to split the input generation into separate *nodes*, handling the different aspects of the calculation and allow for component re-use.\n",
    "For a `pw.x` calculation, we would need to create the following nodes:\n",
    "\n",
    "- `Computer`, which describes how we interface with a compute resource\n",
    "- `Code`, which contains the information on how to execute a single calculation\n",
    "- `StructureData`, which contains the crystal structure\n",
    "- `UpfData`, which contains the pseudo-potentials per atomic\n",
    "- `KpointsData`, which contains the k-point mesh\n",
    "- `Dict` node, which contains the parameters for the calculation"
   ]
  },
  {
   "cell_type": "markdown",
   "metadata": {},
   "source": [
    "### The AiiDA Profile\n",
    "\n",
    "First we create a new AiiDA profile.\n",
    "This is where we store all the nodes generated for a project, and the links between them."
   ]
  },
  {
   "cell_type": "code",
   "execution_count": 1,
   "metadata": {
    "tags": [
     "hide-input"
    ]
   },
   "outputs": [],
   "source": [
    "import os\n",
    "os.environ[\"AIIDA_PATH\"] = os.path.abspath(\"_aiida_config\")\n",
    "from aiida import engine, load_profile, orm, plugins\n",
    "from aiida.storage.sqlite_temp import SqliteTempBackend\n",
    "%load_ext aiida"
   ]
  },
  {
   "cell_type": "code",
   "execution_count": 2,
   "metadata": {},
   "outputs": [
    {
     "data": {
      "text/plain": [
       "Profile<uuid='e77235f44aa34101b393d330a60e460c' name='temp_profile'>"
      ]
     },
     "execution_count": 2,
     "metadata": {},
     "output_type": "execute_result"
    }
   ],
   "source": [
    "profile = load_profile(\n",
    "    SqliteTempBackend.create_profile(\n",
    "        \"temp_profile\",\n",
    "        options={\"runner.poll.interval\": 1},\n",
    "        debug=False,\n",
    "    ),\n",
    ")\n",
    "profile"
   ]
  },
  {
   "cell_type": "markdown",
   "metadata": {},
   "source": [
    "AiiDA can be controlled in two main ways:\n",
    "\n",
    "1. Using the Python API, which is the most flexible, but requires some programming knowledge. \n",
    "2. Using the `verdi` command line interface (CLI), which is more limited, but easier to use.\n",
    "\n",
    "Below we check the status of our loaded profile in the CLI:"
   ]
  },
  {
   "cell_type": "code",
   "execution_count": 4,
   "metadata": {},
   "outputs": [
    {
     "name": "stdout",
     "output_type": "stream",
     "text": [
      "\u001b[32m\u001b[22m ✔ \u001b[0m\u001b[22mversion:     AiiDA v2.0.1\u001b[0m\n",
      "\u001b[32m\u001b[22m ✔ \u001b[0m\u001b[22mconfig:      /Users/chrisjsewell/Documents/GitHub/aiida-qe-demo/tutorial/_aiida_config/.aiida\u001b[0m\n",
      "\u001b[32m\u001b[22m ✔ \u001b[0m\u001b[22mprofile:     temp_profile\u001b[0m\n",
      "\u001b[32m\u001b[22m ✔ \u001b[0m\u001b[22mstorage:     SqliteTemp storage [open], sandbox: /Users/chrisjsewell/Documents/GitHub/aiida-qe-demo/tutorial/_aiida_config/.aiida/repository/temp_profile\u001b[0m\n",
      "\u001b[33m\u001b[22m ⏺ \u001b[0m\u001b[22mdaemon:      The daemon is not running\u001b[0m\n"
     ]
    }
   ],
   "source": [
    "%verdi status --no-rmq"
   ]
  },
  {
   "cell_type": "markdown",
   "metadata": {},
   "source": [
    ":::{note}\n",
    "\n",
    "Here we generate a temporary, in-memory profile, which will be destroyed when the kernel is restarted.\n",
    "This is useful for testing, but for a real project, you should create a persistent profile,\n",
    "using the `verdi quicksetup` command.\n",
    "\n",
    ":::"
   ]
  },
  {
   "cell_type": "markdown",
   "metadata": {},
   "source": [
    "We can also check the statistics of the profile.\n",
    "Before running any simulations, we see that only a single `User` node has been created, which is the default user for the profile."
   ]
  },
  {
   "cell_type": "code",
   "execution_count": 3,
   "metadata": {},
   "outputs": [
    {
     "name": "stdout",
     "output_type": "stream",
     "text": [
      "\u001b[22mentities:\n",
      "  Users:\n",
      "    count: 1\n",
      "  Computers:\n",
      "    count: 0\n",
      "  Nodes:\n",
      "    count: 0\n",
      "  Groups:\n",
      "    count: 0\n",
      "  Comments:\n",
      "    count: 0\n",
      "  Logs:\n",
      "    count: 0\n",
      "  Links:\n",
      "    count: 0\n",
      "\u001b[0m\n"
     ]
    }
   ],
   "source": [
    "%verdi storage info"
   ]
  },
  {
   "cell_type": "markdown",
   "metadata": {},
   "source": [
    "### Connecting to a compute resource"
   ]
  },
  {
   "cell_type": "markdown",
   "metadata": {},
   "source": [
    "An AiiDA `Computer` node represents a compute resource, such as a local or remote machine.\n",
    "It contains information on how to connect to the machine, how to **transport** data to/from the compute resource, and how to **schedule** jobs on it.\n",
    "\n",
    "In the following we will use a simple `local_direct` computer, which connects to the local machine, and runs the calculations directly, without any scheduler.\n",
    "\n",
    "AiiDA also has built-in support for a number of schedulers, including:\n",
    "\n",
    "- `pbspro`\n",
    "- `slurm`\n",
    "- `sge`\n",
    "- `torque`\n",
    "- `lsf`\n",
    "\n",
    "Connections to remote machines can be made using `SSH`, and [aiida-code-registry](https://github.com/aiidateam/aiida-code-registry) provides a collection of example configurations for Swiss based HPC clusters."
   ]
  },
  {
   "cell_type": "code",
   "execution_count": 4,
   "metadata": {},
   "outputs": [
    {
     "data": {
      "text/plain": [
       "<Computer: local_direct (localhost), pk: 1>"
      ]
     },
     "execution_count": 4,
     "metadata": {},
     "output_type": "execute_result"
    }
   ],
   "source": [
    "created, computer = orm.Computer.collection.get_or_create(\n",
    "    label=\"local_direct\",\n",
    "    description=\"local computer with direct scheduler\",\n",
    "    hostname=\"localhost\",\n",
    "    workdir=os.path.abspath(\"_aiida_workdir\"),\n",
    "    transport_type=\"core.local\",\n",
    "    scheduler_type=\"core.direct\",\n",
    ")\n",
    "if created:\n",
    "    computer.store()\n",
    "    computer.set_minimum_job_poll_interval(0.0)\n",
    "    computer.set_default_mpiprocs_per_machine(min(cpu_count, 2))\n",
    "    computer.configure()\n",
    "computer"
   ]
  },
  {
   "cell_type": "code",
   "execution_count": 5,
   "metadata": {},
   "outputs": [
    {
     "name": "stdout",
     "output_type": "stream",
     "text": [
      "\u001b[22m---------------------------  --------------------------------------------------------------------------\n",
      "Label                        local_direct\n",
      "PK                           1\n",
      "UUID                         6d393fdd-ae2f-4079-a6ca-92d02e11d49b\n",
      "Description                  local computer with direct scheduler\n",
      "Hostname                     localhost\n",
      "Transport type               core.local\n",
      "Scheduler type               core.direct\n",
      "Work directory               /Users/chrisjsewell/Documents/GitHub/aiida-qe-demo/tutorial/_aiida_workdir\n",
      "Shebang                      #!/bin/bash\n",
      "Mpirun command               mpirun -np {tot_num_mpiprocs}\n",
      "Default #procs/machine       2\n",
      "Default memory (kB)/machine\n",
      "Prepend text\n",
      "Append text\n",
      "---------------------------  --------------------------------------------------------------------------\u001b[0m\n"
     ]
    }
   ],
   "source": [
    "%verdi computer show local_direct"
   ]
  },
  {
   "cell_type": "markdown",
   "metadata": {},
   "source": [
    "### Setting up a code plugin"
   ]
  },
  {
   "cell_type": "markdown",
   "metadata": {},
   "source": [
    "AiiDA `Code` nodes represent a single executable, and contain information on how to execute it.\n",
    "The `Code` node is associated with a specific `Computer` node, contains the path to the executable, and is associated with a specific *plugin*.\n",
    "\n",
    "The plugin is a Python module that contains the instructions on how to run a calculation."
   ]
  },
  {
   "cell_type": "code",
   "execution_count": 6,
   "metadata": {},
   "outputs": [
    {
     "data": {
      "text/plain": [
       "<Code: Remote code 'pw.x' on local_direct, pk: 1, uuid: 3653ca13-50e7-4e3e-8d42-acee2d662e17>"
      ]
     },
     "execution_count": 6,
     "metadata": {},
     "output_type": "execute_result"
    }
   ],
   "source": [
    "import shutil\n",
    "try:\n",
    "    code = orm.load_code(\"pw.x@local_direct\")\n",
    "except:\n",
    "    code = orm.Code(\n",
    "        input_plugin_name=\"quantumespresso.pw\",\n",
    "        remote_computer_exec=[computer, shutil.which(\"pw.x\")],\n",
    "    )\n",
    "    code.label = \"pw.x\"\n",
    "    code.description = \"Quantum ESPRESSO pw.x code\"\n",
    "    code.set_prepend_text(\"export OMP_NUM_THREADS=1\")\n",
    "    code.store()\n",
    "code"
   ]
  },
  {
   "cell_type": "code",
   "execution_count": 10,
   "metadata": {},
   "outputs": [
    {
     "name": "stdout",
     "output_type": "stream",
     "text": [
      "\u001b[22m--------------------  --------------------------------------------------------------\n",
      "PK                    1\n",
      "UUID                  3653ca13-50e7-4e3e-8d42-acee2d662e17\n",
      "Label                 pw.x\n",
      "Description           Quantum ESPRESSO pw.x code\n",
      "Default plugin        quantumespresso.pw\n",
      "Type                  remote\n",
      "Remote machine        local_direct\n",
      "Remote absolute path  /Users/chrisjsewell/opt/miniconda3/envs/aiida-qe-demo/bin/pw.x\n",
      "Prepend text          export OMP_NUM_THREADS=1\n",
      "Append text\n",
      "--------------------  --------------------------------------------------------------\u001b[0m\n"
     ]
    }
   ],
   "source": [
    "%verdi code show pw.x"
   ]
  },
  {
   "cell_type": "markdown",
   "metadata": {},
   "source": [
    "### Generating the configuration for a computation "
   ]
  },
  {
   "cell_type": "markdown",
   "metadata": {},
   "source": [
    "Once we have a `Code` stored in our profile, we can load it to generate a *builder* of inputs for the calculation."
   ]
  },
  {
   "cell_type": "code",
   "execution_count": 11,
   "metadata": {},
   "outputs": [
    {
     "data": {
      "text/plain": [
       "Process class: PwCalculation\n",
       "Inputs:\n",
       "code: Quantum ESPRESSO pw.x code\n",
       "metadata:\n",
       "  options:\n",
       "    stash: {}\n",
       "pseudos: {}\n"
      ]
     },
     "execution_count": 11,
     "metadata": {},
     "output_type": "execute_result"
    }
   ],
   "source": [
    "code = orm.load_code(\"pw.x@local_direct\")\n",
    "builder = code.get_builder()\n",
    "builder"
   ]
  },
  {
   "cell_type": "markdown",
   "metadata": {},
   "source": [
    "The builder provides us a structured way to add (and validate) the inputs for the calculation.\n",
    "Below we convert the input for our original calculations into the nodes that we need for the AiiDA calculation."
   ]
  },
  {
   "cell_type": "code",
   "execution_count": 12,
   "metadata": {},
   "outputs": [
    {
     "data": {
      "text/plain": [
       "Process class: PwCalculation\n",
       "Inputs:\n",
       "code: Quantum ESPRESSO pw.x code\n",
       "kpoints: 'Kpoints mesh: 5x5x5 (+0.0,0.0,0.0)'\n",
       "metadata:\n",
       "  options:\n",
       "    stash: {}\n",
       "parameters:\n",
       "  CONTROL:\n",
       "    calculation: relax\n",
       "    etot_conv_thr: 0.0002\n",
       "    forc_conv_thr: 0.001\n",
       "    max_seconds: 86400\n",
       "    restart_mode: from_scratch\n",
       "    tprnfor: true\n",
       "    tstress: true\n",
       "    verbosity: high\n",
       "  ELECTRONS:\n",
       "    conv_thr: 8.0e-10\n",
       "    electron_maxstep: 80\n",
       "    mixing_beta: 0.4\n",
       "  SYSTEM:\n",
       "    degauss: 0.01\n",
       "    ecutrho: 240.0\n",
       "    ecutwfc: 30.0\n",
       "    ibrav: 0\n",
       "    nosym: false\n",
       "    occupations: smearing\n",
       "    smearing: cold\n",
       "pseudos:\n",
       "  Si: ''\n",
       "structure: Si\n"
      ]
     },
     "execution_count": 12,
     "metadata": {},
     "output_type": "execute_result"
    }
   ],
   "source": [
    "import qe_tools\n",
    "pw_input = qe_tools.parsers.PwInputFile(open(\"direct_run/aiida.in\").read())\n",
    "\n",
    "builder.structure = orm.StructureData(cell=pw_input.structure[\"cell\"])\n",
    "for p, s in zip(pw_input.structure[\"positions\"], pw_input.structure[\"atom_names\"]):\n",
    "    builder.structure.append_atom(position=p, symbols=s)\n",
    "\n",
    "parameters = pw_input.namelists\n",
    "for disallowed in [\"pseudo_dir\", \"outdir\", \"prefix\"]:\n",
    "    parameters[\"CONTROL\"].pop(disallowed, None)\n",
    "for disallowed in [\"nat\", \"ntyp\"]:\n",
    "    parameters[\"SYSTEM\"].pop(disallowed, None)\n",
    "builder.parameters = orm.Dict(dict=parameters)\n",
    "\n",
    "builder.kpoints = orm.KpointsData()\n",
    "builder.kpoints.set_cell_from_structure(builder.structure)\n",
    "builder.kpoints.set_kpoints_mesh(\n",
    "    pw_input.k_points[\"points\"],\n",
    "    offset=pw_input.k_points[\"offset\"],\n",
    ")\n",
    "\n",
    "builder.pseudos = {\n",
    "    \"Si\": orm.UpfData.get_or_create(\n",
    "        os.path.abspath(\"direct_run/pseudo/Si.pbe-n-rrkjus_psl.1.0.0.UPF\")\n",
    "    )[0]\n",
    "}\n",
    "\n",
    "builder"
   ]
  },
  {
   "cell_type": "markdown",
   "metadata": {},
   "source": [
    "### Running a calculation"
   ]
  },
  {
   "cell_type": "markdown",
   "metadata": {},
   "source": [
    "AiiDA provides two main ways to run a calculation:\n",
    "\n",
    "1. Using the `engine.run` functions, which runs the computation directly and waits for it to complete.\n",
    "2. Using the `engine.submit` function, which submits the calculation to the AiiDA daemon, which can be started in the background and manages the execution of the calculations."
   ]
  },
  {
   "cell_type": "code",
   "execution_count": 14,
   "metadata": {},
   "outputs": [
    {
     "name": "stdout",
     "output_type": "stream",
     "text": [
      "\u001b[93m\u001b[1mWarning\u001b[0m: Unrecognized job_state '?' for job id 63586\n",
      "\u001b[93m\u001b[1mWarning\u001b[0m: Unrecognized job_state '?' for job id 63707\n"
     ]
    },
    {
     "data": {
      "text/plain": [
       "<CalcJobNode: uuid: fe74be22-4dfc-4568-9548-c79e4b90be2a (pk: 13) (aiida.calculations:quantumespresso.pw)>"
      ]
     },
     "execution_count": 14,
     "metadata": {},
     "output_type": "execute_result"
    }
   ],
   "source": [
    "output = engine.run_get_node(builder)\n",
    "output.node"
   ]
  },
  {
   "cell_type": "markdown",
   "metadata": {},
   "source": [
    "### Visualising a calculation"
   ]
  },
  {
   "cell_type": "markdown",
   "metadata": {},
   "source": [
    "We can monitor the status of a computation using using the `verdi process` command."
   ]
  },
  {
   "cell_type": "code",
   "execution_count": 15,
   "metadata": {},
   "outputs": [
    {
     "name": "stdout",
     "output_type": "stream",
     "text": [
      "\u001b[22m  PK  Created    Process label    Process State    Process status\n",
      "----  ---------  ---------------  ---------------  ----------------\n",
      "   6  4m ago     PwCalculation    ⏹ Finished [0]\n",
      "  13  3m ago     PwCalculation    ⏹ Finished [0]\u001b[0m\n",
      "\u001b[22m\n",
      "Total results: 2\n",
      "\u001b[0m\n",
      "\u001b[34m\u001b[1mReport\u001b[0m: \u001b[22mlast time an entry changed state: 3m ago (at 11:41:23 on 2022-09-21)\u001b[0m\n",
      "\u001b[93m\u001b[1mWarning\u001b[0m: \u001b[1mthe daemon is not running\u001b[0m\n"
     ]
    }
   ],
   "source": [
    "%verdi process list -a"
   ]
  },
  {
   "cell_type": "markdown",
   "metadata": {},
   "source": [
    "Once the calculation has completed, the `Graph` tool can be used to visualise the provenance graph of the calculation.\n",
    "The provence graph is a directed acyclic graph (DAG) that contains the nodes and links between them."
   ]
  },
  {
   "cell_type": "code",
   "execution_count": 16,
   "metadata": {},
   "outputs": [
    {
     "data": {
      "image/svg+xml": "<?xml version=\"1.0\" encoding=\"UTF-8\" standalone=\"no\"?>\n<!DOCTYPE svg PUBLIC \"-//W3C//DTD SVG 1.1//EN\"\n \"http://www.w3.org/Graphics/SVG/1.1/DTD/svg11.dtd\">\n<!-- Generated by graphviz version 5.0.0 (0)\n -->\n<!-- Pages: 1 -->\n<svg width=\"995pt\" height=\"300pt\"\n viewBox=\"0.00 0.00 994.81 300.48\" xmlns=\"http://www.w3.org/2000/svg\" xmlns:xlink=\"http://www.w3.org/1999/xlink\">\n<g id=\"graph0\" class=\"graph\" transform=\"scale(1 1) rotate(0) translate(4 296.48)\">\n<polygon fill=\"white\" stroke=\"transparent\" points=\"-4,4 -4,-296.48 990.81,-296.48 990.81,4 -4,4\"/>\n<!-- N1 -->\n<g id=\"node1\" class=\"node\">\n<title>N1</title>\n<ellipse fill=\"#4ca4b9\" fill-opacity=\"0.666667\" stroke=\"black\" stroke-width=\"0\" cx=\"176.49\" cy=\"-265.61\" rx=\"84.29\" ry=\"26.74\"/>\n<text text-anchor=\"middle\" x=\"176.49\" y=\"-269.41\" font-family=\"Times,serif\" font-size=\"14.00\">Code (1)</text>\n<text text-anchor=\"middle\" x=\"176.49\" y=\"-254.41\" font-family=\"Times,serif\" font-size=\"14.00\">pw.x@local_direct</text>\n</g>\n<!-- N13 -->\n<g id=\"node6\" class=\"node\">\n<title>N13</title>\n<polygon fill=\"#de707f\" stroke=\"black\" stroke-width=\"0\" points=\"553.49,-172.74 431.49,-172.74 431.49,-119.74 553.49,-119.74 553.49,-172.74\"/>\n<text text-anchor=\"middle\" x=\"492.49\" y=\"-157.54\" font-family=\"Times,serif\" font-size=\"14.00\">PwCalculation (13)</text>\n<text text-anchor=\"middle\" x=\"492.49\" y=\"-142.54\" font-family=\"Times,serif\" font-size=\"14.00\">State: finished</text>\n<text text-anchor=\"middle\" x=\"492.49\" y=\"-127.54\" font-family=\"Times,serif\" font-size=\"14.00\">Exit Code: 0</text>\n</g>\n<!-- N1&#45;&gt;N13 -->\n<g id=\"edge5\" class=\"edge\">\n<title>N1&#45;&gt;N13</title>\n<path fill=\"none\" stroke=\"#000000\" d=\"M205.96,-240.22C227.14,-223.89 257.03,-203.18 286.49,-190.74 329.32,-172.64 380.46,-161.79 421.07,-155.45\"/>\n<polygon fill=\"#000000\" stroke=\"#000000\" points=\"421.78,-158.88 431.15,-153.93 420.74,-151.96 421.78,-158.88\"/>\n<text text-anchor=\"middle\" x=\"327.99\" y=\"-209.54\" font-family=\"Times,serif\" font-size=\"14.00\">INPUT_CALC</text>\n<text text-anchor=\"middle\" x=\"327.99\" y=\"-194.54\" font-family=\"Times,serif\" font-size=\"14.00\">code</text>\n</g>\n<!-- N2 -->\n<g id=\"node2\" class=\"node\">\n<title>N2</title>\n<ellipse fill=\"#8cd499\" stroke=\"black\" stroke-width=\"0\" cx=\"337.49\" cy=\"-265.61\" rx=\"58.88\" ry=\"26.74\"/>\n<text text-anchor=\"middle\" x=\"337.49\" y=\"-269.41\" font-family=\"Times,serif\" font-size=\"14.00\">UpfData (2)</text>\n<text text-anchor=\"middle\" x=\"337.49\" y=\"-254.41\" font-family=\"Times,serif\" font-size=\"14.00\">Si</text>\n</g>\n<!-- N2&#45;&gt;N13 -->\n<g id=\"edge1\" class=\"edge\">\n<title>N2&#45;&gt;N13</title>\n<path fill=\"none\" stroke=\"#000000\" d=\"M356.38,-239.84C369.07,-224.37 386.83,-204.79 405.49,-190.74 411.43,-186.27 417.89,-182.05 424.53,-178.13\"/>\n<polygon fill=\"#000000\" stroke=\"#000000\" points=\"426.67,-180.94 433.65,-172.98 423.23,-174.85 426.67,-180.94\"/>\n<text text-anchor=\"middle\" x=\"446.99\" y=\"-209.54\" font-family=\"Times,serif\" font-size=\"14.00\">INPUT_CALC</text>\n<text text-anchor=\"middle\" x=\"446.99\" y=\"-194.54\" font-family=\"Times,serif\" font-size=\"14.00\">pseudos__Si</text>\n</g>\n<!-- N3 -->\n<g id=\"node3\" class=\"node\">\n<title>N3</title>\n<ellipse fill=\"#8cd499\" stroke=\"black\" stroke-width=\"0\" cx=\"492.49\" cy=\"-265.61\" rx=\"78.48\" ry=\"26.74\"/>\n<text text-anchor=\"middle\" x=\"492.49\" y=\"-269.41\" font-family=\"Times,serif\" font-size=\"14.00\">StructureData (3)</text>\n<text text-anchor=\"middle\" x=\"492.49\" y=\"-254.41\" font-family=\"Times,serif\" font-size=\"14.00\">Si2</text>\n</g>\n<!-- N3&#45;&gt;N13 -->\n<g id=\"edge2\" class=\"edge\">\n<title>N3&#45;&gt;N13</title>\n<path fill=\"none\" stroke=\"#000000\" d=\"M492.49,-238.56C492.49,-222.19 492.49,-200.85 492.49,-182.91\"/>\n<polygon fill=\"#000000\" stroke=\"#000000\" points=\"495.99,-182.81 492.49,-172.81 488.99,-182.81 495.99,-182.81\"/>\n<text text-anchor=\"middle\" x=\"533.99\" y=\"-209.54\" font-family=\"Times,serif\" font-size=\"14.00\">INPUT_CALC</text>\n<text text-anchor=\"middle\" x=\"533.99\" y=\"-194.54\" font-family=\"Times,serif\" font-size=\"14.00\">structure</text>\n</g>\n<!-- N4 -->\n<g id=\"node4\" class=\"node\">\n<title>N4</title>\n<ellipse fill=\"#8cd499\" stroke=\"black\" stroke-width=\"0\" cx=\"627.49\" cy=\"-265.61\" rx=\"38.19\" ry=\"18\"/>\n<text text-anchor=\"middle\" x=\"627.49\" y=\"-261.91\" font-family=\"Times,serif\" font-size=\"14.00\">Dict (4)</text>\n</g>\n<!-- N4&#45;&gt;N13 -->\n<g id=\"edge4\" class=\"edge\">\n<title>N4&#45;&gt;N13</title>\n<path fill=\"none\" stroke=\"#000000\" d=\"M619.85,-247.81C611.75,-231.51 597.62,-206.94 579.49,-190.74 574.33,-186.13 568.59,-181.88 562.59,-177.99\"/>\n<polygon fill=\"#000000\" stroke=\"#000000\" points=\"564.02,-174.76 553.65,-172.56 560.38,-180.75 564.02,-174.76\"/>\n<text text-anchor=\"middle\" x=\"644.99\" y=\"-209.54\" font-family=\"Times,serif\" font-size=\"14.00\">INPUT_CALC</text>\n<text text-anchor=\"middle\" x=\"644.99\" y=\"-194.54\" font-family=\"Times,serif\" font-size=\"14.00\">parameters</text>\n</g>\n<!-- N5 -->\n<g id=\"node5\" class=\"node\">\n<title>N5</title>\n<ellipse fill=\"#8cd499\" stroke=\"black\" stroke-width=\"0\" cx=\"835.49\" cy=\"-265.61\" rx=\"151.14\" ry=\"26.74\"/>\n<text text-anchor=\"middle\" x=\"835.49\" y=\"-269.41\" font-family=\"Times,serif\" font-size=\"14.00\">KpointsData (5)</text>\n<text text-anchor=\"middle\" x=\"835.49\" y=\"-254.41\" font-family=\"Times,serif\" font-size=\"14.00\">Kpoints mesh: 5x5x5 (+0.0,0.0,0.0)</text>\n</g>\n<!-- N5&#45;&gt;N13 -->\n<g id=\"edge3\" class=\"edge\">\n<title>N5&#45;&gt;N13</title>\n<path fill=\"none\" stroke=\"#000000\" d=\"M793.62,-239.67C765.33,-223.73 726.66,-203.69 690.49,-190.74 649.58,-176.1 602.07,-165.46 563.85,-158.37\"/>\n<polygon fill=\"#000000\" stroke=\"#000000\" points=\"564.3,-154.9 553.84,-156.55 563.05,-161.78 564.3,-154.9\"/>\n<text text-anchor=\"middle\" x=\"796.99\" y=\"-209.54\" font-family=\"Times,serif\" font-size=\"14.00\">INPUT_CALC</text>\n<text text-anchor=\"middle\" x=\"796.99\" y=\"-194.54\" font-family=\"Times,serif\" font-size=\"14.00\">kpoints</text>\n</g>\n<!-- N14 -->\n<g id=\"node7\" class=\"node\">\n<title>N14</title>\n<ellipse fill=\"#8cd499\" stroke=\"black\" stroke-width=\"0\" cx=\"78.49\" cy=\"-26.87\" rx=\"78.48\" ry=\"26.74\"/>\n<text text-anchor=\"middle\" x=\"78.49\" y=\"-30.67\" font-family=\"Times,serif\" font-size=\"14.00\">RemoteData (14)</text>\n<text text-anchor=\"middle\" x=\"78.49\" y=\"-15.67\" font-family=\"Times,serif\" font-size=\"14.00\">@local_direct</text>\n</g>\n<!-- N13&#45;&gt;N14 -->\n<g id=\"edge10\" class=\"edge\">\n<title>N13&#45;&gt;N14</title>\n<path fill=\"none\" stroke=\"#000000\" d=\"M431.39,-139.34C379.28,-133.23 302.79,-121.71 238.49,-101.74 200.09,-89.82 158.96,-70.67 128.01,-54.86\"/>\n<polygon fill=\"#000000\" stroke=\"#000000\" points=\"129.24,-51.55 118.75,-50.07 126.02,-57.77 129.24,-51.55\"/>\n<text text-anchor=\"middle\" x=\"277.49\" y=\"-90.54\" font-family=\"Times,serif\" font-size=\"14.00\">CREATE</text>\n<text text-anchor=\"middle\" x=\"277.49\" y=\"-75.54\" font-family=\"Times,serif\" font-size=\"14.00\">remote_folder</text>\n</g>\n<!-- N15 -->\n<g id=\"node8\" class=\"node\">\n<title>N15</title>\n<ellipse fill=\"#8cd499\" stroke=\"black\" stroke-width=\"0\" cx=\"242.49\" cy=\"-26.87\" rx=\"67.69\" ry=\"18\"/>\n<text text-anchor=\"middle\" x=\"242.49\" y=\"-23.17\" font-family=\"Times,serif\" font-size=\"14.00\">FolderData (15)</text>\n</g>\n<!-- N13&#45;&gt;N15 -->\n<g id=\"edge6\" class=\"edge\">\n<title>N13&#45;&gt;N15</title>\n<path fill=\"none\" stroke=\"#000000\" d=\"M431.35,-124.49C413.14,-117.78 393.3,-109.94 375.49,-101.74 341.15,-85.93 303.64,-64.71 277.23,-49.07\"/>\n<polygon fill=\"#000000\" stroke=\"#000000\" points=\"278.76,-45.9 268.38,-43.79 275.17,-51.92 278.76,-45.9\"/>\n<text text-anchor=\"middle\" x=\"401.49\" y=\"-90.54\" font-family=\"Times,serif\" font-size=\"14.00\">CREATE</text>\n<text text-anchor=\"middle\" x=\"401.49\" y=\"-75.54\" font-family=\"Times,serif\" font-size=\"14.00\">retrieved</text>\n</g>\n<!-- N16 -->\n<g id=\"node9\" class=\"node\">\n<title>N16</title>\n<ellipse fill=\"#8cd499\" stroke=\"black\" stroke-width=\"0\" cx=\"404.49\" cy=\"-26.87\" rx=\"76.24\" ry=\"26.74\"/>\n<text text-anchor=\"middle\" x=\"404.49\" y=\"-30.67\" font-family=\"Times,serif\" font-size=\"14.00\">BandsData (16)</text>\n<text text-anchor=\"middle\" x=\"404.49\" y=\"-15.67\" font-family=\"Times,serif\" font-size=\"14.00\">(Path of 19 kpts)</text>\n</g>\n<!-- N13&#45;&gt;N16 -->\n<g id=\"edge8\" class=\"edge\">\n<title>N13&#45;&gt;N16</title>\n<path fill=\"none\" stroke=\"#000000\" d=\"M468.34,-119.55C463.28,-113.82 458.08,-107.68 453.49,-101.74 443.77,-89.18 433.93,-74.74 425.64,-61.98\"/>\n<polygon fill=\"#000000\" stroke=\"#000000\" points=\"428.52,-59.98 420.17,-53.46 422.62,-63.77 428.52,-59.98\"/>\n<text text-anchor=\"middle\" x=\"487.49\" y=\"-90.54\" font-family=\"Times,serif\" font-size=\"14.00\">CREATE</text>\n<text text-anchor=\"middle\" x=\"487.49\" y=\"-75.54\" font-family=\"Times,serif\" font-size=\"14.00\">output_band</text>\n</g>\n<!-- N17 -->\n<g id=\"node10\" class=\"node\">\n<title>N17</title>\n<ellipse fill=\"#8cd499\" stroke=\"black\" stroke-width=\"0\" cx=\"580.49\" cy=\"-26.87\" rx=\"81.49\" ry=\"18\"/>\n<text text-anchor=\"middle\" x=\"580.49\" y=\"-23.17\" font-family=\"Times,serif\" font-size=\"14.00\">TrajectoryData (17)</text>\n</g>\n<!-- N13&#45;&gt;N17 -->\n<g id=\"edge7\" class=\"edge\">\n<title>N13&#45;&gt;N17</title>\n<path fill=\"none\" stroke=\"#000000\" d=\"M511.8,-119.48C526.61,-99.73 546.93,-72.62 561.63,-53.03\"/>\n<polygon fill=\"#000000\" stroke=\"#000000\" points=\"564.55,-54.97 567.75,-44.87 558.95,-50.77 564.55,-54.97\"/>\n<text text-anchor=\"middle\" x=\"593.49\" y=\"-90.54\" font-family=\"Times,serif\" font-size=\"14.00\">CREATE</text>\n<text text-anchor=\"middle\" x=\"593.49\" y=\"-75.54\" font-family=\"Times,serif\" font-size=\"14.00\">output_trajectory</text>\n</g>\n<!-- N18 -->\n<g id=\"node11\" class=\"node\">\n<title>N18</title>\n<ellipse fill=\"#8cd499\" stroke=\"black\" stroke-width=\"0\" cx=\"763.49\" cy=\"-26.87\" rx=\"83.38\" ry=\"26.74\"/>\n<text text-anchor=\"middle\" x=\"763.49\" y=\"-30.67\" font-family=\"Times,serif\" font-size=\"14.00\">StructureData (18)</text>\n<text text-anchor=\"middle\" x=\"763.49\" y=\"-15.67\" font-family=\"Times,serif\" font-size=\"14.00\">Si2</text>\n</g>\n<!-- N13&#45;&gt;N18 -->\n<g id=\"edge9\" class=\"edge\">\n<title>N13&#45;&gt;N18</title>\n<path fill=\"none\" stroke=\"#000000\" d=\"M553.76,-131.83C582.03,-124.61 615.63,-114.53 644.49,-101.74 671.67,-89.69 700.03,-72.3 722.25,-57.42\"/>\n<polygon fill=\"#000000\" stroke=\"#000000\" points=\"724.45,-60.16 730.75,-51.65 720.51,-54.37 724.45,-60.16\"/>\n<text text-anchor=\"middle\" x=\"742.99\" y=\"-90.54\" font-family=\"Times,serif\" font-size=\"14.00\">CREATE</text>\n<text text-anchor=\"middle\" x=\"742.99\" y=\"-75.54\" font-family=\"Times,serif\" font-size=\"14.00\">output_structure</text>\n</g>\n<!-- N19 -->\n<g id=\"node12\" class=\"node\">\n<title>N19</title>\n<ellipse fill=\"#8cd499\" stroke=\"black\" stroke-width=\"0\" cx=\"907.49\" cy=\"-26.87\" rx=\"42.79\" ry=\"18\"/>\n<text text-anchor=\"middle\" x=\"907.49\" y=\"-23.17\" font-family=\"Times,serif\" font-size=\"14.00\">Dict (19)</text>\n</g>\n<!-- N13&#45;&gt;N19 -->\n<g id=\"edge11\" class=\"edge\">\n<title>N13&#45;&gt;N19</title>\n<path fill=\"none\" stroke=\"#000000\" d=\"M553.61,-143.82C615.38,-140.69 712.69,-131.02 791.49,-101.74 824.63,-89.43 858.24,-66.64 880.7,-49.62\"/>\n<polygon fill=\"#000000\" stroke=\"#000000\" points=\"882.96,-52.3 888.73,-43.41 878.68,-46.76 882.96,-52.3\"/>\n<text text-anchor=\"middle\" x=\"898.49\" y=\"-90.54\" font-family=\"Times,serif\" font-size=\"14.00\">CREATE</text>\n<text text-anchor=\"middle\" x=\"898.49\" y=\"-75.54\" font-family=\"Times,serif\" font-size=\"14.00\">output_parameters</text>\n</g>\n</g>\n</svg>\n",
      "text/plain": [
       "<graphviz.graphs.Digraph at 0x16656dee0>"
      ]
     },
     "execution_count": 16,
     "metadata": {},
     "output_type": "execute_result"
    }
   ],
   "source": [
    "from aiida.tools.visualization import Graph\n",
    "graph = Graph()\n",
    "graph.add_incoming(output.node, annotate_links=\"both\")\n",
    "graph.add_outgoing(output.node, annotate_links=\"both\")\n",
    "graph.graphviz"
   ]
  },
  {
   "cell_type": "markdown",
   "metadata": {},
   "source": [
    "### Exporting the results"
   ]
  },
  {
   "cell_type": "markdown",
   "metadata": {},
   "source": [
    "We can now see that these nodes have all been stored in the AiiDA profile's storage."
   ]
  },
  {
   "cell_type": "code",
   "execution_count": 17,
   "metadata": {},
   "outputs": [
    {
     "name": "stdout",
     "output_type": "stream",
     "text": [
      "\u001b[22mentities:\n",
      "  Users:\n",
      "    count: 1\n",
      "  Computers:\n",
      "    count: 1\n",
      "  Nodes:\n",
      "    count: 19\n",
      "  Groups:\n",
      "    count: 0\n",
      "  Comments:\n",
      "    count: 0\n",
      "  Logs:\n",
      "    count: 0\n",
      "  Links:\n",
      "    count: 22\n",
      "\u001b[0m\n"
     ]
    }
   ],
   "source": [
    "%verdi storage info"
   ]
  },
  {
   "cell_type": "markdown",
   "metadata": {},
   "source": [
    "TODO archiving is not working with the temporary profile 😢"
   ]
  },
  {
   "cell_type": "markdown",
   "metadata": {},
   "source": [
    "%verdi archive create --all archive.aiida"
   ]
  }
 ],
 "metadata": {
  "kernelspec": {
   "display_name": "Python 3.9.13 ('aiida-qe-demo')",
   "language": "python",
   "name": "python3"
  },
  "language_info": {
   "codemirror_mode": {
    "name": "ipython",
    "version": 3
   },
   "file_extension": ".py",
   "mimetype": "text/x-python",
   "name": "python",
   "nbconvert_exporter": "python",
   "pygments_lexer": "ipython3",
   "version": "3.9.13"
  },
  "orig_nbformat": 4,
  "vscode": {
   "interpreter": {
    "hash": "20c30adb377910d9d5c8112cf74e9f7ecb37538254a701570d770f074373c53e"
   }
  }
 },
 "nbformat": 4,
 "nbformat_minor": 2
}
