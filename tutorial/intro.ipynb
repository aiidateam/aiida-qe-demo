{
 "cells": [
  {
   "cell_type": "markdown",
   "metadata": {},
   "source": [
    "# Running pw.x in AiiDA\n"
   ]
  },
  {
   "cell_type": "markdown",
   "metadata": {},
   "source": [
    "## Basic Quantum Espresso Example"
   ]
  },
  {
   "cell_type": "markdown",
   "metadata": {},
   "source": [
    "As a first example, lets take a look at how to run a simple calculation using the `pw.x` code from the [Quantum ESPRESSO](https://www.quantum-espresso.org/) package.\n",
    "\n",
    "Running without AiiDA, we could use the following input file:"
   ]
  },
  {
   "cell_type": "code",
   "execution_count": 105,
   "metadata": {
    "tags": [
     "hide-output"
    ]
   },
   "outputs": [
    {
     "name": "stdout",
     "output_type": "stream",
     "text": [
      "&CONTROL\n",
      "  calculation = 'relax'\n",
      "  etot_conv_thr =   2.0000000000d-04\n",
      "  forc_conv_thr =   1.0000000000d-03\n",
      "  max_seconds =   86400\n",
      "  outdir = './out/'\n",
      "  prefix = 'aiida'\n",
      "  pseudo_dir = './pseudo/'\n",
      "  restart_mode = 'from_scratch'\n",
      "  tprnfor = .true.\n",
      "  tstress = .true.\n",
      "  verbosity = 'high'\n",
      "/\n",
      "&SYSTEM\n",
      "  degauss =   1.0000000000d-02\n",
      "  ecutrho =   2.4000000000d+02\n",
      "  ecutwfc =   3.0000000000d+01\n",
      "  ibrav = 0\n",
      "  nat = 2\n",
      "  nosym = .false.\n",
      "  ntyp = 1\n",
      "  occupations = 'smearing'\n",
      "  smearing = 'cold'\n",
      "/\n",
      "&ELECTRONS\n",
      "  conv_thr =   8.0000000000d-10\n",
      "  electron_maxstep = 80\n",
      "  mixing_beta =   4.0000000000d-01\n",
      "/\n",
      "&IONS\n",
      "/\n",
      "ATOMIC_SPECIES\n",
      "Si     28.085 Si.pbe-n-rrkjus_psl.1.0.0.UPF\n",
      "ATOMIC_POSITIONS angstrom\n",
      "Si           0.0000000000       0.0000000000       0.0000000000 \n",
      "Si           1.8940738226       1.0935440313       0.7732524001 \n",
      "K_POINTS automatic\n",
      "5 5 5 0 0 0\n",
      "CELL_PARAMETERS angstrom\n",
      "      3.7881476452       0.0000000000       0.0000000000\n",
      "      1.8940738226       3.2806320940       0.0000000000\n",
      "      1.8940738226       1.0935440313       3.0930096003\n"
     ]
    }
   ],
   "source": [
    "!cat direct_run/aiida.in"
   ]
  },
  {
   "cell_type": "markdown",
   "metadata": {},
   "source": [
    "We could then run the calculation, on the available CPU cores."
   ]
  },
  {
   "cell_type": "code",
   "execution_count": 1,
   "metadata": {},
   "outputs": [
    {
     "data": {
      "text/plain": [
       "4"
      ]
     },
     "execution_count": 1,
     "metadata": {},
     "output_type": "execute_result"
    }
   ],
   "source": [
    "import psutil\n",
    "cpu_count = psutil.cpu_count(logical=False)\n",
    "cpu_count"
   ]
  },
  {
   "cell_type": "code",
   "execution_count": 10,
   "metadata": {},
   "outputs": [
    {
     "name": "stdout",
     "output_type": "stream",
     "text": [
      "Note: The following floating-point exceptions are signalling: IEEE_DENORMAL\n",
      "Note: The following floating-point exceptions are signalling: IEEE_DENORMAL\n"
     ]
    }
   ],
   "source": [
    "!mkdir -p direct_run/out\n",
    "!rm -rf direct_run/out/*\n",
    "!cd direct_run && mpirun -np {min(cpu_count, 2)} pw.x -in aiida.in > out/aiida.out"
   ]
  },
  {
   "cell_type": "markdown",
   "metadata": {},
   "source": [
    "We now have access to the text based and XML output files, which we can parse to extract the relevant results."
   ]
  },
  {
   "cell_type": "code",
   "execution_count": 106,
   "metadata": {},
   "outputs": [
    {
     "name": "stdout",
     "output_type": "stream",
     "text": [
      "aiida.out  \u001b[34maiida.save\u001b[m\u001b[m aiida.xml\n"
     ]
    }
   ],
   "source": [
    "!ls direct_run/out"
   ]
  },
  {
   "cell_type": "code",
   "execution_count": 61,
   "metadata": {},
   "outputs": [
    {
     "name": "stdout",
     "output_type": "stream",
     "text": [
      "   This run was terminated on:  21:58:59  20Sep2022            \n",
      "\n",
      "=------------------------------------------------------------------------------=\n",
      "   JOB DONE.\n",
      "=------------------------------------------------------------------------------=\n"
     ]
    }
   ],
   "source": [
    "!tail -n 5 direct_run/out/aiida.out"
   ]
  },
  {
   "cell_type": "code",
   "execution_count": 122,
   "metadata": {},
   "outputs": [
    {
     "data": {
      "text/plain": [
       "{'scf_conv': {'convergence_achieved': 'true',\n",
       "  'n_scf_steps': '8',\n",
       "  'scf_error': '2.047382223968647e-10'},\n",
       " 'opt_conv': {'convergence_achieved': 'true',\n",
       "  'n_opt_steps': '0',\n",
       "  'grad_norm': '1.213624545212296e-6'}}"
      ]
     },
     "execution_count": 122,
     "metadata": {},
     "output_type": "execute_result"
    }
   ],
   "source": [
    "from pathlib import Path\n",
    "import xmltodict\n",
    "\n",
    "xml_output = xmltodict.parse(Path(\"direct_run/out/aiida.xml\").read_bytes())\n",
    "xml_output[\"qes:espresso\"][\"output\"][\"convergence_info\"]\n"
   ]
  },
  {
   "cell_type": "markdown",
   "metadata": {},
   "source": [
    "This is a very simple example, that one could run without any automation.\n",
    "However, as the number of calculations increases, and the complexity of the input files, it becomes increasingly difficult to keep track of the calculations, and to reproduce them:\n",
    "\n",
    ":::{admonition} Complex Computations\n",
    "\n",
    "- What if we want to run more than one computation?\n",
    "- What if we want to chain this computation to others?\n",
    "- What if things go wrong?\n",
    "- How do we work with a HPC cluster?\n",
    "\n",
    ":::\n"
   ]
  },
  {
   "cell_type": "markdown",
   "metadata": {},
   "source": [
    "## Implementing in AiiDA\n"
   ]
  },
  {
   "cell_type": "markdown",
   "metadata": {},
   "source": [
    "With AiiDA we want to split the input generation into separate *Nodes*, handling the different aspects of the calculation and allow for component re-use:\n",
    "\n",
    "- `Computer`, which describes how we interface with a compute resource\n",
    "- `Code`, which contains the information on how to execute the calculation\n",
    "- `StructureData`, which contains the crystal structure\n",
    "- `UpfData`, which contains the pseudo-potentials per atomic\n",
    "- `KpointsData`, which contains the k-point mesh\n",
    "- `Dict` node, which contains the parameters for the calculation"
   ]
  },
  {
   "cell_type": "markdown",
   "metadata": {},
   "source": [
    "### The AiiDA Profile\n",
    "\n",
    "First we create a new AiiDA profile.\n",
    "This is where we store all these nodes for a project, and the links between them."
   ]
  },
  {
   "cell_type": "code",
   "execution_count": 125,
   "metadata": {
    "tags": [
     "hide-input"
    ]
   },
   "outputs": [
    {
     "name": "stdout",
     "output_type": "stream",
     "text": [
      "The aiida extension is already loaded. To reload it, use:\n",
      "  %reload_ext aiida\n"
     ]
    }
   ],
   "source": [
    "import os\n",
    "os.environ[\"AIIDA_PATH\"] = os.path.abspath(\"_aiida_config\")\n",
    "from aiida import engine, load_profile, orm, plugins\n",
    "from aiida.storage.sqlite_temp import SqliteTempBackend\n",
    "from aiida.tools.visualization import Graph\n",
    "%load_ext aiida"
   ]
  },
  {
   "cell_type": "code",
   "execution_count": 126,
   "metadata": {},
   "outputs": [
    {
     "data": {
      "text/plain": [
       "Profile<uuid='4f1051f9b05b4a5c9210cec868c76d8e' name='temp_profile'>"
      ]
     },
     "execution_count": 126,
     "metadata": {},
     "output_type": "execute_result"
    }
   ],
   "source": [
    "profile = load_profile(\n",
    "    SqliteTempBackend.create_profile(\n",
    "        \"temp_profile\",\n",
    "        options={\"runner.poll.interval\": 1},\n",
    "        debug=False,\n",
    "    ),\n",
    ")\n",
    "profile"
   ]
  },
  {
   "cell_type": "markdown",
   "metadata": {},
   "source": [
    "AiiDA can be controlled in two main ways:\n",
    "\n",
    "1. Using the Python API, which is the most flexible, but requires some programming knowledge. \n",
    "2. Using the `verdi` command line interface (CLI), which is more limited, but easier to use.\n",
    "\n",
    "Below we check the status of our loaded profile in the CLI:"
   ]
  },
  {
   "cell_type": "code",
   "execution_count": 4,
   "metadata": {},
   "outputs": [
    {
     "name": "stdout",
     "output_type": "stream",
     "text": [
      "\u001b[32m\u001b[22m ✔ \u001b[0m\u001b[22mversion:     AiiDA v2.0.1\u001b[0m\n",
      "\u001b[32m\u001b[22m ✔ \u001b[0m\u001b[22mconfig:      /Users/chrisjsewell/Documents/GitHub/aiida-qe-demo/tutorial/_aiida_config/.aiida\u001b[0m\n",
      "\u001b[32m\u001b[22m ✔ \u001b[0m\u001b[22mprofile:     temp_profile\u001b[0m\n",
      "\u001b[32m\u001b[22m ✔ \u001b[0m\u001b[22mstorage:     SqliteTemp storage [open], sandbox: /Users/chrisjsewell/Documents/GitHub/aiida-qe-demo/tutorial/_aiida_config/.aiida/repository/temp_profile\u001b[0m\n",
      "\u001b[33m\u001b[22m ⏺ \u001b[0m\u001b[22mdaemon:      The daemon is not running\u001b[0m\n"
     ]
    }
   ],
   "source": [
    "%verdi status --no-rmq"
   ]
  },
  {
   "cell_type": "markdown",
   "metadata": {},
   "source": [
    "### Setting up a compute resource"
   ]
  },
  {
   "cell_type": "markdown",
   "metadata": {},
   "source": []
  },
  {
   "cell_type": "code",
   "execution_count": 127,
   "metadata": {},
   "outputs": [
    {
     "data": {
      "text/plain": [
       "<Computer: local_direct (localhost), pk: 1>"
      ]
     },
     "execution_count": 127,
     "metadata": {},
     "output_type": "execute_result"
    }
   ],
   "source": [
    "created, computer = orm.Computer.collection.get_or_create(\n",
    "    label=\"local_direct\",\n",
    "    description=\"local computer with direct scheduler\",\n",
    "    hostname=\"localhost\",\n",
    "    workdir=os.path.abspath(\"_aiida_workdir\"),\n",
    "    transport_type=\"core.local\",\n",
    "    scheduler_type=\"core.direct\",\n",
    ")\n",
    "if created:\n",
    "    computer.store()\n",
    "    computer.set_minimum_job_poll_interval(0.0)\n",
    "    computer.set_default_mpiprocs_per_machine(2)\n",
    "    computer.configure()\n",
    "computer"
   ]
  },
  {
   "cell_type": "code",
   "execution_count": 25,
   "metadata": {},
   "outputs": [
    {
     "data": {
      "text/plain": [
       "<Code: Remote code 'pw.x' on local_direct, pk: 114, uuid: 39b7288d-0967-4892-b0f5-1e525c510688>"
      ]
     },
     "execution_count": 25,
     "metadata": {},
     "output_type": "execute_result"
    }
   ],
   "source": [
    "import shutil\n",
    "try:\n",
    "    code = orm.load_code(\"pw.x@local_direct\")\n",
    "except:\n",
    "    code = orm.Code(\n",
    "        input_plugin_name=\"quantumespresso.pw\",\n",
    "        remote_computer_exec=[computer, shutil.which(\"pw.x\")],\n",
    "    )\n",
    "    code.label = \"pw.x\"\n",
    "    code.store()\n",
    "code"
   ]
  },
  {
   "cell_type": "code",
   "execution_count": 42,
   "metadata": {},
   "outputs": [
    {
     "data": {
      "text/plain": [
       "Process class: PwCalculation\n",
       "Inputs:\n",
       "code: ''\n",
       "kpoints: 'Kpoints mesh: 5x5x5 (+0.0,0.0,0.0)'\n",
       "metadata:\n",
       "  options:\n",
       "    stash: {}\n",
       "parameters:\n",
       "  CONTROL:\n",
       "    calculation: relax\n",
       "    etot_conv_thr: 0.0002\n",
       "    forc_conv_thr: 0.001\n",
       "    max_seconds: 41040.0\n",
       "    restart_mode: from_scratch\n",
       "    tprnfor: true\n",
       "    tstress: true\n",
       "    verbosity: high\n",
       "  ELECTRONS:\n",
       "    conv_thr: 8.0e-10\n",
       "    electron_maxstep: 80\n",
       "    mixing_beta: 0.4\n",
       "  SYSTEM:\n",
       "    degauss: 0.01\n",
       "    ecutrho: 240.0\n",
       "    ecutwfc: 30.0\n",
       "    ibrav: 0\n",
       "    nosym: false\n",
       "    occupations: smearing\n",
       "    smearing: cold\n",
       "pseudos:\n",
       "  Si: ''\n",
       "structure: Si\n"
      ]
     },
     "execution_count": 42,
     "metadata": {},
     "output_type": "execute_result"
    }
   ],
   "source": [
    "builder = code.get_builder()\n",
    "\n",
    "import qe_tools\n",
    "\n",
    "pw_input = qe_tools.parsers.PwInputFile(open(\"direct_run/aiida.in\").read())\n",
    "\n",
    "builder.structure = orm.StructureData(cell=pw_input.structure[\"cell\"])\n",
    "for p, s in zip(pw_input.structure[\"positions\"], pw_input.structure[\"atom_names\"]):\n",
    "    builder.structure.append_atom(position=p, symbols=s)\n",
    "\n",
    "parameters = pw_input.namelists\n",
    "for disallowed in [\"pseudo_dir\", \"outdir\", \"prefix\"]:\n",
    "    parameters[\"CONTROL\"].pop(disallowed, None)\n",
    "for disallowed in [\"nat\", \"ntyp\"]:\n",
    "    parameters[\"SYSTEM\"].pop(disallowed, None)\n",
    "builder.parameters = orm.Dict(dict=parameters)\n",
    "\n",
    "builder.kpoints = orm.KpointsData()\n",
    "builder.kpoints.set_cell_from_structure(builder.structure)\n",
    "builder.kpoints.set_kpoints_mesh(\n",
    "    pw_input.k_points[\"points\"],\n",
    "    offset=pw_input.k_points[\"offset\"],\n",
    ")\n",
    "\n",
    "builder.pseudos = {\n",
    "    \"Si\": orm.UpfData.get_or_create(\n",
    "        os.path.abspath(\"direct_run/pseudo/Si.pbe-n-rrkjus_psl.1.0.0.UPF\")\n",
    "    )[0]\n",
    "}\n",
    "\n",
    "builder"
   ]
  },
  {
   "cell_type": "code",
   "execution_count": null,
   "metadata": {},
   "outputs": [],
   "source": [
    "output = engine.run_get_node(builder)\n",
    "output"
   ]
  },
  {
   "cell_type": "code",
   "execution_count": 43,
   "metadata": {},
   "outputs": [
    {
     "data": {
      "image/svg+xml": "<?xml version=\"1.0\" encoding=\"UTF-8\" standalone=\"no\"?>\n<!DOCTYPE svg PUBLIC \"-//W3C//DTD SVG 1.1//EN\"\n \"http://www.w3.org/Graphics/SVG/1.1/DTD/svg11.dtd\">\n<!-- Generated by graphviz version 5.0.0 (0)\n -->\n<!-- Pages: 1 -->\n<svg width=\"1008pt\" height=\"300pt\"\n viewBox=\"0.00 0.00 1007.81 300.48\" xmlns=\"http://www.w3.org/2000/svg\" xmlns:xlink=\"http://www.w3.org/1999/xlink\">\n<g id=\"graph0\" class=\"graph\" transform=\"scale(1 1) rotate(0) translate(4 296.48)\">\n<polygon fill=\"white\" stroke=\"transparent\" points=\"-4,4 -4,-296.48 1003.81,-296.48 1003.81,4 -4,4\"/>\n<!-- N1 -->\n<g id=\"node1\" class=\"node\">\n<title>N1</title>\n<ellipse fill=\"#4ca4b9\" fill-opacity=\"0.666667\" stroke=\"black\" stroke-width=\"0\" cx=\"171.49\" cy=\"-265.61\" rx=\"84.29\" ry=\"26.74\"/>\n<text text-anchor=\"middle\" x=\"171.49\" y=\"-269.41\" font-family=\"Times,serif\" font-size=\"14.00\">Code (1)</text>\n<text text-anchor=\"middle\" x=\"171.49\" y=\"-254.41\" font-family=\"Times,serif\" font-size=\"14.00\">pw.x@local_direct</text>\n</g>\n<!-- N30 -->\n<g id=\"node6\" class=\"node\">\n<title>N30</title>\n<polygon fill=\"#de707f\" stroke=\"black\" stroke-width=\"0\" points=\"553.49,-172.74 431.49,-172.74 431.49,-119.74 553.49,-119.74 553.49,-172.74\"/>\n<text text-anchor=\"middle\" x=\"492.49\" y=\"-157.54\" font-family=\"Times,serif\" font-size=\"14.00\">PwCalculation (30)</text>\n<text text-anchor=\"middle\" x=\"492.49\" y=\"-142.54\" font-family=\"Times,serif\" font-size=\"14.00\">State: finished</text>\n<text text-anchor=\"middle\" x=\"492.49\" y=\"-127.54\" font-family=\"Times,serif\" font-size=\"14.00\">Exit Code: 0</text>\n</g>\n<!-- N1&#45;&gt;N30 -->\n<g id=\"edge2\" class=\"edge\">\n<title>N1&#45;&gt;N30</title>\n<path fill=\"none\" stroke=\"#000000\" d=\"M201.86,-240.23C223.66,-223.91 254.39,-203.2 284.49,-190.74 328.1,-172.68 380.08,-161.81 421.16,-155.45\"/>\n<polygon fill=\"#000000\" stroke=\"#000000\" points=\"421.72,-158.9 431.09,-153.97 420.69,-151.98 421.72,-158.9\"/>\n<text text-anchor=\"middle\" x=\"325.99\" y=\"-209.54\" font-family=\"Times,serif\" font-size=\"14.00\">INPUT_CALC</text>\n<text text-anchor=\"middle\" x=\"325.99\" y=\"-194.54\" font-family=\"Times,serif\" font-size=\"14.00\">code</text>\n</g>\n<!-- N6 -->\n<g id=\"node2\" class=\"node\">\n<title>N6</title>\n<ellipse fill=\"#8cd499\" stroke=\"black\" stroke-width=\"0\" cx=\"332.49\" cy=\"-265.61\" rx=\"58.88\" ry=\"26.74\"/>\n<text text-anchor=\"middle\" x=\"332.49\" y=\"-269.41\" font-family=\"Times,serif\" font-size=\"14.00\">UpfData (6)</text>\n<text text-anchor=\"middle\" x=\"332.49\" y=\"-254.41\" font-family=\"Times,serif\" font-size=\"14.00\">Si</text>\n</g>\n<!-- N6&#45;&gt;N30 -->\n<g id=\"edge3\" class=\"edge\">\n<title>N6&#45;&gt;N30</title>\n<path fill=\"none\" stroke=\"#000000\" d=\"M352.79,-240.28C366.56,-224.79 385.78,-205.03 405.49,-190.74 411.83,-186.14 418.74,-181.78 425.79,-177.72\"/>\n<polygon fill=\"#000000\" stroke=\"#000000\" points=\"427.71,-180.65 434.76,-172.74 424.32,-174.53 427.71,-180.65\"/>\n<text text-anchor=\"middle\" x=\"446.99\" y=\"-209.54\" font-family=\"Times,serif\" font-size=\"14.00\">INPUT_CALC</text>\n<text text-anchor=\"middle\" x=\"446.99\" y=\"-194.54\" font-family=\"Times,serif\" font-size=\"14.00\">pseudos__Si</text>\n</g>\n<!-- N27 -->\n<g id=\"node3\" class=\"node\">\n<title>N27</title>\n<ellipse fill=\"#8cd499\" stroke=\"black\" stroke-width=\"0\" cx=\"492.49\" cy=\"-265.61\" rx=\"83.38\" ry=\"26.74\"/>\n<text text-anchor=\"middle\" x=\"492.49\" y=\"-269.41\" font-family=\"Times,serif\" font-size=\"14.00\">StructureData (27)</text>\n<text text-anchor=\"middle\" x=\"492.49\" y=\"-254.41\" font-family=\"Times,serif\" font-size=\"14.00\">Si2</text>\n</g>\n<!-- N27&#45;&gt;N30 -->\n<g id=\"edge1\" class=\"edge\">\n<title>N27&#45;&gt;N30</title>\n<path fill=\"none\" stroke=\"#000000\" d=\"M492.49,-238.56C492.49,-222.19 492.49,-200.85 492.49,-182.91\"/>\n<polygon fill=\"#000000\" stroke=\"#000000\" points=\"495.99,-182.81 492.49,-172.81 488.99,-182.81 495.99,-182.81\"/>\n<text text-anchor=\"middle\" x=\"533.99\" y=\"-209.54\" font-family=\"Times,serif\" font-size=\"14.00\">INPUT_CALC</text>\n<text text-anchor=\"middle\" x=\"533.99\" y=\"-194.54\" font-family=\"Times,serif\" font-size=\"14.00\">structure</text>\n</g>\n<!-- N28 -->\n<g id=\"node4\" class=\"node\">\n<title>N28</title>\n<ellipse fill=\"#8cd499\" stroke=\"black\" stroke-width=\"0\" cx=\"636.49\" cy=\"-265.61\" rx=\"42.79\" ry=\"18\"/>\n<text text-anchor=\"middle\" x=\"636.49\" y=\"-261.91\" font-family=\"Times,serif\" font-size=\"14.00\">Dict (28)</text>\n</g>\n<!-- N28&#45;&gt;N30 -->\n<g id=\"edge4\" class=\"edge\">\n<title>N28&#45;&gt;N30</title>\n<path fill=\"none\" stroke=\"#000000\" d=\"M626.71,-247.88C616.55,-231.64 599.38,-207.11 579.49,-190.74 573.93,-186.17 567.81,-181.91 561.47,-177.99\"/>\n<polygon fill=\"#000000\" stroke=\"#000000\" points=\"563.12,-174.9 552.72,-172.86 559.58,-180.94 563.12,-174.9\"/>\n<text text-anchor=\"middle\" x=\"647.99\" y=\"-209.54\" font-family=\"Times,serif\" font-size=\"14.00\">INPUT_CALC</text>\n<text text-anchor=\"middle\" x=\"647.99\" y=\"-194.54\" font-family=\"Times,serif\" font-size=\"14.00\">parameters</text>\n</g>\n<!-- N29 -->\n<g id=\"node5\" class=\"node\">\n<title>N29</title>\n<ellipse fill=\"#8cd499\" stroke=\"black\" stroke-width=\"0\" cx=\"848.49\" cy=\"-265.61\" rx=\"151.14\" ry=\"26.74\"/>\n<text text-anchor=\"middle\" x=\"848.49\" y=\"-269.41\" font-family=\"Times,serif\" font-size=\"14.00\">KpointsData (29)</text>\n<text text-anchor=\"middle\" x=\"848.49\" y=\"-254.41\" font-family=\"Times,serif\" font-size=\"14.00\">Kpoints mesh: 5x5x5 (+0.0,0.0,0.0)</text>\n</g>\n<!-- N29&#45;&gt;N30 -->\n<g id=\"edge5\" class=\"edge\">\n<title>N29&#45;&gt;N30</title>\n<path fill=\"none\" stroke=\"#000000\" d=\"M803.54,-239.77C773.2,-223.87 731.86,-203.84 693.49,-190.74 651.46,-176.39 602.82,-165.72 563.92,-158.54\"/>\n<polygon fill=\"#000000\" stroke=\"#000000\" points=\"564.2,-155.03 553.73,-156.69 562.95,-161.92 564.2,-155.03\"/>\n<text text-anchor=\"middle\" x=\"803.99\" y=\"-209.54\" font-family=\"Times,serif\" font-size=\"14.00\">INPUT_CALC</text>\n<text text-anchor=\"middle\" x=\"803.99\" y=\"-194.54\" font-family=\"Times,serif\" font-size=\"14.00\">kpoints</text>\n</g>\n<!-- N31 -->\n<g id=\"node7\" class=\"node\">\n<title>N31</title>\n<ellipse fill=\"#8cd499\" stroke=\"black\" stroke-width=\"0\" cx=\"78.49\" cy=\"-26.87\" rx=\"78.48\" ry=\"26.74\"/>\n<text text-anchor=\"middle\" x=\"78.49\" y=\"-30.67\" font-family=\"Times,serif\" font-size=\"14.00\">RemoteData (31)</text>\n<text text-anchor=\"middle\" x=\"78.49\" y=\"-15.67\" font-family=\"Times,serif\" font-size=\"14.00\">@local_direct</text>\n</g>\n<!-- N30&#45;&gt;N31 -->\n<g id=\"edge9\" class=\"edge\">\n<title>N30&#45;&gt;N31</title>\n<path fill=\"none\" stroke=\"#000000\" d=\"M431.39,-139.34C379.28,-133.23 302.79,-121.71 238.49,-101.74 200.09,-89.82 158.96,-70.67 128.01,-54.86\"/>\n<polygon fill=\"#000000\" stroke=\"#000000\" points=\"129.24,-51.55 118.75,-50.07 126.02,-57.77 129.24,-51.55\"/>\n<text text-anchor=\"middle\" x=\"277.49\" y=\"-90.54\" font-family=\"Times,serif\" font-size=\"14.00\">CREATE</text>\n<text text-anchor=\"middle\" x=\"277.49\" y=\"-75.54\" font-family=\"Times,serif\" font-size=\"14.00\">remote_folder</text>\n</g>\n<!-- N32 -->\n<g id=\"node8\" class=\"node\">\n<title>N32</title>\n<ellipse fill=\"#8cd499\" stroke=\"black\" stroke-width=\"0\" cx=\"242.49\" cy=\"-26.87\" rx=\"67.69\" ry=\"18\"/>\n<text text-anchor=\"middle\" x=\"242.49\" y=\"-23.17\" font-family=\"Times,serif\" font-size=\"14.00\">FolderData (32)</text>\n</g>\n<!-- N30&#45;&gt;N32 -->\n<g id=\"edge11\" class=\"edge\">\n<title>N30&#45;&gt;N32</title>\n<path fill=\"none\" stroke=\"#000000\" d=\"M431.35,-124.49C413.14,-117.78 393.3,-109.94 375.49,-101.74 341.15,-85.93 303.64,-64.71 277.23,-49.07\"/>\n<polygon fill=\"#000000\" stroke=\"#000000\" points=\"278.76,-45.9 268.38,-43.79 275.17,-51.92 278.76,-45.9\"/>\n<text text-anchor=\"middle\" x=\"401.49\" y=\"-90.54\" font-family=\"Times,serif\" font-size=\"14.00\">CREATE</text>\n<text text-anchor=\"middle\" x=\"401.49\" y=\"-75.54\" font-family=\"Times,serif\" font-size=\"14.00\">retrieved</text>\n</g>\n<!-- N33 -->\n<g id=\"node9\" class=\"node\">\n<title>N33</title>\n<ellipse fill=\"#8cd499\" stroke=\"black\" stroke-width=\"0\" cx=\"404.49\" cy=\"-26.87\" rx=\"76.24\" ry=\"26.74\"/>\n<text text-anchor=\"middle\" x=\"404.49\" y=\"-30.67\" font-family=\"Times,serif\" font-size=\"14.00\">BandsData (33)</text>\n<text text-anchor=\"middle\" x=\"404.49\" y=\"-15.67\" font-family=\"Times,serif\" font-size=\"14.00\">(Path of 19 kpts)</text>\n</g>\n<!-- N30&#45;&gt;N33 -->\n<g id=\"edge7\" class=\"edge\">\n<title>N30&#45;&gt;N33</title>\n<path fill=\"none\" stroke=\"#000000\" d=\"M468.34,-119.55C463.28,-113.82 458.08,-107.68 453.49,-101.74 443.77,-89.18 433.93,-74.74 425.64,-61.98\"/>\n<polygon fill=\"#000000\" stroke=\"#000000\" points=\"428.52,-59.98 420.17,-53.46 422.62,-63.77 428.52,-59.98\"/>\n<text text-anchor=\"middle\" x=\"487.49\" y=\"-90.54\" font-family=\"Times,serif\" font-size=\"14.00\">CREATE</text>\n<text text-anchor=\"middle\" x=\"487.49\" y=\"-75.54\" font-family=\"Times,serif\" font-size=\"14.00\">output_band</text>\n</g>\n<!-- N34 -->\n<g id=\"node10\" class=\"node\">\n<title>N34</title>\n<ellipse fill=\"#8cd499\" stroke=\"black\" stroke-width=\"0\" cx=\"580.49\" cy=\"-26.87\" rx=\"81.49\" ry=\"18\"/>\n<text text-anchor=\"middle\" x=\"580.49\" y=\"-23.17\" font-family=\"Times,serif\" font-size=\"14.00\">TrajectoryData (34)</text>\n</g>\n<!-- N30&#45;&gt;N34 -->\n<g id=\"edge6\" class=\"edge\">\n<title>N30&#45;&gt;N34</title>\n<path fill=\"none\" stroke=\"#000000\" d=\"M511.8,-119.48C526.61,-99.73 546.93,-72.62 561.63,-53.03\"/>\n<polygon fill=\"#000000\" stroke=\"#000000\" points=\"564.55,-54.97 567.75,-44.87 558.95,-50.77 564.55,-54.97\"/>\n<text text-anchor=\"middle\" x=\"593.49\" y=\"-90.54\" font-family=\"Times,serif\" font-size=\"14.00\">CREATE</text>\n<text text-anchor=\"middle\" x=\"593.49\" y=\"-75.54\" font-family=\"Times,serif\" font-size=\"14.00\">output_trajectory</text>\n</g>\n<!-- N35 -->\n<g id=\"node11\" class=\"node\">\n<title>N35</title>\n<ellipse fill=\"#8cd499\" stroke=\"black\" stroke-width=\"0\" cx=\"763.49\" cy=\"-26.87\" rx=\"83.38\" ry=\"26.74\"/>\n<text text-anchor=\"middle\" x=\"763.49\" y=\"-30.67\" font-family=\"Times,serif\" font-size=\"14.00\">StructureData (35)</text>\n<text text-anchor=\"middle\" x=\"763.49\" y=\"-15.67\" font-family=\"Times,serif\" font-size=\"14.00\">Si2</text>\n</g>\n<!-- N30&#45;&gt;N35 -->\n<g id=\"edge8\" class=\"edge\">\n<title>N30&#45;&gt;N35</title>\n<path fill=\"none\" stroke=\"#000000\" d=\"M553.76,-131.83C582.03,-124.61 615.63,-114.53 644.49,-101.74 671.67,-89.69 700.03,-72.3 722.25,-57.42\"/>\n<polygon fill=\"#000000\" stroke=\"#000000\" points=\"724.45,-60.16 730.75,-51.65 720.51,-54.37 724.45,-60.16\"/>\n<text text-anchor=\"middle\" x=\"742.99\" y=\"-90.54\" font-family=\"Times,serif\" font-size=\"14.00\">CREATE</text>\n<text text-anchor=\"middle\" x=\"742.99\" y=\"-75.54\" font-family=\"Times,serif\" font-size=\"14.00\">output_structure</text>\n</g>\n<!-- N36 -->\n<g id=\"node12\" class=\"node\">\n<title>N36</title>\n<ellipse fill=\"#8cd499\" stroke=\"black\" stroke-width=\"0\" cx=\"907.49\" cy=\"-26.87\" rx=\"42.79\" ry=\"18\"/>\n<text text-anchor=\"middle\" x=\"907.49\" y=\"-23.17\" font-family=\"Times,serif\" font-size=\"14.00\">Dict (36)</text>\n</g>\n<!-- N30&#45;&gt;N36 -->\n<g id=\"edge10\" class=\"edge\">\n<title>N30&#45;&gt;N36</title>\n<path fill=\"none\" stroke=\"#000000\" d=\"M553.61,-143.82C615.38,-140.69 712.69,-131.02 791.49,-101.74 824.63,-89.43 858.24,-66.64 880.7,-49.62\"/>\n<polygon fill=\"#000000\" stroke=\"#000000\" points=\"882.96,-52.3 888.73,-43.41 878.68,-46.76 882.96,-52.3\"/>\n<text text-anchor=\"middle\" x=\"898.49\" y=\"-90.54\" font-family=\"Times,serif\" font-size=\"14.00\">CREATE</text>\n<text text-anchor=\"middle\" x=\"898.49\" y=\"-75.54\" font-family=\"Times,serif\" font-size=\"14.00\">output_parameters</text>\n</g>\n</g>\n</svg>\n",
      "text/plain": [
       "<graphviz.graphs.Digraph at 0x114f31220>"
      ]
     },
     "execution_count": 43,
     "metadata": {},
     "output_type": "execute_result"
    }
   ],
   "source": [
    "graph = Graph()\n",
    "graph.add_incoming(output.node, annotate_links=\"both\")\n",
    "graph.add_outgoing(output.node, annotate_links=\"both\")\n",
    "graph.graphviz"
   ]
  },
  {
   "cell_type": "code",
   "execution_count": 65,
   "metadata": {},
   "outputs": [
    {
     "name": "stdout",
     "output_type": "stream",
     "text": [
      "\u001b[22mentities:\n",
      "  Users:\n",
      "    count: 1\n",
      "  Computers:\n",
      "    count: 1\n",
      "  Nodes:\n",
      "    count: 36\n",
      "  Groups:\n",
      "    count: 0\n",
      "  Comments:\n",
      "    count: 0\n",
      "  Logs:\n",
      "    count: 6\n",
      "  Links:\n",
      "    count: 40\n",
      "\u001b[0m\n"
     ]
    }
   ],
   "source": [
    "%verdi storage info"
   ]
  }
 ],
 "metadata": {
  "kernelspec": {
   "display_name": "Python 3.9.13 ('aiida-qe-demo')",
   "language": "python",
   "name": "python3"
  },
  "language_info": {
   "codemirror_mode": {
    "name": "ipython",
    "version": 3
   },
   "file_extension": ".py",
   "mimetype": "text/x-python",
   "name": "python",
   "nbconvert_exporter": "python",
   "pygments_lexer": "ipython3",
   "version": "3.9.13"
  },
  "orig_nbformat": 4,
  "vscode": {
   "interpreter": {
    "hash": "20c30adb377910d9d5c8112cf74e9f7ecb37538254a701570d770f074373c53e"
   }
  }
 },
 "nbformat": 4,
 "nbformat_minor": 2
}
