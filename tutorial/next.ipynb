{
 "cells": [
  {
   "cell_type": "markdown",
   "metadata": {},
   "source": [
    "# Automating Data Inputs"
   ]
  },
  {
   "cell_type": "code",
   "execution_count": 1,
   "metadata": {},
   "outputs": [
    {
     "data": {
      "text/plain": [
       "AiiDAProfile(profile=Profile<uuid='cf39c297ec834397a1d082c7d3ccd51e' name='temp_profile'>, computer=<Computer: local_direct (localhost), pk: 1>, pw_code=<Code: Remote code 'pw.x' on local_direct, pk: 1, uuid: 38f40805-09e6-434e-8e5d-95f08710401a>, pseudos=SsspFamily<1>)"
      ]
     },
     "execution_count": 1,
     "metadata": {},
     "output_type": "execute_result"
    }
   ],
   "source": [
    "from local_module import load_temp_profile\n",
    "\n",
    "data = load_temp_profile()\n",
    "data"
   ]
  },
  {
   "cell_type": "code",
   "execution_count": 2,
   "metadata": {},
   "outputs": [
    {
     "name": "stdout",
     "output_type": "stream",
     "text": [
      "\u001b[32m\u001b[22m ✔ \u001b[0m\u001b[22mversion:     AiiDA v2.0.1\u001b[0m\n",
      "\u001b[32m\u001b[22m ✔ \u001b[0m\u001b[22mconfig:      /Users/chrisjsewell/Documents/GitHub/aiida-qe-demo/tutorial/_aiida_config/.aiida\u001b[0m\n",
      "\u001b[32m\u001b[22m ✔ \u001b[0m\u001b[22mprofile:     temp_profile\u001b[0m\n",
      "\u001b[32m\u001b[22m ✔ \u001b[0m\u001b[22mstorage:     SqliteTemp storage [open], sandbox: /Users/chrisjsewell/Documents/GitHub/aiida-qe-demo/tutorial/_aiida_config/.aiida/repository/temp_profile\u001b[0m\n",
      "\u001b[33m\u001b[22m ⏺ \u001b[0m\u001b[22mdaemon:      The daemon is not running\u001b[0m\n"
     ]
    }
   ],
   "source": [
    "%verdi status --no-rmq"
   ]
  },
  {
   "cell_type": "markdown",
   "metadata": {},
   "source": [
    "```console\n",
    "$ aiida-pseudo install sssp -x PBE -p efficiency -v 1.1\n",
    "```"
   ]
  },
  {
   "cell_type": "code",
   "execution_count": null,
   "metadata": {},
   "outputs": [],
   "source": [
    "# import json\n",
    "# from pathlib import Path\n",
    "\n",
    "# from aiida import orm\n",
    "\n",
    "# from aiida_pseudo.cli.install import download_sssp\n",
    "# from aiida_pseudo.cli.utils import create_family_from_archive\n",
    "# from aiida_pseudo.groups.family import SsspConfiguration, SsspFamily\n",
    "\n",
    "# config = SsspConfiguration(\"1.1\", \"PBE\", \"efficiency\")\n",
    "# label = SsspFamily.format_configuration_label(config)\n",
    "\n",
    "# try:\n",
    "#     family = orm.Group.collection.get(label=label)\n",
    "# except:\n",
    "#     pseudos = Path(\"sssp_pseudos\")\n",
    "#     pseudos.mkdir(exist_ok=True)\n",
    "\n",
    "#     download_sssp(config, pseudos / \"sssp.tar.gz\", pseudos / \"sssp.json\")\n",
    "\n",
    "#     family = create_family_from_archive(\n",
    "#         SsspFamily,\n",
    "#         label,\n",
    "#         pseudos / \"sssp.tar.gz\",\n",
    "#     )\n",
    "#     family.set_cutoffs(\n",
    "#         {\n",
    "#             k: {i: v[i] for i in [\"cutoff_wfc\", \"cutoff_rho\"]}\n",
    "#             for k, v in json.loads((pseudos / \"sssp.json\").read_text()).items()\n",
    "#         },\n",
    "#         \"normal\",\n",
    "#         unit=\"Ry\",\n",
    "#     )\n",
    "\n",
    "# str(family)"
   ]
  },
  {
   "cell_type": "markdown",
   "metadata": {},
   "source": [
    "TODO pymatgen / ase integration"
   ]
  },
  {
   "cell_type": "code",
   "execution_count": 3,
   "metadata": {},
   "outputs": [
    {
     "data": {
      "text/plain": [
       "Structure Summary\n",
       "Lattice\n",
       "    abc : 5.381 5.381 5.381\n",
       " angles : 90.0 90.0 90.0\n",
       " volume : 155.80772134100002\n",
       "      A : 5.381 0.0 3.294912213105954e-16\n",
       "      B : -3.294912213105954e-16 5.381 3.294912213105954e-16\n",
       "      C : 0.0 0.0 5.381\n",
       "PeriodicSite: Si (0.0000, 0.0000, 0.0000) [0.0000, 0.0000, 0.0000]\n",
       "PeriodicSite: Si (1.3453, 1.3453, 1.3453) [0.2500, 0.2500, 0.2500]\n",
       "PeriodicSite: Si (-0.0000, 2.6905, 2.6905) [0.0000, 0.5000, 0.5000]\n",
       "PeriodicSite: Si (4.0358, 1.3453, 4.0357) [0.7500, 0.2500, 0.7500]\n",
       "PeriodicSite: Si (2.6905, 0.0000, 2.6905) [0.5000, 0.0000, 0.5000]\n",
       "PeriodicSite: Si (1.3452, 4.0358, 4.0357) [0.2500, 0.7500, 0.7500]\n",
       "PeriodicSite: Si (2.6905, 2.6905, 0.0000) [0.5000, 0.5000, 0.0000]\n",
       "PeriodicSite: Si (4.0358, 4.0358, 1.3453) [0.7500, 0.7500, 0.2500]"
      ]
     },
     "execution_count": 3,
     "metadata": {},
     "output_type": "execute_result"
    }
   ],
   "source": [
    "\n",
    "\n",
    "# entry = CodEntry(\"http://www.crystallography.net/cod/1526655.cif\")\n",
    "# structure = entry.get_aiida_structure()\n",
    "# structure.get_pymatgen()"
   ]
  },
  {
   "cell_type": "code",
   "execution_count": 3,
   "metadata": {},
   "outputs": [],
   "source": [
    "from aiida import orm, engine\n",
    "from aiida.tools.dbimporters.plugins.cod import CodEntry\n",
    "from aiida.tools.visualization import Graph\n",
    "\n",
    "\n",
    "from aiida_quantumespresso.calculations.pw import PwCalculation\n",
    "\n",
    "\n",
    "class MyWorkChain(engine.WorkChain):\n",
    "    @classmethod\n",
    "    def define(cls, spec: engine.ProcessSpec):\n",
    "        \"\"\"Specify inputs, outputs, and the workchain outline.\"\"\"\n",
    "        super().define(spec)\n",
    "\n",
    "        spec.input(\"cod_id\", valid_type=orm.Int)\n",
    "        spec.input(\"pseudo_family\", valid_type=orm.Str)\n",
    "        spec.input(\"nkpoints\", valid_type=orm.Int)\n",
    "        spec.expose_inputs(\n",
    "            PwCalculation, \"pw\", exclude=(\"structure\", \"pseudos\", \"kpoints\")\n",
    "        )\n",
    "        spec.outline(cls.run_pw, cls.result)\n",
    "        spec.expose_outputs(PwCalculation)\n",
    "\n",
    "    def run_pw(self):\n",
    "        \"\"\"Pass the input as an output.\"\"\"\n",
    "        family = orm.Group.collection.get(label=self.inputs.pseudo_family.value)\n",
    "        entry = CodEntry(\n",
    "            f\"http://www.crystallography.net/cod/{self.inputs.cod_id.value}.cif\"\n",
    "        )\n",
    "        structure = entry.get_aiida_structure()\n",
    "        pseudos = family.get_pseudos(structure=structure)\n",
    "        kpoints = orm.KpointsData()\n",
    "        kpoints.set_cell_from_structure(structure)\n",
    "        kpoints.set_kpoints_mesh(\n",
    "            [self.inputs.nkpoints.value] * 3,\n",
    "        )\n",
    "        inputs = self.exposed_inputs(PwCalculation, \"pw\")\n",
    "        future = self.submit(\n",
    "            PwCalculation,\n",
    "            structure=structure,\n",
    "            pseudos=pseudos,\n",
    "            kpoints=kpoints,\n",
    "            **inputs,\n",
    "        )\n",
    "        return self.to_context(pw=future)\n",
    "\n",
    "    def result(self):\n",
    "        \"\"\"Pass the result as an output.\"\"\"\n",
    "        self.out_many(self.exposed_outputs(self.ctx.pw, PwCalculation))"
   ]
  },
  {
   "cell_type": "code",
   "execution_count": 4,
   "metadata": {},
   "outputs": [
    {
     "name": "stdout",
     "output_type": "stream",
     "text": [
      "\u001b[93m\u001b[1mWarning\u001b[0m: Unrecognized job_state '?' for job id 20119\n"
     ]
    }
   ],
   "source": [
    "builder = MyWorkChain.get_builder()\n",
    "builder.cod_id = orm.Int(1526655)\n",
    "builder.pseudo_family = orm.Str(\"SSSP/1.1/PBE/efficiency\")\n",
    "builder.pw.code = orm.load_code(\"pw.x@local_direct\")\n",
    "builder.nkpoints = orm.Int(4)\n",
    "builder.pw.parameters = orm.Dict(\n",
    "    dict={\n",
    "        \"SYSTEM\": {\n",
    "            \"nosym\": False,\n",
    "            \"degauss\": 0.01,\n",
    "            \"ecutrho\": 240.0,\n",
    "            \"ecutwfc\": 30.0,\n",
    "            \"smearing\": \"cold\",\n",
    "            \"occupations\": \"smearing\",\n",
    "        },\n",
    "        \"CONTROL\": {\n",
    "            \"tprnfor\": True,\n",
    "            \"tstress\": True,\n",
    "            \"calculation\": \"relax\",\n",
    "            \"max_seconds\": 41040.0,\n",
    "            \"etot_conv_thr\": 0.0002,\n",
    "            \"forc_conv_thr\": 0.001,\n",
    "        },\n",
    "        \"ELECTRONS\": {\n",
    "            \"conv_thr\": 8e-10, \n",
    "            \"mixing_beta\": 0.4, \n",
    "            \"electron_maxstep\": 80\n",
    "        },\n",
    "    }\n",
    ")\n",
    "\n",
    "output = engine.run_get_node(builder)"
   ]
  },
  {
   "cell_type": "code",
   "execution_count": 5,
   "metadata": {},
   "outputs": [
    {
     "data": {
      "image/svg+xml": "<?xml version=\"1.0\" encoding=\"UTF-8\" standalone=\"no\"?>\n<!DOCTYPE svg PUBLIC \"-//W3C//DTD SVG 1.1//EN\"\n \"http://www.w3.org/Graphics/SVG/1.1/DTD/svg11.dtd\">\n<!-- Generated by graphviz version 5.0.0 (0)\n -->\n<!-- Pages: 1 -->\n<svg width=\"1086pt\" height=\"419pt\"\n viewBox=\"0.00 0.00 1086.37 419.48\" xmlns=\"http://www.w3.org/2000/svg\" xmlns:xlink=\"http://www.w3.org/1999/xlink\">\n<g id=\"graph0\" class=\"graph\" transform=\"scale(1 1) rotate(0) translate(4 415.48)\">\n<polygon fill=\"white\" stroke=\"transparent\" points=\"-4,4 -4,-415.48 1082.37,-415.48 1082.37,4 -4,4\"/>\n<!-- N91 -->\n<g id=\"node1\" class=\"node\">\n<title>N91</title>\n<polygon fill=\"#e38851\" stroke=\"red\" stroke-width=\"6\" points=\"540.87,-291.74 415.87,-291.74 415.87,-238.74 540.87,-238.74 540.87,-291.74\"/>\n<text text-anchor=\"middle\" x=\"478.37\" y=\"-276.54\" font-family=\"Times,serif\" font-size=\"14.00\">MyWorkChain (91)</text>\n<text text-anchor=\"middle\" x=\"478.37\" y=\"-261.54\" font-family=\"Times,serif\" font-size=\"14.00\">State: finished</text>\n<text text-anchor=\"middle\" x=\"478.37\" y=\"-246.54\" font-family=\"Times,serif\" font-size=\"14.00\">Exit Code: 0</text>\n</g>\n<!-- N94 -->\n<g id=\"node7\" class=\"node\">\n<title>N94</title>\n<polygon fill=\"#de707f\" stroke=\"black\" stroke-width=\"0\" points=\"539.37,-172.74 417.37,-172.74 417.37,-119.74 539.37,-119.74 539.37,-172.74\"/>\n<text text-anchor=\"middle\" x=\"478.37\" y=\"-157.54\" font-family=\"Times,serif\" font-size=\"14.00\">PwCalculation (94)</text>\n<text text-anchor=\"middle\" x=\"478.37\" y=\"-142.54\" font-family=\"Times,serif\" font-size=\"14.00\">State: finished</text>\n<text text-anchor=\"middle\" x=\"478.37\" y=\"-127.54\" font-family=\"Times,serif\" font-size=\"14.00\">Exit Code: 0</text>\n</g>\n<!-- N91&#45;&gt;N94 -->\n<g id=\"edge17\" class=\"edge\">\n<title>N91&#45;&gt;N94</title>\n<path fill=\"none\" stroke=\"#000000\" stroke-dasharray=\"1,5\" d=\"M478.37,-238.56C478.37,-222.26 478.37,-200.92 478.37,-182.97\"/>\n<polygon fill=\"#000000\" stroke=\"#000000\" points=\"481.87,-182.86 478.37,-172.86 474.87,-182.86 481.87,-182.86\"/>\n<text text-anchor=\"middle\" x=\"517.87\" y=\"-209.54\" font-family=\"Times,serif\" font-size=\"14.00\">CALL_CALC</text>\n<text text-anchor=\"middle\" x=\"517.87\" y=\"-194.54\" font-family=\"Times,serif\" font-size=\"14.00\">CALL</text>\n</g>\n<!-- N95 -->\n<g id=\"node8\" class=\"node\">\n<title>N95</title>\n<ellipse fill=\"#8cd499\" stroke=\"black\" stroke-width=\"0\" cx=\"403.37\" cy=\"-26.87\" rx=\"78.48\" ry=\"26.74\"/>\n<text text-anchor=\"middle\" x=\"403.37\" y=\"-30.67\" font-family=\"Times,serif\" font-size=\"14.00\">RemoteData (95)</text>\n<text text-anchor=\"middle\" x=\"403.37\" y=\"-15.67\" font-family=\"Times,serif\" font-size=\"14.00\">@local_direct</text>\n</g>\n<!-- N91&#45;&gt;N95 -->\n<g id=\"edge9\" class=\"edge\">\n<title>N91&#45;&gt;N95</title>\n<path fill=\"none\" stroke=\"#000000\" stroke-dasharray=\"5,2\" d=\"M416.07,-238.6C386.27,-223.45 352.37,-201.55 330.37,-172.74 302.54,-136.31 284.74,-110.41 309.37,-71.74 315.37,-62.32 323.98,-54.89 333.58,-49.04\"/>\n<polygon fill=\"#000000\" stroke=\"#000000\" points=\"335.53,-51.96 342.63,-44.09 332.18,-45.82 335.53,-51.96\"/>\n<text text-anchor=\"middle\" x=\"369.37\" y=\"-150.04\" font-family=\"Times,serif\" font-size=\"14.00\">RETURN</text>\n<text text-anchor=\"middle\" x=\"369.37\" y=\"-135.04\" font-family=\"Times,serif\" font-size=\"14.00\">remote_folder</text>\n</g>\n<!-- N96 -->\n<g id=\"node9\" class=\"node\">\n<title>N96</title>\n<ellipse fill=\"#8cd499\" stroke=\"black\" stroke-width=\"0\" cx=\"239.37\" cy=\"-26.87\" rx=\"67.69\" ry=\"18\"/>\n<text text-anchor=\"middle\" x=\"239.37\" y=\"-23.17\" font-family=\"Times,serif\" font-size=\"14.00\">FolderData (96)</text>\n</g>\n<!-- N91&#45;&gt;N96 -->\n<g id=\"edge7\" class=\"edge\">\n<title>N91&#45;&gt;N96</title>\n<path fill=\"none\" stroke=\"#000000\" stroke-dasharray=\"5,2\" d=\"M415.66,-252.41C363.81,-239.97 290.76,-215.98 240.37,-172.74 202.8,-140.5 173.88,-117.25 193.37,-71.74 196.67,-64.04 202.06,-57.04 208,-51.02\"/>\n<polygon fill=\"#000000\" stroke=\"#000000\" points=\"210.73,-53.26 215.72,-43.92 205.99,-48.11 210.73,-53.26\"/>\n<text text-anchor=\"middle\" x=\"267.87\" y=\"-150.04\" font-family=\"Times,serif\" font-size=\"14.00\">RETURN</text>\n<text text-anchor=\"middle\" x=\"267.87\" y=\"-135.04\" font-family=\"Times,serif\" font-size=\"14.00\">retrieved</text>\n</g>\n<!-- N97 -->\n<g id=\"node10\" class=\"node\">\n<title>N97</title>\n<ellipse fill=\"#8cd499\" stroke=\"black\" stroke-width=\"0\" cx=\"76.37\" cy=\"-26.87\" rx=\"76.24\" ry=\"26.74\"/>\n<text text-anchor=\"middle\" x=\"76.37\" y=\"-30.67\" font-family=\"Times,serif\" font-size=\"14.00\">BandsData (97)</text>\n<text text-anchor=\"middle\" x=\"76.37\" y=\"-15.67\" font-family=\"Times,serif\" font-size=\"14.00\">(Path of 10 kpts)</text>\n</g>\n<!-- N91&#45;&gt;N97 -->\n<g id=\"edge15\" class=\"edge\">\n<title>N91&#45;&gt;N97</title>\n<path fill=\"none\" stroke=\"#000000\" stroke-dasharray=\"5,2\" d=\"M415.72,-256.19C324.33,-243.17 160.9,-214.64 120.37,-172.74 92,-143.42 81.86,-96.4 78.27,-63.92\"/>\n<polygon fill=\"#000000\" stroke=\"#000000\" points=\"81.75,-63.55 77.32,-53.93 74.78,-64.22 81.75,-63.55\"/>\n<text text-anchor=\"middle\" x=\"154.37\" y=\"-150.04\" font-family=\"Times,serif\" font-size=\"14.00\">RETURN</text>\n<text text-anchor=\"middle\" x=\"154.37\" y=\"-135.04\" font-family=\"Times,serif\" font-size=\"14.00\">output_band</text>\n</g>\n<!-- N98 -->\n<g id=\"node11\" class=\"node\">\n<title>N98</title>\n<ellipse fill=\"#8cd499\" stroke=\"black\" stroke-width=\"0\" cx=\"592.37\" cy=\"-26.87\" rx=\"81.49\" ry=\"18\"/>\n<text text-anchor=\"middle\" x=\"592.37\" y=\"-23.17\" font-family=\"Times,serif\" font-size=\"14.00\">TrajectoryData (98)</text>\n</g>\n<!-- N91&#45;&gt;N98 -->\n<g id=\"edge12\" class=\"edge\">\n<title>N91&#45;&gt;N98</title>\n<path fill=\"none\" stroke=\"#000000\" stroke-dasharray=\"5,2\" d=\"M541.11,-241.29C597.94,-216.64 677.74,-171.35 711.37,-101.74 717.17,-89.73 718.99,-82.68 711.37,-71.74 701.16,-57.09 685.48,-47.32 668.81,-40.81\"/>\n<polygon fill=\"#000000\" stroke=\"#000000\" points=\"669.52,-37.35 658.92,-37.34 667.2,-43.96 669.52,-37.35\"/>\n<text text-anchor=\"middle\" x=\"747.37\" y=\"-150.04\" font-family=\"Times,serif\" font-size=\"14.00\">RETURN</text>\n<text text-anchor=\"middle\" x=\"747.37\" y=\"-135.04\" font-family=\"Times,serif\" font-size=\"14.00\">output_trajectory</text>\n</g>\n<!-- N99 -->\n<g id=\"node12\" class=\"node\">\n<title>N99</title>\n<ellipse fill=\"#8cd499\" stroke=\"black\" stroke-width=\"0\" cx=\"818.37\" cy=\"-26.87\" rx=\"83.38\" ry=\"26.74\"/>\n<text text-anchor=\"middle\" x=\"818.37\" y=\"-30.67\" font-family=\"Times,serif\" font-size=\"14.00\">StructureData (99)</text>\n<text text-anchor=\"middle\" x=\"818.37\" y=\"-15.67\" font-family=\"Times,serif\" font-size=\"14.00\">Si8</text>\n</g>\n<!-- N91&#45;&gt;N99 -->\n<g id=\"edge6\" class=\"edge\">\n<title>N91&#45;&gt;N99</title>\n<path fill=\"none\" stroke=\"#000000\" stroke-dasharray=\"5,2\" d=\"M540.95,-256.93C608.73,-246.72 717.92,-223.37 798.37,-172.74 834.07,-150.27 846.39,-141.18 861.37,-101.74 866.1,-89.28 866.41,-84.08 861.37,-71.74 859.73,-67.74 857.54,-63.91 855.01,-60.29\"/>\n<polygon fill=\"#000000\" stroke=\"#000000\" points=\"857.56,-57.88 848.58,-52.26 852.1,-62.26 857.56,-57.88\"/>\n<text text-anchor=\"middle\" x=\"897.87\" y=\"-150.04\" font-family=\"Times,serif\" font-size=\"14.00\">RETURN</text>\n<text text-anchor=\"middle\" x=\"897.87\" y=\"-135.04\" font-family=\"Times,serif\" font-size=\"14.00\">output_structure</text>\n</g>\n<!-- N100 -->\n<g id=\"node13\" class=\"node\">\n<title>N100</title>\n<ellipse fill=\"#8cd499\" stroke=\"black\" stroke-width=\"0\" cx=\"989.37\" cy=\"-26.87\" rx=\"47.39\" ry=\"18\"/>\n<text text-anchor=\"middle\" x=\"989.37\" y=\"-23.17\" font-family=\"Times,serif\" font-size=\"14.00\">Dict (100)</text>\n</g>\n<!-- N91&#45;&gt;N100 -->\n<g id=\"edge14\" class=\"edge\">\n<title>N91&#45;&gt;N100</title>\n<path fill=\"none\" stroke=\"#000000\" stroke-dasharray=\"5,2\" d=\"M541.11,-260.15C654.86,-251.46 888.71,-227.29 946.37,-172.74 978.9,-141.96 987.16,-87.81 989.06,-55.15\"/>\n<polygon fill=\"#000000\" stroke=\"#000000\" points=\"992.57,-55.1 989.49,-44.96 985.57,-54.81 992.57,-55.1\"/>\n<text text-anchor=\"middle\" x=\"1027.37\" y=\"-150.04\" font-family=\"Times,serif\" font-size=\"14.00\">RETURN</text>\n<text text-anchor=\"middle\" x=\"1027.37\" y=\"-135.04\" font-family=\"Times,serif\" font-size=\"14.00\">output_parameters</text>\n</g>\n<!-- N1 -->\n<g id=\"node2\" class=\"node\">\n<title>N1</title>\n<ellipse fill=\"#4ca4b9\" fill-opacity=\"0.666667\" stroke=\"black\" stroke-width=\"0\" cx=\"201.37\" cy=\"-384.61\" rx=\"84.29\" ry=\"26.74\"/>\n<text text-anchor=\"middle\" x=\"201.37\" y=\"-388.41\" font-family=\"Times,serif\" font-size=\"14.00\">Code (1)</text>\n<text text-anchor=\"middle\" x=\"201.37\" y=\"-373.41\" font-family=\"Times,serif\" font-size=\"14.00\">pw.x@local_direct</text>\n</g>\n<!-- N1&#45;&gt;N91 -->\n<g id=\"edge4\" class=\"edge\">\n<title>N1&#45;&gt;N91</title>\n<path fill=\"none\" stroke=\"#000000\" stroke-dasharray=\"5,2\" d=\"M218.65,-358.21C231.13,-341.86 249.42,-321.54 270.37,-309.74 311.65,-286.5 363.85,-275.63 405.63,-270.56\"/>\n<polygon fill=\"#000000\" stroke=\"#000000\" points=\"406.2,-274.02 415.74,-269.43 405.41,-267.07 406.2,-274.02\"/>\n<text text-anchor=\"middle\" x=\"314.87\" y=\"-328.54\" font-family=\"Times,serif\" font-size=\"14.00\">INPUT_WORK</text>\n<text text-anchor=\"middle\" x=\"314.87\" y=\"-313.54\" font-family=\"Times,serif\" font-size=\"14.00\">pw__code</text>\n</g>\n<!-- N87 -->\n<g id=\"node3\" class=\"node\">\n<title>N87</title>\n<ellipse fill=\"#8cd499\" stroke=\"black\" stroke-width=\"0\" cx=\"346.37\" cy=\"-384.61\" rx=\"42.79\" ry=\"18\"/>\n<text text-anchor=\"middle\" x=\"346.37\" y=\"-380.91\" font-family=\"Times,serif\" font-size=\"14.00\">Dict (87)</text>\n</g>\n<!-- N87&#45;&gt;N91 -->\n<g id=\"edge3\" class=\"edge\">\n<title>N87&#45;&gt;N91</title>\n<path fill=\"none\" stroke=\"#000000\" stroke-dasharray=\"5,2\" d=\"M351.21,-366.65C356.66,-350.24 366.96,-325.58 383.37,-309.74 390.24,-303.1 398.31,-297.35 406.8,-292.41\"/>\n<polygon fill=\"#000000\" stroke=\"#000000\" points=\"408.63,-295.39 415.75,-287.54 405.29,-289.24 408.63,-295.39\"/>\n<text text-anchor=\"middle\" x=\"428.87\" y=\"-328.54\" font-family=\"Times,serif\" font-size=\"14.00\">INPUT_WORK</text>\n<text text-anchor=\"middle\" x=\"428.87\" y=\"-313.54\" font-family=\"Times,serif\" font-size=\"14.00\">pw__parameters</text>\n</g>\n<!-- N88 -->\n<g id=\"node4\" class=\"node\">\n<title>N88</title>\n<ellipse fill=\"#8cd499\" stroke=\"black\" stroke-width=\"0\" cx=\"478.37\" cy=\"-384.61\" rx=\"71.34\" ry=\"26.74\"/>\n<text text-anchor=\"middle\" x=\"478.37\" y=\"-388.41\" font-family=\"Times,serif\" font-size=\"14.00\">Int (88)</text>\n<text text-anchor=\"middle\" x=\"478.37\" y=\"-373.41\" font-family=\"Times,serif\" font-size=\"14.00\">value: 1526655</text>\n</g>\n<!-- N88&#45;&gt;N91 -->\n<g id=\"edge2\" class=\"edge\">\n<title>N88&#45;&gt;N91</title>\n<path fill=\"none\" stroke=\"#000000\" stroke-dasharray=\"5,2\" d=\"M478.37,-357.56C478.37,-341.19 478.37,-319.85 478.37,-301.91\"/>\n<polygon fill=\"#000000\" stroke=\"#000000\" points=\"481.87,-301.81 478.37,-291.81 474.87,-301.81 481.87,-301.81\"/>\n<text text-anchor=\"middle\" x=\"522.87\" y=\"-328.54\" font-family=\"Times,serif\" font-size=\"14.00\">INPUT_WORK</text>\n<text text-anchor=\"middle\" x=\"522.87\" y=\"-313.54\" font-family=\"Times,serif\" font-size=\"14.00\">cod_id</text>\n</g>\n<!-- N89 -->\n<g id=\"node5\" class=\"node\">\n<title>N89</title>\n<ellipse fill=\"#8cd499\" stroke=\"black\" stroke-width=\"0\" cx=\"676.37\" cy=\"-384.61\" rx=\"108.38\" ry=\"26.74\"/>\n<text text-anchor=\"middle\" x=\"676.37\" y=\"-388.41\" font-family=\"Times,serif\" font-size=\"14.00\">Str (89)</text>\n<text text-anchor=\"middle\" x=\"676.37\" y=\"-373.41\" font-family=\"Times,serif\" font-size=\"14.00\">SSSP/1.1/PBE/efficiency</text>\n</g>\n<!-- N89&#45;&gt;N91 -->\n<g id=\"edge5\" class=\"edge\">\n<title>N89&#45;&gt;N91</title>\n<path fill=\"none\" stroke=\"#000000\" stroke-dasharray=\"5,2\" d=\"M644.24,-358.79C623.94,-343.67 596.82,-324.49 571.37,-309.74 563.44,-305.15 554.95,-300.64 546.43,-296.38\"/>\n<polygon fill=\"#000000\" stroke=\"#000000\" points=\"547.73,-293.12 537.21,-291.85 544.65,-299.4 547.73,-293.12\"/>\n<text text-anchor=\"middle\" x=\"659.87\" y=\"-328.54\" font-family=\"Times,serif\" font-size=\"14.00\">INPUT_WORK</text>\n<text text-anchor=\"middle\" x=\"659.87\" y=\"-313.54\" font-family=\"Times,serif\" font-size=\"14.00\">pseudo_family</text>\n</g>\n<!-- N90 -->\n<g id=\"node6\" class=\"node\">\n<title>N90</title>\n<ellipse fill=\"#8cd499\" stroke=\"black\" stroke-width=\"0\" cx=\"845.37\" cy=\"-384.61\" rx=\"42.35\" ry=\"26.74\"/>\n<text text-anchor=\"middle\" x=\"845.37\" y=\"-388.41\" font-family=\"Times,serif\" font-size=\"14.00\">Int (90)</text>\n<text text-anchor=\"middle\" x=\"845.37\" y=\"-373.41\" font-family=\"Times,serif\" font-size=\"14.00\">value: 4</text>\n</g>\n<!-- N90&#45;&gt;N91 -->\n<g id=\"edge1\" class=\"edge\">\n<title>N90&#45;&gt;N91</title>\n<path fill=\"none\" stroke=\"#000000\" stroke-dasharray=\"5,2\" d=\"M816.65,-364.72C789.74,-347.86 747.84,-323.74 708.37,-309.74 657.45,-291.69 597.38,-280.65 551.41,-274.22\"/>\n<polygon fill=\"#000000\" stroke=\"#000000\" points=\"551.61,-270.71 541.23,-272.83 550.67,-277.65 551.61,-270.71\"/>\n<text text-anchor=\"middle\" x=\"814.87\" y=\"-328.54\" font-family=\"Times,serif\" font-size=\"14.00\">INPUT_WORK</text>\n<text text-anchor=\"middle\" x=\"814.87\" y=\"-313.54\" font-family=\"Times,serif\" font-size=\"14.00\">nkpoints</text>\n</g>\n<!-- N94&#45;&gt;N95 -->\n<g id=\"edge8\" class=\"edge\">\n<title>N94&#45;&gt;N95</title>\n<path fill=\"none\" stroke=\"#000000\" d=\"M420.41,-119.73C414.04,-114.66 408.41,-108.7 404.37,-101.74 397.87,-90.56 396.34,-76.74 396.86,-64.08\"/>\n<polygon fill=\"#000000\" stroke=\"#000000\" points=\"400.37,-64.07 397.72,-53.81 393.4,-63.48 400.37,-64.07\"/>\n<text text-anchor=\"middle\" x=\"443.37\" y=\"-90.54\" font-family=\"Times,serif\" font-size=\"14.00\">CREATE</text>\n<text text-anchor=\"middle\" x=\"443.37\" y=\"-75.54\" font-family=\"Times,serif\" font-size=\"14.00\">remote_folder</text>\n</g>\n<!-- N94&#45;&gt;N96 -->\n<g id=\"edge13\" class=\"edge\">\n<title>N94&#45;&gt;N96</title>\n<path fill=\"none\" stroke=\"#000000\" d=\"M417.26,-130.62C392.66,-123.56 364.46,-113.93 340.37,-101.74 313.06,-87.92 285.22,-66.94 265.71,-50.87\"/>\n<polygon fill=\"#000000\" stroke=\"#000000\" points=\"267.79,-48.05 257.88,-44.31 263.3,-53.42 267.79,-48.05\"/>\n<text text-anchor=\"middle\" x=\"366.37\" y=\"-90.54\" font-family=\"Times,serif\" font-size=\"14.00\">CREATE</text>\n<text text-anchor=\"middle\" x=\"366.37\" y=\"-75.54\" font-family=\"Times,serif\" font-size=\"14.00\">retrieved</text>\n</g>\n<!-- N94&#45;&gt;N97 -->\n<g id=\"edge16\" class=\"edge\">\n<title>N94&#45;&gt;N97</title>\n<path fill=\"none\" stroke=\"#000000\" d=\"M417.23,-128.43C404.15,-125.22 390.35,-122.12 377.37,-119.74 309.15,-107.22 288.78,-121.7 222.37,-101.74 186.65,-91 149.17,-71.85 121.12,-55.74\"/>\n<polygon fill=\"#000000\" stroke=\"#000000\" points=\"122.77,-52.64 112.37,-50.63 119.24,-58.69 122.77,-52.64\"/>\n<text text-anchor=\"middle\" x=\"256.37\" y=\"-90.54\" font-family=\"Times,serif\" font-size=\"14.00\">CREATE</text>\n<text text-anchor=\"middle\" x=\"256.37\" y=\"-75.54\" font-family=\"Times,serif\" font-size=\"14.00\">output_band</text>\n</g>\n<!-- N94&#45;&gt;N98 -->\n<g id=\"edge11\" class=\"edge\">\n<title>N94&#45;&gt;N98</title>\n<path fill=\"none\" stroke=\"#000000\" d=\"M482.83,-119.64C486.62,-104.26 493.43,-85.14 505.37,-71.74 514.7,-61.27 527.1,-52.98 539.62,-46.56\"/>\n<polygon fill=\"#000000\" stroke=\"#000000\" points=\"541.2,-49.69 548.71,-42.21 538.18,-43.37 541.2,-49.69\"/>\n<text text-anchor=\"middle\" x=\"552.37\" y=\"-90.54\" font-family=\"Times,serif\" font-size=\"14.00\">CREATE</text>\n<text text-anchor=\"middle\" x=\"552.37\" y=\"-75.54\" font-family=\"Times,serif\" font-size=\"14.00\">output_trajectory</text>\n</g>\n<!-- N94&#45;&gt;N99 -->\n<g id=\"edge10\" class=\"edge\">\n<title>N94&#45;&gt;N99</title>\n<path fill=\"none\" stroke=\"#000000\" d=\"M539.42,-126.14C558.93,-119.29 580.39,-110.95 599.37,-101.74 622,-90.76 624.24,-81.65 647.37,-71.74 675.72,-59.59 708.2,-50.21 737.19,-43.31\"/>\n<polygon fill=\"#000000\" stroke=\"#000000\" points=\"738.34,-46.64 747.29,-40.97 736.76,-39.82 738.34,-46.64\"/>\n<text text-anchor=\"middle\" x=\"691.87\" y=\"-90.54\" font-family=\"Times,serif\" font-size=\"14.00\">CREATE</text>\n<text text-anchor=\"middle\" x=\"691.87\" y=\"-75.54\" font-family=\"Times,serif\" font-size=\"14.00\">output_structure</text>\n</g>\n<!-- N94&#45;&gt;N100 -->\n<g id=\"edge18\" class=\"edge\">\n<title>N94&#45;&gt;N100</title>\n<path fill=\"none\" stroke=\"#000000\" d=\"M539.44,-136.74C591.93,-129.01 669.51,-116.56 736.37,-101.74 814.69,-84.38 833.56,-76.9 910.37,-53.74 921.8,-50.29 934.1,-46.37 945.51,-42.64\"/>\n<polygon fill=\"#000000\" stroke=\"#000000\" points=\"946.86,-45.88 955.26,-39.43 944.67,-39.23 946.86,-45.88\"/>\n<text text-anchor=\"middle\" x=\"901.37\" y=\"-90.54\" font-family=\"Times,serif\" font-size=\"14.00\">CREATE</text>\n<text text-anchor=\"middle\" x=\"901.37\" y=\"-75.54\" font-family=\"Times,serif\" font-size=\"14.00\">output_parameters</text>\n</g>\n</g>\n</svg>\n",
      "text/plain": [
       "<graphviz.graphs.Digraph at 0x15cb61250>"
      ]
     },
     "execution_count": 5,
     "metadata": {},
     "output_type": "execute_result"
    }
   ],
   "source": [
    "graph = Graph()\n",
    "graph.recurse_ancestors(output.node, annotate_links=\"both\")\n",
    "graph.recurse_descendants(output.node, annotate_links=\"both\")\n",
    "graph.graphviz"
   ]
  },
  {
   "cell_type": "code",
   "execution_count": null,
   "metadata": {},
   "outputs": [],
   "source": []
  }
 ],
 "metadata": {
  "kernelspec": {
   "display_name": "Python 3.9.13 ('aiida-qe-demo')",
   "language": "python",
   "name": "python3"
  },
  "language_info": {
   "codemirror_mode": {
    "name": "ipython",
    "version": 3
   },
   "file_extension": ".py",
   "mimetype": "text/x-python",
   "name": "python",
   "nbconvert_exporter": "python",
   "pygments_lexer": "ipython3",
   "version": "3.9.13"
  },
  "orig_nbformat": 4,
  "vscode": {
   "interpreter": {
    "hash": "20c30adb377910d9d5c8112cf74e9f7ecb37538254a701570d770f074373c53e"
   }
  }
 },
 "nbformat": 4,
 "nbformat_minor": 2
}
